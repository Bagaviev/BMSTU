{
 "cells": [
  {
   "cell_type": "markdown",
   "metadata": {},
   "source": [
    "### Обработка пропусков в числовых данных"
   ]
  },
  {
   "cell_type": "code",
   "execution_count": null,
   "metadata": {
    "collapsed": true
   },
   "outputs": [],
   "source": [
    "# page_id | The unique identifier for that characters page within the wikia \n",
    "# name | The name of the character \n",
    "# urlslug | The unique url within the wikia that takes you to the character \n",
    "# ID | The identity status of the character (Secret Identity, Public identity, [on marvel only: No Dual Identity]) \n",
    "# ALIGN | If the character is Good, Bad or Neutral \n",
    "# EYE | Eye color of the character \n",
    "# HAIR | Hair color of the character \n",
    "# SEX | Sex of the character (e.g. Male, Female, etc.) \n",
    "# GSM | If the character is a gender or sexual minority (e.g. Homosexual characters, bisexual characters) \n",
    "# ALIVE | If the character is alive or deceased \n",
    "# APPEARANCES | The number of appareances of the character in comic books (as of Sep. 2, 2014. Number will become increasingly out of date as time goes on.) \n",
    "# FIRST APPEARANCE | The month and year of the character's first appearance in a comic book, if available \n",
    "# YEAR | The year of the character's first appearance in a comic book, if available"
   ]
  },
  {
   "cell_type": "code",
   "execution_count": 3,
   "metadata": {
    "collapsed": true,
    "scrolled": true
   },
   "outputs": [],
   "source": [
    "import numpy as np\n",
    "import pandas as pd\n",
    "import seaborn as sns\n",
    "import matplotlib.pyplot as plt\n",
    "%matplotlib inline \n",
    "sns.set(style=\"ticks\")"
   ]
  },
  {
   "cell_type": "code",
   "execution_count": 4,
   "metadata": {},
   "outputs": [
    {
     "data": {
      "text/html": [
       "<style>.container { width:90% !important; }</style>"
      ],
      "text/plain": [
       "<IPython.core.display.HTML object>"
      ]
     },
     "metadata": {},
     "output_type": "display_data"
    }
   ],
   "source": [
    "from IPython.core.display import display, HTML\n",
    "display(HTML(\"<style>.container { width:90% !important; }</style>\"))"
   ]
  },
  {
   "cell_type": "code",
   "execution_count": 5,
   "metadata": {
    "collapsed": true
   },
   "outputs": [],
   "source": [
    "data = pd.read_csv('marvel-wikia-data.csv', sep=\",\")"
   ]
  },
  {
   "cell_type": "code",
   "execution_count": 10,
   "metadata": {
    "scrolled": true
   },
   "outputs": [
    {
     "data": {
      "text/html": [
       "<div>\n",
       "<style scoped>\n",
       "    .dataframe tbody tr th:only-of-type {\n",
       "        vertical-align: middle;\n",
       "    }\n",
       "\n",
       "    .dataframe tbody tr th {\n",
       "        vertical-align: top;\n",
       "    }\n",
       "\n",
       "    .dataframe thead th {\n",
       "        text-align: right;\n",
       "    }\n",
       "</style>\n",
       "<table border=\"1\" class=\"dataframe\">\n",
       "  <thead>\n",
       "    <tr style=\"text-align: right;\">\n",
       "      <th></th>\n",
       "      <th>page_id</th>\n",
       "      <th>name</th>\n",
       "      <th>urlslug</th>\n",
       "      <th>ID</th>\n",
       "      <th>ALIGN</th>\n",
       "      <th>EYE</th>\n",
       "      <th>HAIR</th>\n",
       "      <th>SEX</th>\n",
       "      <th>GSM</th>\n",
       "      <th>ALIVE</th>\n",
       "      <th>APPEARANCES</th>\n",
       "      <th>FIRST APPEARANCE</th>\n",
       "      <th>Year</th>\n",
       "    </tr>\n",
       "  </thead>\n",
       "  <tbody>\n",
       "    <tr>\n",
       "      <th>0</th>\n",
       "      <td>1678</td>\n",
       "      <td>Spider-Man (Peter Parker)</td>\n",
       "      <td>\\/Spider-Man_(Peter_Parker)</td>\n",
       "      <td>Secret Identity</td>\n",
       "      <td>Good Characters</td>\n",
       "      <td>Hazel Eyes</td>\n",
       "      <td>Brown Hair</td>\n",
       "      <td>Male Characters</td>\n",
       "      <td>NaN</td>\n",
       "      <td>Living Characters</td>\n",
       "      <td>4043.0</td>\n",
       "      <td>Aug-62</td>\n",
       "      <td>1962.0</td>\n",
       "    </tr>\n",
       "    <tr>\n",
       "      <th>1</th>\n",
       "      <td>7139</td>\n",
       "      <td>Captain America (Steven Rogers)</td>\n",
       "      <td>\\/Captain_America_(Steven_Rogers)</td>\n",
       "      <td>Public Identity</td>\n",
       "      <td>Good Characters</td>\n",
       "      <td>Blue Eyes</td>\n",
       "      <td>White Hair</td>\n",
       "      <td>Male Characters</td>\n",
       "      <td>NaN</td>\n",
       "      <td>Living Characters</td>\n",
       "      <td>3360.0</td>\n",
       "      <td>Mar-41</td>\n",
       "      <td>1941.0</td>\n",
       "    </tr>\n",
       "    <tr>\n",
       "      <th>2</th>\n",
       "      <td>64786</td>\n",
       "      <td>Wolverine (James \\\"Logan\\\" Howlett)</td>\n",
       "      <td>\\/Wolverine_(James_%22Logan%22_Howlett)</td>\n",
       "      <td>Public Identity</td>\n",
       "      <td>Neutral Characters</td>\n",
       "      <td>Blue Eyes</td>\n",
       "      <td>Black Hair</td>\n",
       "      <td>Male Characters</td>\n",
       "      <td>NaN</td>\n",
       "      <td>Living Characters</td>\n",
       "      <td>3061.0</td>\n",
       "      <td>Oct-74</td>\n",
       "      <td>1974.0</td>\n",
       "    </tr>\n",
       "    <tr>\n",
       "      <th>3</th>\n",
       "      <td>1868</td>\n",
       "      <td>Iron Man (Anthony \\\"Tony\\\" Stark)</td>\n",
       "      <td>\\/Iron_Man_(Anthony_%22Tony%22_Stark)</td>\n",
       "      <td>Public Identity</td>\n",
       "      <td>Good Characters</td>\n",
       "      <td>Blue Eyes</td>\n",
       "      <td>Black Hair</td>\n",
       "      <td>Male Characters</td>\n",
       "      <td>NaN</td>\n",
       "      <td>Living Characters</td>\n",
       "      <td>2961.0</td>\n",
       "      <td>Mar-63</td>\n",
       "      <td>1963.0</td>\n",
       "    </tr>\n",
       "    <tr>\n",
       "      <th>4</th>\n",
       "      <td>2460</td>\n",
       "      <td>Thor (Thor Odinson)</td>\n",
       "      <td>\\/Thor_(Thor_Odinson)</td>\n",
       "      <td>No Dual Identity</td>\n",
       "      <td>Good Characters</td>\n",
       "      <td>Blue Eyes</td>\n",
       "      <td>Blond Hair</td>\n",
       "      <td>Male Characters</td>\n",
       "      <td>NaN</td>\n",
       "      <td>Living Characters</td>\n",
       "      <td>2258.0</td>\n",
       "      <td>Nov-50</td>\n",
       "      <td>1950.0</td>\n",
       "    </tr>\n",
       "  </tbody>\n",
       "</table>\n",
       "</div>"
      ],
      "text/plain": [
       "   page_id                                 name  \\\n",
       "0     1678            Spider-Man (Peter Parker)   \n",
       "1     7139      Captain America (Steven Rogers)   \n",
       "2    64786  Wolverine (James \\\"Logan\\\" Howlett)   \n",
       "3     1868    Iron Man (Anthony \\\"Tony\\\" Stark)   \n",
       "4     2460                  Thor (Thor Odinson)   \n",
       "\n",
       "                                   urlslug                ID  \\\n",
       "0              \\/Spider-Man_(Peter_Parker)   Secret Identity   \n",
       "1        \\/Captain_America_(Steven_Rogers)   Public Identity   \n",
       "2  \\/Wolverine_(James_%22Logan%22_Howlett)   Public Identity   \n",
       "3    \\/Iron_Man_(Anthony_%22Tony%22_Stark)   Public Identity   \n",
       "4                    \\/Thor_(Thor_Odinson)  No Dual Identity   \n",
       "\n",
       "                ALIGN         EYE        HAIR              SEX  GSM  \\\n",
       "0     Good Characters  Hazel Eyes  Brown Hair  Male Characters  NaN   \n",
       "1     Good Characters   Blue Eyes  White Hair  Male Characters  NaN   \n",
       "2  Neutral Characters   Blue Eyes  Black Hair  Male Characters  NaN   \n",
       "3     Good Characters   Blue Eyes  Black Hair  Male Characters  NaN   \n",
       "4     Good Characters   Blue Eyes  Blond Hair  Male Characters  NaN   \n",
       "\n",
       "               ALIVE  APPEARANCES FIRST APPEARANCE    Year  \n",
       "0  Living Characters       4043.0           Aug-62  1962.0  \n",
       "1  Living Characters       3360.0           Mar-41  1941.0  \n",
       "2  Living Characters       3061.0           Oct-74  1974.0  \n",
       "3  Living Characters       2961.0           Mar-63  1963.0  \n",
       "4  Living Characters       2258.0           Nov-50  1950.0  "
      ]
     },
     "execution_count": 10,
     "metadata": {},
     "output_type": "execute_result"
    }
   ],
   "source": [
    "data.head(5)"
   ]
  },
  {
   "cell_type": "code",
   "execution_count": 12,
   "metadata": {},
   "outputs": [
    {
     "data": {
      "text/plain": [
       "(16376, 13)"
      ]
     },
     "execution_count": 12,
     "metadata": {},
     "output_type": "execute_result"
    }
   ],
   "source": [
    "data.shape"
   ]
  },
  {
   "cell_type": "code",
   "execution_count": 28,
   "metadata": {},
   "outputs": [
    {
     "data": {
      "text/plain": [
       "page_id               int64\n",
       "name                 object\n",
       "urlslug              object\n",
       "ID                   object\n",
       "ALIGN                object\n",
       "EYE                  object\n",
       "HAIR                 object\n",
       "SEX                  object\n",
       "GSM                  object\n",
       "ALIVE                object\n",
       "APPEARANCES         float64\n",
       "FIRST APPEARANCE     object\n",
       "Year                float64\n",
       "dtype: object"
      ]
     },
     "execution_count": 28,
     "metadata": {},
     "output_type": "execute_result"
    }
   ],
   "source": [
    "# типы колонок\n",
    "data.dtypes"
   ]
  },
  {
   "cell_type": "code",
   "execution_count": 11,
   "metadata": {},
   "outputs": [
    {
     "data": {
      "text/plain": [
       "page_id                 0\n",
       "name                    0\n",
       "urlslug                 0\n",
       "ID                   3770\n",
       "ALIGN                2812\n",
       "EYE                  9767\n",
       "HAIR                 4264\n",
       "SEX                   854\n",
       "GSM                 16286\n",
       "ALIVE                   3\n",
       "APPEARANCES          1096\n",
       "FIRST APPEARANCE      815\n",
       "Year                  815\n",
       "dtype: int64"
      ]
     },
     "execution_count": 11,
     "metadata": {},
     "output_type": "execute_result"
    }
   ],
   "source": [
    "data.isnull().sum()"
   ]
  },
  {
   "cell_type": "code",
   "execution_count": 13,
   "metadata": {},
   "outputs": [
    {
     "data": {
      "text/plain": [
       "((16376, 13), (16376, 3))"
      ]
     },
     "execution_count": 13,
     "metadata": {},
     "output_type": "execute_result"
    }
   ],
   "source": [
    "# Удаление колонок, содержащих пустые значения\n",
    "data_new_1 = data.dropna(axis=1, how='any')\n",
    "(data.shape, data_new_1.shape)"
   ]
  },
  {
   "cell_type": "code",
   "execution_count": 21,
   "metadata": {},
   "outputs": [
    {
     "data": {
      "text/html": [
       "<div>\n",
       "<style scoped>\n",
       "    .dataframe tbody tr th:only-of-type {\n",
       "        vertical-align: middle;\n",
       "    }\n",
       "\n",
       "    .dataframe tbody tr th {\n",
       "        vertical-align: top;\n",
       "    }\n",
       "\n",
       "    .dataframe thead th {\n",
       "        text-align: right;\n",
       "    }\n",
       "</style>\n",
       "<table border=\"1\" class=\"dataframe\">\n",
       "  <thead>\n",
       "    <tr style=\"text-align: right;\">\n",
       "      <th></th>\n",
       "      <th>page_id</th>\n",
       "      <th>name</th>\n",
       "      <th>urlslug</th>\n",
       "    </tr>\n",
       "  </thead>\n",
       "  <tbody>\n",
       "    <tr>\n",
       "      <th>0</th>\n",
       "      <td>1678</td>\n",
       "      <td>Spider-Man (Peter Parker)</td>\n",
       "      <td>\\/Spider-Man_(Peter_Parker)</td>\n",
       "    </tr>\n",
       "    <tr>\n",
       "      <th>1</th>\n",
       "      <td>7139</td>\n",
       "      <td>Captain America (Steven Rogers)</td>\n",
       "      <td>\\/Captain_America_(Steven_Rogers)</td>\n",
       "    </tr>\n",
       "    <tr>\n",
       "      <th>2</th>\n",
       "      <td>64786</td>\n",
       "      <td>Wolverine (James \\\"Logan\\\" Howlett)</td>\n",
       "      <td>\\/Wolverine_(James_%22Logan%22_Howlett)</td>\n",
       "    </tr>\n",
       "    <tr>\n",
       "      <th>3</th>\n",
       "      <td>1868</td>\n",
       "      <td>Iron Man (Anthony \\\"Tony\\\" Stark)</td>\n",
       "      <td>\\/Iron_Man_(Anthony_%22Tony%22_Stark)</td>\n",
       "    </tr>\n",
       "    <tr>\n",
       "      <th>4</th>\n",
       "      <td>2460</td>\n",
       "      <td>Thor (Thor Odinson)</td>\n",
       "      <td>\\/Thor_(Thor_Odinson)</td>\n",
       "    </tr>\n",
       "  </tbody>\n",
       "</table>\n",
       "</div>"
      ],
      "text/plain": [
       "   page_id                                 name  \\\n",
       "0     1678            Spider-Man (Peter Parker)   \n",
       "1     7139      Captain America (Steven Rogers)   \n",
       "2    64786  Wolverine (James \\\"Logan\\\" Howlett)   \n",
       "3     1868    Iron Man (Anthony \\\"Tony\\\" Stark)   \n",
       "4     2460                  Thor (Thor Odinson)   \n",
       "\n",
       "                                   urlslug  \n",
       "0              \\/Spider-Man_(Peter_Parker)  \n",
       "1        \\/Captain_America_(Steven_Rogers)  \n",
       "2  \\/Wolverine_(James_%22Logan%22_Howlett)  \n",
       "3    \\/Iron_Man_(Anthony_%22Tony%22_Stark)  \n",
       "4                    \\/Thor_(Thor_Odinson)  "
      ]
     },
     "execution_count": 21,
     "metadata": {},
     "output_type": "execute_result"
    }
   ],
   "source": [
    "data_new_1.head(5)"
   ]
  },
  {
   "cell_type": "code",
   "execution_count": 18,
   "metadata": {},
   "outputs": [
    {
     "data": {
      "text/plain": [
       "((16376, 13), (58, 13))"
      ]
     },
     "execution_count": 18,
     "metadata": {},
     "output_type": "execute_result"
    }
   ],
   "source": [
    "data_new_2 = data.dropna(axis=0, how='any')\n",
    "(data.shape, data_new_2.shape)"
   ]
  },
  {
   "cell_type": "code",
   "execution_count": 20,
   "metadata": {},
   "outputs": [
    {
     "data": {
      "text/html": [
       "<div>\n",
       "<style scoped>\n",
       "    .dataframe tbody tr th:only-of-type {\n",
       "        vertical-align: middle;\n",
       "    }\n",
       "\n",
       "    .dataframe tbody tr th {\n",
       "        vertical-align: top;\n",
       "    }\n",
       "\n",
       "    .dataframe thead th {\n",
       "        text-align: right;\n",
       "    }\n",
       "</style>\n",
       "<table border=\"1\" class=\"dataframe\">\n",
       "  <thead>\n",
       "    <tr style=\"text-align: right;\">\n",
       "      <th></th>\n",
       "      <th>page_id</th>\n",
       "      <th>name</th>\n",
       "      <th>urlslug</th>\n",
       "      <th>ID</th>\n",
       "      <th>ALIGN</th>\n",
       "      <th>EYE</th>\n",
       "      <th>HAIR</th>\n",
       "      <th>SEX</th>\n",
       "      <th>GSM</th>\n",
       "      <th>ALIVE</th>\n",
       "      <th>APPEARANCES</th>\n",
       "      <th>FIRST APPEARANCE</th>\n",
       "      <th>Year</th>\n",
       "    </tr>\n",
       "  </thead>\n",
       "  <tbody>\n",
       "    <tr>\n",
       "      <th>28</th>\n",
       "      <td>6545</td>\n",
       "      <td>Natalia Romanova (Earth-616)</td>\n",
       "      <td>\\/Natalia_Romanova_(Earth-616)</td>\n",
       "      <td>Public Identity</td>\n",
       "      <td>Good Characters</td>\n",
       "      <td>Green Eyes</td>\n",
       "      <td>Red Hair</td>\n",
       "      <td>Female Characters</td>\n",
       "      <td>Bisexual Characters</td>\n",
       "      <td>Living Characters</td>\n",
       "      <td>1050.0</td>\n",
       "      <td>Apr-64</td>\n",
       "      <td>1964.0</td>\n",
       "    </tr>\n",
       "    <tr>\n",
       "      <th>42</th>\n",
       "      <td>1818</td>\n",
       "      <td>Hercules (Earth-616)</td>\n",
       "      <td>\\/Hercules_(Earth-616)</td>\n",
       "      <td>No Dual Identity</td>\n",
       "      <td>Good Characters</td>\n",
       "      <td>Blue Eyes</td>\n",
       "      <td>Brown Hair</td>\n",
       "      <td>Male Characters</td>\n",
       "      <td>Bisexual Characters</td>\n",
       "      <td>Living Characters</td>\n",
       "      <td>725.0</td>\n",
       "      <td>Oct-65</td>\n",
       "      <td>1965.0</td>\n",
       "    </tr>\n",
       "    <tr>\n",
       "      <th>45</th>\n",
       "      <td>2307</td>\n",
       "      <td>Elizabeth Braddock (Earth-616)</td>\n",
       "      <td>\\/Elizabeth_Braddock_(Earth-616)</td>\n",
       "      <td>Secret Identity</td>\n",
       "      <td>Neutral Characters</td>\n",
       "      <td>Blue Eyes</td>\n",
       "      <td>Purple Hair</td>\n",
       "      <td>Female Characters</td>\n",
       "      <td>Bisexual Characters</td>\n",
       "      <td>Living Characters</td>\n",
       "      <td>708.0</td>\n",
       "      <td>Dec-76</td>\n",
       "      <td>1976.0</td>\n",
       "    </tr>\n",
       "    <tr>\n",
       "      <th>61</th>\n",
       "      <td>2042</td>\n",
       "      <td>Loki Laufeyson (Earth-616)</td>\n",
       "      <td>\\/Loki_Laufeyson_(Earth-616)</td>\n",
       "      <td>No Dual Identity</td>\n",
       "      <td>Neutral Characters</td>\n",
       "      <td>Green Eyes</td>\n",
       "      <td>Black Hair</td>\n",
       "      <td>Genderfluid Characters</td>\n",
       "      <td>Bisexual Characters</td>\n",
       "      <td>Living Characters</td>\n",
       "      <td>532.0</td>\n",
       "      <td>Aug-49</td>\n",
       "      <td>1949.0</td>\n",
       "    </tr>\n",
       "    <tr>\n",
       "      <th>71</th>\n",
       "      <td>1409</td>\n",
       "      <td>Deadpool (Wade Wilson)</td>\n",
       "      <td>\\/Deadpool_(Wade_Wilson)</td>\n",
       "      <td>Secret Identity</td>\n",
       "      <td>Neutral Characters</td>\n",
       "      <td>Brown Eyes</td>\n",
       "      <td>Bald</td>\n",
       "      <td>Male Characters</td>\n",
       "      <td>Transvestites</td>\n",
       "      <td>Living Characters</td>\n",
       "      <td>500.0</td>\n",
       "      <td>Feb-91</td>\n",
       "      <td>1991.0</td>\n",
       "    </tr>\n",
       "  </tbody>\n",
       "</table>\n",
       "</div>"
      ],
      "text/plain": [
       "    page_id                            name                           urlslug  \\\n",
       "28     6545    Natalia Romanova (Earth-616)    \\/Natalia_Romanova_(Earth-616)   \n",
       "42     1818            Hercules (Earth-616)            \\/Hercules_(Earth-616)   \n",
       "45     2307  Elizabeth Braddock (Earth-616)  \\/Elizabeth_Braddock_(Earth-616)   \n",
       "61     2042      Loki Laufeyson (Earth-616)      \\/Loki_Laufeyson_(Earth-616)   \n",
       "71     1409          Deadpool (Wade Wilson)          \\/Deadpool_(Wade_Wilson)   \n",
       "\n",
       "                  ID               ALIGN         EYE         HAIR  \\\n",
       "28   Public Identity     Good Characters  Green Eyes     Red Hair   \n",
       "42  No Dual Identity     Good Characters   Blue Eyes   Brown Hair   \n",
       "45   Secret Identity  Neutral Characters   Blue Eyes  Purple Hair   \n",
       "61  No Dual Identity  Neutral Characters  Green Eyes   Black Hair   \n",
       "71   Secret Identity  Neutral Characters  Brown Eyes         Bald   \n",
       "\n",
       "                       SEX                  GSM              ALIVE  \\\n",
       "28       Female Characters  Bisexual Characters  Living Characters   \n",
       "42         Male Characters  Bisexual Characters  Living Characters   \n",
       "45       Female Characters  Bisexual Characters  Living Characters   \n",
       "61  Genderfluid Characters  Bisexual Characters  Living Characters   \n",
       "71         Male Characters        Transvestites  Living Characters   \n",
       "\n",
       "    APPEARANCES FIRST APPEARANCE    Year  \n",
       "28       1050.0           Apr-64  1964.0  \n",
       "42        725.0           Oct-65  1965.0  \n",
       "45        708.0           Dec-76  1976.0  \n",
       "61        532.0           Aug-49  1949.0  \n",
       "71        500.0           Feb-91  1991.0  "
      ]
     },
     "execution_count": 20,
     "metadata": {},
     "output_type": "execute_result"
    }
   ],
   "source": [
    "data_new_2.head(5)"
   ]
  },
  {
   "cell_type": "code",
   "execution_count": 24,
   "metadata": {
    "scrolled": true
   },
   "outputs": [
    {
     "name": "stdout",
     "output_type": "stream",
     "text": [
      "(16376, 13) (16376, 13)\n"
     ]
    },
    {
     "data": {
      "text/html": [
       "<div>\n",
       "<style scoped>\n",
       "    .dataframe tbody tr th:only-of-type {\n",
       "        vertical-align: middle;\n",
       "    }\n",
       "\n",
       "    .dataframe tbody tr th {\n",
       "        vertical-align: top;\n",
       "    }\n",
       "\n",
       "    .dataframe thead th {\n",
       "        text-align: right;\n",
       "    }\n",
       "</style>\n",
       "<table border=\"1\" class=\"dataframe\">\n",
       "  <thead>\n",
       "    <tr style=\"text-align: right;\">\n",
       "      <th></th>\n",
       "      <th>page_id</th>\n",
       "      <th>name</th>\n",
       "      <th>urlslug</th>\n",
       "      <th>ID</th>\n",
       "      <th>ALIGN</th>\n",
       "      <th>EYE</th>\n",
       "      <th>HAIR</th>\n",
       "      <th>SEX</th>\n",
       "      <th>GSM</th>\n",
       "      <th>ALIVE</th>\n",
       "      <th>APPEARANCES</th>\n",
       "      <th>FIRST APPEARANCE</th>\n",
       "      <th>Year</th>\n",
       "    </tr>\n",
       "  </thead>\n",
       "  <tbody>\n",
       "    <tr>\n",
       "      <th>0</th>\n",
       "      <td>1678</td>\n",
       "      <td>Spider-Man (Peter Parker)</td>\n",
       "      <td>\\/Spider-Man_(Peter_Parker)</td>\n",
       "      <td>Secret Identity</td>\n",
       "      <td>Good Characters</td>\n",
       "      <td>Hazel Eyes</td>\n",
       "      <td>Brown Hair</td>\n",
       "      <td>Male Characters</td>\n",
       "      <td>0</td>\n",
       "      <td>Living Characters</td>\n",
       "      <td>4043.0</td>\n",
       "      <td>Aug-62</td>\n",
       "      <td>1962.0</td>\n",
       "    </tr>\n",
       "    <tr>\n",
       "      <th>1</th>\n",
       "      <td>7139</td>\n",
       "      <td>Captain America (Steven Rogers)</td>\n",
       "      <td>\\/Captain_America_(Steven_Rogers)</td>\n",
       "      <td>Public Identity</td>\n",
       "      <td>Good Characters</td>\n",
       "      <td>Blue Eyes</td>\n",
       "      <td>White Hair</td>\n",
       "      <td>Male Characters</td>\n",
       "      <td>0</td>\n",
       "      <td>Living Characters</td>\n",
       "      <td>3360.0</td>\n",
       "      <td>Mar-41</td>\n",
       "      <td>1941.0</td>\n",
       "    </tr>\n",
       "    <tr>\n",
       "      <th>2</th>\n",
       "      <td>64786</td>\n",
       "      <td>Wolverine (James \\\"Logan\\\" Howlett)</td>\n",
       "      <td>\\/Wolverine_(James_%22Logan%22_Howlett)</td>\n",
       "      <td>Public Identity</td>\n",
       "      <td>Neutral Characters</td>\n",
       "      <td>Blue Eyes</td>\n",
       "      <td>Black Hair</td>\n",
       "      <td>Male Characters</td>\n",
       "      <td>0</td>\n",
       "      <td>Living Characters</td>\n",
       "      <td>3061.0</td>\n",
       "      <td>Oct-74</td>\n",
       "      <td>1974.0</td>\n",
       "    </tr>\n",
       "    <tr>\n",
       "      <th>3</th>\n",
       "      <td>1868</td>\n",
       "      <td>Iron Man (Anthony \\\"Tony\\\" Stark)</td>\n",
       "      <td>\\/Iron_Man_(Anthony_%22Tony%22_Stark)</td>\n",
       "      <td>Public Identity</td>\n",
       "      <td>Good Characters</td>\n",
       "      <td>Blue Eyes</td>\n",
       "      <td>Black Hair</td>\n",
       "      <td>Male Characters</td>\n",
       "      <td>0</td>\n",
       "      <td>Living Characters</td>\n",
       "      <td>2961.0</td>\n",
       "      <td>Mar-63</td>\n",
       "      <td>1963.0</td>\n",
       "    </tr>\n",
       "    <tr>\n",
       "      <th>4</th>\n",
       "      <td>2460</td>\n",
       "      <td>Thor (Thor Odinson)</td>\n",
       "      <td>\\/Thor_(Thor_Odinson)</td>\n",
       "      <td>No Dual Identity</td>\n",
       "      <td>Good Characters</td>\n",
       "      <td>Blue Eyes</td>\n",
       "      <td>Blond Hair</td>\n",
       "      <td>Male Characters</td>\n",
       "      <td>0</td>\n",
       "      <td>Living Characters</td>\n",
       "      <td>2258.0</td>\n",
       "      <td>Nov-50</td>\n",
       "      <td>1950.0</td>\n",
       "    </tr>\n",
       "  </tbody>\n",
       "</table>\n",
       "</div>"
      ],
      "text/plain": [
       "   page_id                                 name  \\\n",
       "0     1678            Spider-Man (Peter Parker)   \n",
       "1     7139      Captain America (Steven Rogers)   \n",
       "2    64786  Wolverine (James \\\"Logan\\\" Howlett)   \n",
       "3     1868    Iron Man (Anthony \\\"Tony\\\" Stark)   \n",
       "4     2460                  Thor (Thor Odinson)   \n",
       "\n",
       "                                   urlslug                ID  \\\n",
       "0              \\/Spider-Man_(Peter_Parker)   Secret Identity   \n",
       "1        \\/Captain_America_(Steven_Rogers)   Public Identity   \n",
       "2  \\/Wolverine_(James_%22Logan%22_Howlett)   Public Identity   \n",
       "3    \\/Iron_Man_(Anthony_%22Tony%22_Stark)   Public Identity   \n",
       "4                    \\/Thor_(Thor_Odinson)  No Dual Identity   \n",
       "\n",
       "                ALIGN         EYE        HAIR              SEX GSM  \\\n",
       "0     Good Characters  Hazel Eyes  Brown Hair  Male Characters   0   \n",
       "1     Good Characters   Blue Eyes  White Hair  Male Characters   0   \n",
       "2  Neutral Characters   Blue Eyes  Black Hair  Male Characters   0   \n",
       "3     Good Characters   Blue Eyes  Black Hair  Male Characters   0   \n",
       "4     Good Characters   Blue Eyes  Blond Hair  Male Characters   0   \n",
       "\n",
       "               ALIVE  APPEARANCES FIRST APPEARANCE    Year  \n",
       "0  Living Characters       4043.0           Aug-62  1962.0  \n",
       "1  Living Characters       3360.0           Mar-41  1941.0  \n",
       "2  Living Characters       3061.0           Oct-74  1974.0  \n",
       "3  Living Characters       2961.0           Mar-63  1963.0  \n",
       "4  Living Characters       2258.0           Nov-50  1950.0  "
      ]
     },
     "execution_count": 24,
     "metadata": {},
     "output_type": "execute_result"
    }
   ],
   "source": [
    "data_new_3 = data.fillna(0)\n",
    "print(data.shape, data_new_3.shape)\n",
    "data_new_3.head()"
   ]
  },
  {
   "cell_type": "code",
   "execution_count": 8,
   "metadata": {},
   "outputs": [
    {
     "name": "stdout",
     "output_type": "stream",
     "text": [
      "Всего строк: 16376\n"
     ]
    }
   ],
   "source": [
    "total_count = data.shape[0]\n",
    "print('Всего строк: {}'.format(total_count))"
   ]
  },
  {
   "cell_type": "code",
   "execution_count": 29,
   "metadata": {},
   "outputs": [
    {
     "name": "stdout",
     "output_type": "stream",
     "text": [
      "Колонка ID. Тип данных object. Количество пустых значений 3770, 23.02%.\n",
      "Колонка ALIGN. Тип данных object. Количество пустых значений 2812, 17.17%.\n",
      "Колонка EYE. Тип данных object. Количество пустых значений 9767, 59.64%.\n",
      "Колонка HAIR. Тип данных object. Количество пустых значений 4264, 26.04%.\n",
      "Колонка SEX. Тип данных object. Количество пустых значений 854, 5.21%.\n",
      "Колонка GSM. Тип данных object. Количество пустых значений 16286, 99.45%.\n",
      "Колонка ALIVE. Тип данных object. Количество пустых значений 3, 0.02%.\n",
      "Колонка APPEARANCES. Тип данных float64. Количество пустых значений 1096, 6.69%.\n",
      "Колонка FIRST APPEARANCE. Тип данных object. Количество пустых значений 815, 4.98%.\n",
      "Колонка Year. Тип данных float64. Количество пустых значений 815, 4.98%.\n"
     ]
    }
   ],
   "source": [
    "# Выберем числовые колонки с пропущенными значениями\n",
    "# Цикл по колонкам датасета\n",
    "num_cols = []\n",
    "for col in data.columns:\n",
    "    # Количество пустых значений \n",
    "    temp_null_count = data[data[col].isnull()].shape[0]\n",
    "    dt = str(data[col].dtype)\n",
    "    if temp_null_count>0: #and (dt=='float64' or dt=='int64'):\n",
    "        num_cols.append(col)\n",
    "        temp_perc = round((temp_null_count / total_count) * 100.0, 2)\n",
    "        print('Колонка {}. Тип данных {}. Количество пустых значений {}, {}%.'.format(col, dt, temp_null_count, temp_perc))"
   ]
  },
  {
   "cell_type": "code",
   "execution_count": 6,
   "metadata": {},
   "outputs": [
    {
     "name": "stdout",
     "output_type": "stream",
     "text": [
      "Колонка APPEARANCES. Тип данных float64. Количество пустых значений 1096, 6.69%.\n",
      "Колонка Year. Тип данных float64. Количество пустых значений 815, 4.98%.\n"
     ]
    }
   ],
   "source": [
    "# Выберем числовые колонки с пропущенными значениями\n",
    "# Цикл по колонкам датасета\n",
    "num_cols = []\n",
    "for col in data.columns:\n",
    "    # Количество пустых значений \n",
    "    temp_null_count = data[data[col].isnull()].shape[0]\n",
    "    dt = str(data[col].dtype)\n",
    "    if temp_null_count>0 and (dt=='float64' or dt=='int64'):\n",
    "        num_cols.append(col)\n",
    "        temp_perc = round((temp_null_count / total_count) * 100.0, 2)\n",
    "        print('Колонка {}. Тип данных {}. Количество пустых значений {}, {}%.'.format(col, dt, temp_null_count, temp_perc))"
   ]
  },
  {
   "cell_type": "code",
   "execution_count": 7,
   "metadata": {},
   "outputs": [
    {
     "data": {
      "text/html": [
       "<div>\n",
       "<style scoped>\n",
       "    .dataframe tbody tr th:only-of-type {\n",
       "        vertical-align: middle;\n",
       "    }\n",
       "\n",
       "    .dataframe tbody tr th {\n",
       "        vertical-align: top;\n",
       "    }\n",
       "\n",
       "    .dataframe thead th {\n",
       "        text-align: right;\n",
       "    }\n",
       "</style>\n",
       "<table border=\"1\" class=\"dataframe\">\n",
       "  <thead>\n",
       "    <tr style=\"text-align: right;\">\n",
       "      <th></th>\n",
       "      <th>APPEARANCES</th>\n",
       "      <th>Year</th>\n",
       "    </tr>\n",
       "  </thead>\n",
       "  <tbody>\n",
       "    <tr>\n",
       "      <th>0</th>\n",
       "      <td>4043.0</td>\n",
       "      <td>1962.0</td>\n",
       "    </tr>\n",
       "    <tr>\n",
       "      <th>1</th>\n",
       "      <td>3360.0</td>\n",
       "      <td>1941.0</td>\n",
       "    </tr>\n",
       "    <tr>\n",
       "      <th>2</th>\n",
       "      <td>3061.0</td>\n",
       "      <td>1974.0</td>\n",
       "    </tr>\n",
       "    <tr>\n",
       "      <th>3</th>\n",
       "      <td>2961.0</td>\n",
       "      <td>1963.0</td>\n",
       "    </tr>\n",
       "    <tr>\n",
       "      <th>4</th>\n",
       "      <td>2258.0</td>\n",
       "      <td>1950.0</td>\n",
       "    </tr>\n",
       "  </tbody>\n",
       "</table>\n",
       "</div>"
      ],
      "text/plain": [
       "   APPEARANCES    Year\n",
       "0       4043.0  1962.0\n",
       "1       3360.0  1941.0\n",
       "2       3061.0  1974.0\n",
       "3       2961.0  1963.0\n",
       "4       2258.0  1950.0"
      ]
     },
     "execution_count": 7,
     "metadata": {},
     "output_type": "execute_result"
    }
   ],
   "source": [
    "data_num = data[num_cols]\n",
    "data_num.head(5)"
   ]
  },
  {
   "cell_type": "code",
   "execution_count": 54,
   "metadata": {
    "scrolled": true
   },
   "outputs": [
    {
     "data": {
      "image/png": "[encoded data removed]",
      "text/plain": [
       "<matplotlib.figure.Figure at 0x27a23ebbb00>"
      ]
     },
     "metadata": {},
     "output_type": "display_data"
    },
    {
     "data": {
      "image/png": "[encoded data removed]",
      "text/plain": [
       "<matplotlib.figure.Figure at 0x27a20c73f28>"
      ]
     },
     "metadata": {},
     "output_type": "display_data"
    }
   ],
   "source": [
    "for col in data_num: #median надо брать для многомодального распределния\n",
    "    plt.hist(data[col].dropna(axis = 0, how='any'), 30)\n",
    "    plt.xlabel(col)\n",
    "    plt.show()"
   ]
  },
  {
   "cell_type": "code",
   "execution_count": 65,
   "metadata": {},
   "outputs": [
    {
     "data": {
      "image/png": "[encoded data removed]",
      "text/plain": [
       "<matplotlib.figure.Figure at 0x1c08b18dc50>"
      ]
     },
     "metadata": {},
     "output_type": "display_data"
    }
   ],
   "source": [
    "## after imputation\n",
    "plt.hist(data['Year'], 30)\n",
    "plt.xlabel('Year')\n",
    "plt.show()"
   ]
  },
  {
   "cell_type": "code",
   "execution_count": 57,
   "metadata": {},
   "outputs": [
    {
     "data": {
      "text/html": [
       "<div>\n",
       "<style scoped>\n",
       "    .dataframe tbody tr th:only-of-type {\n",
       "        vertical-align: middle;\n",
       "    }\n",
       "\n",
       "    .dataframe tbody tr th {\n",
       "        vertical-align: top;\n",
       "    }\n",
       "\n",
       "    .dataframe thead th {\n",
       "        text-align: right;\n",
       "    }\n",
       "</style>\n",
       "<table border=\"1\" class=\"dataframe\">\n",
       "  <thead>\n",
       "    <tr style=\"text-align: right;\">\n",
       "      <th></th>\n",
       "      <th>page_id</th>\n",
       "      <th>name</th>\n",
       "      <th>urlslug</th>\n",
       "      <th>ID</th>\n",
       "      <th>ALIGN</th>\n",
       "      <th>EYE</th>\n",
       "      <th>HAIR</th>\n",
       "      <th>SEX</th>\n",
       "      <th>GSM</th>\n",
       "      <th>ALIVE</th>\n",
       "      <th>APPEARANCES</th>\n",
       "      <th>FIRST APPEARANCE</th>\n",
       "      <th>Year</th>\n",
       "    </tr>\n",
       "  </thead>\n",
       "  <tbody>\n",
       "    <tr>\n",
       "      <th>12</th>\n",
       "      <td>7823</td>\n",
       "      <td>Namor McKenzie (Earth-616)</td>\n",
       "      <td>\\/Namor_McKenzie_(Earth-616)</td>\n",
       "      <td>No Dual Identity</td>\n",
       "      <td>Neutral Characters</td>\n",
       "      <td>Green Eyes</td>\n",
       "      <td>Black Hair</td>\n",
       "      <td>Male Characters</td>\n",
       "      <td>NaN</td>\n",
       "      <td>Living Characters</td>\n",
       "      <td>1528.0</td>\n",
       "      <td>NaN</td>\n",
       "      <td>NaN</td>\n",
       "    </tr>\n",
       "    <tr>\n",
       "      <th>38</th>\n",
       "      <td>1677</td>\n",
       "      <td>Rogue (Anna Marie) (Earth-616)</td>\n",
       "      <td>\\/Rogue_(Anna_Marie)_(Earth-616)</td>\n",
       "      <td>Secret Identity</td>\n",
       "      <td>Good Characters</td>\n",
       "      <td>Green Eyes</td>\n",
       "      <td>Auburn Hair</td>\n",
       "      <td>Female Characters</td>\n",
       "      <td>NaN</td>\n",
       "      <td>Living Characters</td>\n",
       "      <td>850.0</td>\n",
       "      <td>NaN</td>\n",
       "      <td>NaN</td>\n",
       "    </tr>\n",
       "    <tr>\n",
       "      <th>80</th>\n",
       "      <td>67048</td>\n",
       "      <td>Blaine Colt (Earth-616)</td>\n",
       "      <td>\\/Blaine_Colt_(Earth-616)</td>\n",
       "      <td>Public Identity</td>\n",
       "      <td>NaN</td>\n",
       "      <td>Blue Eyes</td>\n",
       "      <td>Blond Hair</td>\n",
       "      <td>Male Characters</td>\n",
       "      <td>NaN</td>\n",
       "      <td>Deceased Characters</td>\n",
       "      <td>429.0</td>\n",
       "      <td>NaN</td>\n",
       "      <td>NaN</td>\n",
       "    </tr>\n",
       "    <tr>\n",
       "      <th>114</th>\n",
       "      <td>37751</td>\n",
       "      <td>Monica Rambeau (Earth-616)</td>\n",
       "      <td>\\/Monica_Rambeau_(Earth-616)</td>\n",
       "      <td>Secret Identity</td>\n",
       "      <td>Good Characters</td>\n",
       "      <td>Brown Eyes</td>\n",
       "      <td>Black Hair</td>\n",
       "      <td>Female Characters</td>\n",
       "      <td>NaN</td>\n",
       "      <td>Living Characters</td>\n",
       "      <td>327.0</td>\n",
       "      <td>NaN</td>\n",
       "      <td>NaN</td>\n",
       "    </tr>\n",
       "    <tr>\n",
       "      <th>259</th>\n",
       "      <td>25255</td>\n",
       "      <td>James Bradley (Earth-616)</td>\n",
       "      <td>\\/James_Bradley_(Earth-616)</td>\n",
       "      <td>Secret Identity</td>\n",
       "      <td>Good Characters</td>\n",
       "      <td>Blue Eyes</td>\n",
       "      <td>Black Hair</td>\n",
       "      <td>Male Characters</td>\n",
       "      <td>NaN</td>\n",
       "      <td>Living Characters</td>\n",
       "      <td>158.0</td>\n",
       "      <td>NaN</td>\n",
       "      <td>NaN</td>\n",
       "    </tr>\n",
       "  </tbody>\n",
       "</table>\n",
       "</div>"
      ],
      "text/plain": [
       "     page_id                            name  \\\n",
       "12      7823      Namor McKenzie (Earth-616)   \n",
       "38      1677  Rogue (Anna Marie) (Earth-616)   \n",
       "80     67048         Blaine Colt (Earth-616)   \n",
       "114    37751      Monica Rambeau (Earth-616)   \n",
       "259    25255       James Bradley (Earth-616)   \n",
       "\n",
       "                              urlslug                ID               ALIGN  \\\n",
       "12       \\/Namor_McKenzie_(Earth-616)  No Dual Identity  Neutral Characters   \n",
       "38   \\/Rogue_(Anna_Marie)_(Earth-616)   Secret Identity     Good Characters   \n",
       "80          \\/Blaine_Colt_(Earth-616)   Public Identity                 NaN   \n",
       "114      \\/Monica_Rambeau_(Earth-616)   Secret Identity     Good Characters   \n",
       "259       \\/James_Bradley_(Earth-616)   Secret Identity     Good Characters   \n",
       "\n",
       "            EYE         HAIR                SEX  GSM                ALIVE  \\\n",
       "12   Green Eyes   Black Hair    Male Characters  NaN    Living Characters   \n",
       "38   Green Eyes  Auburn Hair  Female Characters  NaN    Living Characters   \n",
       "80    Blue Eyes   Blond Hair    Male Characters  NaN  Deceased Characters   \n",
       "114  Brown Eyes   Black Hair  Female Characters  NaN    Living Characters   \n",
       "259   Blue Eyes   Black Hair    Male Characters  NaN    Living Characters   \n",
       "\n",
       "     APPEARANCES FIRST APPEARANCE  Year  \n",
       "12        1528.0              NaN   NaN  \n",
       "38         850.0              NaN   NaN  \n",
       "80         429.0              NaN   NaN  \n",
       "114        327.0              NaN   NaN  \n",
       "259        158.0              NaN   NaN  "
      ]
     },
     "execution_count": 57,
     "metadata": {},
     "output_type": "execute_result"
    }
   ],
   "source": [
    "data[data['Year'].isnull()].head(5)"
   ]
  },
  {
   "cell_type": "code",
   "execution_count": 58,
   "metadata": {},
   "outputs": [
    {
     "data": {
      "text/plain": [
       "Int64Index([   12,    38,    80,   114,   259,   310,   413,   683,   789,\n",
       "              854,\n",
       "            ...\n",
       "            16366, 16367, 16368, 16369, 16370, 16371, 16372, 16373, 16374,\n",
       "            16375],\n",
       "           dtype='int64', length=815)"
      ]
     },
     "execution_count": 58,
     "metadata": {},
     "output_type": "execute_result"
    }
   ],
   "source": [
    "flt_index = data[data['Year'].isnull()].index\n",
    "flt_index"
   ]
  },
  {
   "cell_type": "code",
   "execution_count": 59,
   "metadata": {},
   "outputs": [
    {
     "data": {
      "text/html": [
       "<div>\n",
       "<style scoped>\n",
       "    .dataframe tbody tr th:only-of-type {\n",
       "        vertical-align: middle;\n",
       "    }\n",
       "\n",
       "    .dataframe tbody tr th {\n",
       "        vertical-align: top;\n",
       "    }\n",
       "\n",
       "    .dataframe thead th {\n",
       "        text-align: right;\n",
       "    }\n",
       "</style>\n",
       "<table border=\"1\" class=\"dataframe\">\n",
       "  <thead>\n",
       "    <tr style=\"text-align: right;\">\n",
       "      <th></th>\n",
       "      <th>page_id</th>\n",
       "      <th>name</th>\n",
       "      <th>urlslug</th>\n",
       "      <th>ID</th>\n",
       "      <th>ALIGN</th>\n",
       "      <th>EYE</th>\n",
       "      <th>HAIR</th>\n",
       "      <th>SEX</th>\n",
       "      <th>GSM</th>\n",
       "      <th>ALIVE</th>\n",
       "      <th>APPEARANCES</th>\n",
       "      <th>FIRST APPEARANCE</th>\n",
       "      <th>Year</th>\n",
       "    </tr>\n",
       "  </thead>\n",
       "  <tbody>\n",
       "    <tr>\n",
       "      <th>12</th>\n",
       "      <td>7823</td>\n",
       "      <td>Namor McKenzie (Earth-616)</td>\n",
       "      <td>\\/Namor_McKenzie_(Earth-616)</td>\n",
       "      <td>No Dual Identity</td>\n",
       "      <td>Neutral Characters</td>\n",
       "      <td>Green Eyes</td>\n",
       "      <td>Black Hair</td>\n",
       "      <td>Male Characters</td>\n",
       "      <td>NaN</td>\n",
       "      <td>Living Characters</td>\n",
       "      <td>1528.0</td>\n",
       "      <td>NaN</td>\n",
       "      <td>NaN</td>\n",
       "    </tr>\n",
       "    <tr>\n",
       "      <th>38</th>\n",
       "      <td>1677</td>\n",
       "      <td>Rogue (Anna Marie) (Earth-616)</td>\n",
       "      <td>\\/Rogue_(Anna_Marie)_(Earth-616)</td>\n",
       "      <td>Secret Identity</td>\n",
       "      <td>Good Characters</td>\n",
       "      <td>Green Eyes</td>\n",
       "      <td>Auburn Hair</td>\n",
       "      <td>Female Characters</td>\n",
       "      <td>NaN</td>\n",
       "      <td>Living Characters</td>\n",
       "      <td>850.0</td>\n",
       "      <td>NaN</td>\n",
       "      <td>NaN</td>\n",
       "    </tr>\n",
       "    <tr>\n",
       "      <th>80</th>\n",
       "      <td>67048</td>\n",
       "      <td>Blaine Colt (Earth-616)</td>\n",
       "      <td>\\/Blaine_Colt_(Earth-616)</td>\n",
       "      <td>Public Identity</td>\n",
       "      <td>NaN</td>\n",
       "      <td>Blue Eyes</td>\n",
       "      <td>Blond Hair</td>\n",
       "      <td>Male Characters</td>\n",
       "      <td>NaN</td>\n",
       "      <td>Deceased Characters</td>\n",
       "      <td>429.0</td>\n",
       "      <td>NaN</td>\n",
       "      <td>NaN</td>\n",
       "    </tr>\n",
       "    <tr>\n",
       "      <th>114</th>\n",
       "      <td>37751</td>\n",
       "      <td>Monica Rambeau (Earth-616)</td>\n",
       "      <td>\\/Monica_Rambeau_(Earth-616)</td>\n",
       "      <td>Secret Identity</td>\n",
       "      <td>Good Characters</td>\n",
       "      <td>Brown Eyes</td>\n",
       "      <td>Black Hair</td>\n",
       "      <td>Female Characters</td>\n",
       "      <td>NaN</td>\n",
       "      <td>Living Characters</td>\n",
       "      <td>327.0</td>\n",
       "      <td>NaN</td>\n",
       "      <td>NaN</td>\n",
       "    </tr>\n",
       "    <tr>\n",
       "      <th>259</th>\n",
       "      <td>25255</td>\n",
       "      <td>James Bradley (Earth-616)</td>\n",
       "      <td>\\/James_Bradley_(Earth-616)</td>\n",
       "      <td>Secret Identity</td>\n",
       "      <td>Good Characters</td>\n",
       "      <td>Blue Eyes</td>\n",
       "      <td>Black Hair</td>\n",
       "      <td>Male Characters</td>\n",
       "      <td>NaN</td>\n",
       "      <td>Living Characters</td>\n",
       "      <td>158.0</td>\n",
       "      <td>NaN</td>\n",
       "      <td>NaN</td>\n",
       "    </tr>\n",
       "  </tbody>\n",
       "</table>\n",
       "</div>"
      ],
      "text/plain": [
       "     page_id                            name  \\\n",
       "12      7823      Namor McKenzie (Earth-616)   \n",
       "38      1677  Rogue (Anna Marie) (Earth-616)   \n",
       "80     67048         Blaine Colt (Earth-616)   \n",
       "114    37751      Monica Rambeau (Earth-616)   \n",
       "259    25255       James Bradley (Earth-616)   \n",
       "\n",
       "                              urlslug                ID               ALIGN  \\\n",
       "12       \\/Namor_McKenzie_(Earth-616)  No Dual Identity  Neutral Characters   \n",
       "38   \\/Rogue_(Anna_Marie)_(Earth-616)   Secret Identity     Good Characters   \n",
       "80          \\/Blaine_Colt_(Earth-616)   Public Identity                 NaN   \n",
       "114      \\/Monica_Rambeau_(Earth-616)   Secret Identity     Good Characters   \n",
       "259       \\/James_Bradley_(Earth-616)   Secret Identity     Good Characters   \n",
       "\n",
       "            EYE         HAIR                SEX  GSM                ALIVE  \\\n",
       "12   Green Eyes   Black Hair    Male Characters  NaN    Living Characters   \n",
       "38   Green Eyes  Auburn Hair  Female Characters  NaN    Living Characters   \n",
       "80    Blue Eyes   Blond Hair    Male Characters  NaN  Deceased Characters   \n",
       "114  Brown Eyes   Black Hair  Female Characters  NaN    Living Characters   \n",
       "259   Blue Eyes   Black Hair    Male Characters  NaN    Living Characters   \n",
       "\n",
       "     APPEARANCES FIRST APPEARANCE  Year  \n",
       "12        1528.0              NaN   NaN  \n",
       "38         850.0              NaN   NaN  \n",
       "80         429.0              NaN   NaN  \n",
       "114        327.0              NaN   NaN  \n",
       "259        158.0              NaN   NaN  "
      ]
     },
     "execution_count": 59,
     "metadata": {},
     "output_type": "execute_result"
    }
   ],
   "source": [
    "data[data.index.isin(flt_index)].head(5)"
   ]
  },
  {
   "cell_type": "code",
   "execution_count": 60,
   "metadata": {},
   "outputs": [
    {
     "data": {
      "text/plain": [
       "12      NaN\n",
       "38      NaN\n",
       "80      NaN\n",
       "114     NaN\n",
       "259     NaN\n",
       "310     NaN\n",
       "413     NaN\n",
       "683     NaN\n",
       "789     NaN\n",
       "854     NaN\n",
       "997     NaN\n",
       "1118    NaN\n",
       "1158    NaN\n",
       "1316    NaN\n",
       "1454    NaN\n",
       "1564    NaN\n",
       "1565    NaN\n",
       "1845    NaN\n",
       "1937    NaN\n",
       "2033    NaN\n",
       "2147    NaN\n",
       "2148    NaN\n",
       "2398    NaN\n",
       "2399    NaN\n",
       "2549    NaN\n",
       "2727    NaN\n",
       "2728    NaN\n",
       "2909    NaN\n",
       "2910    NaN\n",
       "2911    NaN\n",
       "         ..\n",
       "16346   NaN\n",
       "16347   NaN\n",
       "16348   NaN\n",
       "16349   NaN\n",
       "16350   NaN\n",
       "16351   NaN\n",
       "16352   NaN\n",
       "16353   NaN\n",
       "16354   NaN\n",
       "16355   NaN\n",
       "16356   NaN\n",
       "16357   NaN\n",
       "16358   NaN\n",
       "16359   NaN\n",
       "16360   NaN\n",
       "16361   NaN\n",
       "16362   NaN\n",
       "16363   NaN\n",
       "16364   NaN\n",
       "16365   NaN\n",
       "16366   NaN\n",
       "16367   NaN\n",
       "16368   NaN\n",
       "16369   NaN\n",
       "16370   NaN\n",
       "16371   NaN\n",
       "16372   NaN\n",
       "16373   NaN\n",
       "16374   NaN\n",
       "16375   NaN\n",
       "Name: Year, Length: 815, dtype: float64"
      ]
     },
     "execution_count": 60,
     "metadata": {},
     "output_type": "execute_result"
    }
   ],
   "source": [
    "# фильтр по колонке\n",
    "data_num[data_num.index.isin(flt_index)]['Year']"
   ]
  },
  {
   "cell_type": "code",
   "execution_count": 8,
   "metadata": {
    "scrolled": true
   },
   "outputs": [
    {
     "data": {
      "text/html": [
       "<div>\n",
       "<style scoped>\n",
       "    .dataframe tbody tr th:only-of-type {\n",
       "        vertical-align: middle;\n",
       "    }\n",
       "\n",
       "    .dataframe tbody tr th {\n",
       "        vertical-align: top;\n",
       "    }\n",
       "\n",
       "    .dataframe thead th {\n",
       "        text-align: right;\n",
       "    }\n",
       "</style>\n",
       "<table border=\"1\" class=\"dataframe\">\n",
       "  <thead>\n",
       "    <tr style=\"text-align: right;\">\n",
       "      <th></th>\n",
       "      <th>Year</th>\n",
       "    </tr>\n",
       "  </thead>\n",
       "  <tbody>\n",
       "    <tr>\n",
       "      <th>0</th>\n",
       "      <td>1962.0</td>\n",
       "    </tr>\n",
       "    <tr>\n",
       "      <th>1</th>\n",
       "      <td>1941.0</td>\n",
       "    </tr>\n",
       "    <tr>\n",
       "      <th>2</th>\n",
       "      <td>1974.0</td>\n",
       "    </tr>\n",
       "    <tr>\n",
       "      <th>3</th>\n",
       "      <td>1963.0</td>\n",
       "    </tr>\n",
       "    <tr>\n",
       "      <th>4</th>\n",
       "      <td>1950.0</td>\n",
       "    </tr>\n",
       "  </tbody>\n",
       "</table>\n",
       "</div>"
      ],
      "text/plain": [
       "     Year\n",
       "0  1962.0\n",
       "1  1941.0\n",
       "2  1974.0\n",
       "3  1963.0\n",
       "4  1950.0"
      ]
     },
     "execution_count": 8,
     "metadata": {},
     "output_type": "execute_result"
    }
   ],
   "source": [
    "data_num_Year = data_num[['Year']]\n",
    "data_num_Year.head()"
   ]
  },
  {
   "cell_type": "code",
   "execution_count": 20,
   "metadata": {
    "collapsed": true
   },
   "outputs": [],
   "source": [
    "from sklearn.impute import SimpleImputer\n",
    "from sklearn.impute import MissingIndicator"
   ]
  },
  {
   "cell_type": "code",
   "execution_count": 9,
   "metadata": {
    "scrolled": true
   },
   "outputs": [
    {
     "data": {
      "text/plain": [
       "array([[False],\n",
       "       [False],\n",
       "       [False],\n",
       "       ...,\n",
       "       [ True],\n",
       "       [ True],\n",
       "       [ True]])"
      ]
     },
     "execution_count": 9,
     "metadata": {},
     "output_type": "execute_result"
    }
   ],
   "source": [
    "indicator = MissingIndicator()\n",
    "mask_missing_values_only = indicator.fit_transform(data_num_Year)\n",
    "mask_missing_values_only"
   ]
  },
  {
   "cell_type": "code",
   "execution_count": 10,
   "metadata": {
    "collapsed": true
   },
   "outputs": [],
   "source": [
    "strategies=['mean', 'median','most_frequent']"
   ]
  },
  {
   "cell_type": "code",
   "execution_count": 21,
   "metadata": {
    "collapsed": true
   },
   "outputs": [],
   "source": [
    "def test_num_impute(strategy_param):\n",
    "    imp_num = SimpleImputer(strategy=strategy_param)\n",
    "    data_num_imp = imp_num.fit_transform(data_num_Year)\n",
    "    print(data_num_imp)\n",
    "    return data_num_imp[mask_missing_values_only]"
   ]
  },
  {
   "cell_type": "code",
   "execution_count": 22,
   "metadata": {},
   "outputs": [
    {
     "name": "stdout",
     "output_type": "stream",
     "text": [
      "[[1962.        ]\n",
      " [1941.        ]\n",
      " [1974.        ]\n",
      " ...\n",
      " [1984.95180258]\n",
      " [1984.95180258]\n",
      " [1984.95180258]]\n"
     ]
    },
    {
     "data": {
      "text/plain": [
       "('mean', array([1984.95180258, 1984.95180258, 1984.95180258, 1984.95180258,\n",
       "        1984.95180258, 1984.95180258, 1984.95180258, 1984.95180258,\n",
       "        1984.95180258, 1984.95180258, 1984.95180258, 1984.95180258,\n",
       "        1984.95180258, 1984.95180258, 1984.95180258, 1984.95180258,\n",
       "        1984.95180258, 1984.95180258, 1984.95180258, 1984.95180258,\n",
       "        1984.95180258, 1984.95180258, 1984.95180258, 1984.95180258,\n",
       "        1984.95180258, 1984.95180258, 1984.95180258, 1984.95180258,\n",
       "        1984.95180258, 1984.95180258, 1984.95180258, 1984.95180258,\n",
       "        1984.95180258, 1984.95180258, 1984.95180258, 1984.95180258,\n",
       "        1984.95180258, 1984.95180258, 1984.95180258, 1984.95180258,\n",
       "        1984.95180258, 1984.95180258, 1984.95180258, 1984.95180258,\n",
       "        1984.95180258, 1984.95180258, 1984.95180258, 1984.95180258,\n",
       "        1984.95180258, 1984.95180258, 1984.95180258, 1984.95180258,\n",
       "        1984.95180258, 1984.95180258, 1984.95180258, 1984.95180258,\n",
       "        1984.95180258, 1984.95180258, 1984.95180258, 1984.95180258,\n",
       "        1984.95180258, 1984.95180258, 1984.95180258, 1984.95180258,\n",
       "        1984.95180258, 1984.95180258, 1984.95180258, 1984.95180258,\n",
       "        1984.95180258, 1984.95180258, 1984.95180258, 1984.95180258,\n",
       "        1984.95180258, 1984.95180258, 1984.95180258, 1984.95180258,\n",
       "        1984.95180258, 1984.95180258, 1984.95180258, 1984.95180258,\n",
       "        1984.95180258, 1984.95180258, 1984.95180258, 1984.95180258,\n",
       "        1984.95180258, 1984.95180258, 1984.95180258, 1984.95180258,\n",
       "        1984.95180258, 1984.95180258, 1984.95180258, 1984.95180258,\n",
       "        1984.95180258, 1984.95180258, 1984.95180258, 1984.95180258,\n",
       "        1984.95180258, 1984.95180258, 1984.95180258, 1984.95180258,\n",
       "        1984.95180258, 1984.95180258, 1984.95180258, 1984.95180258,\n",
       "        1984.95180258, 1984.95180258, 1984.95180258, 1984.95180258,\n",
       "        1984.95180258, 1984.95180258, 1984.95180258, 1984.95180258,\n",
       "        1984.95180258, 1984.95180258, 1984.95180258, 1984.95180258,\n",
       "        1984.95180258, 1984.95180258, 1984.95180258, 1984.95180258,\n",
       "        1984.95180258, 1984.95180258, 1984.95180258, 1984.95180258,\n",
       "        1984.95180258, 1984.95180258, 1984.95180258, 1984.95180258,\n",
       "        1984.95180258, 1984.95180258, 1984.95180258, 1984.95180258,\n",
       "        1984.95180258, 1984.95180258, 1984.95180258, 1984.95180258,\n",
       "        1984.95180258, 1984.95180258, 1984.95180258, 1984.95180258,\n",
       "        1984.95180258, 1984.95180258, 1984.95180258, 1984.95180258,\n",
       "        1984.95180258, 1984.95180258, 1984.95180258, 1984.95180258,\n",
       "        1984.95180258, 1984.95180258, 1984.95180258, 1984.95180258,\n",
       "        1984.95180258, 1984.95180258, 1984.95180258, 1984.95180258,\n",
       "        1984.95180258, 1984.95180258, 1984.95180258, 1984.95180258,\n",
       "        1984.95180258, 1984.95180258, 1984.95180258, 1984.95180258,\n",
       "        1984.95180258, 1984.95180258, 1984.95180258, 1984.95180258,\n",
       "        1984.95180258, 1984.95180258, 1984.95180258, 1984.95180258,\n",
       "        1984.95180258, 1984.95180258, 1984.95180258, 1984.95180258,\n",
       "        1984.95180258, 1984.95180258, 1984.95180258, 1984.95180258,\n",
       "        1984.95180258, 1984.95180258, 1984.95180258, 1984.95180258,\n",
       "        1984.95180258, 1984.95180258, 1984.95180258, 1984.95180258,\n",
       "        1984.95180258, 1984.95180258, 1984.95180258, 1984.95180258,\n",
       "        1984.95180258, 1984.95180258, 1984.95180258, 1984.95180258,\n",
       "        1984.95180258, 1984.95180258, 1984.95180258, 1984.95180258,\n",
       "        1984.95180258, 1984.95180258, 1984.95180258, 1984.95180258,\n",
       "        1984.95180258, 1984.95180258, 1984.95180258, 1984.95180258,\n",
       "        1984.95180258, 1984.95180258, 1984.95180258, 1984.95180258,\n",
       "        1984.95180258, 1984.95180258, 1984.95180258, 1984.95180258,\n",
       "        1984.95180258, 1984.95180258, 1984.95180258, 1984.95180258,\n",
       "        1984.95180258, 1984.95180258, 1984.95180258, 1984.95180258,\n",
       "        1984.95180258, 1984.95180258, 1984.95180258, 1984.95180258,\n",
       "        1984.95180258, 1984.95180258, 1984.95180258, 1984.95180258,\n",
       "        1984.95180258, 1984.95180258, 1984.95180258, 1984.95180258,\n",
       "        1984.95180258, 1984.95180258, 1984.95180258, 1984.95180258,\n",
       "        1984.95180258, 1984.95180258, 1984.95180258, 1984.95180258,\n",
       "        1984.95180258, 1984.95180258, 1984.95180258, 1984.95180258,\n",
       "        1984.95180258, 1984.95180258, 1984.95180258, 1984.95180258,\n",
       "        1984.95180258, 1984.95180258, 1984.95180258, 1984.95180258,\n",
       "        1984.95180258, 1984.95180258, 1984.95180258, 1984.95180258,\n",
       "        1984.95180258, 1984.95180258, 1984.95180258, 1984.95180258,\n",
       "        1984.95180258, 1984.95180258, 1984.95180258, 1984.95180258,\n",
       "        1984.95180258, 1984.95180258, 1984.95180258, 1984.95180258,\n",
       "        1984.95180258, 1984.95180258, 1984.95180258, 1984.95180258,\n",
       "        1984.95180258, 1984.95180258, 1984.95180258, 1984.95180258,\n",
       "        1984.95180258, 1984.95180258, 1984.95180258, 1984.95180258,\n",
       "        1984.95180258, 1984.95180258, 1984.95180258, 1984.95180258,\n",
       "        1984.95180258, 1984.95180258, 1984.95180258, 1984.95180258,\n",
       "        1984.95180258, 1984.95180258, 1984.95180258, 1984.95180258,\n",
       "        1984.95180258, 1984.95180258, 1984.95180258, 1984.95180258,\n",
       "        1984.95180258, 1984.95180258, 1984.95180258, 1984.95180258,\n",
       "        1984.95180258, 1984.95180258, 1984.95180258, 1984.95180258,\n",
       "        1984.95180258, 1984.95180258, 1984.95180258, 1984.95180258,\n",
       "        1984.95180258, 1984.95180258, 1984.95180258, 1984.95180258,\n",
       "        1984.95180258, 1984.95180258, 1984.95180258, 1984.95180258,\n",
       "        1984.95180258, 1984.95180258, 1984.95180258, 1984.95180258,\n",
       "        1984.95180258, 1984.95180258, 1984.95180258, 1984.95180258,\n",
       "        1984.95180258, 1984.95180258, 1984.95180258, 1984.95180258,\n",
       "        1984.95180258, 1984.95180258, 1984.95180258, 1984.95180258,\n",
       "        1984.95180258, 1984.95180258, 1984.95180258, 1984.95180258,\n",
       "        1984.95180258, 1984.95180258, 1984.95180258, 1984.95180258,\n",
       "        1984.95180258, 1984.95180258, 1984.95180258, 1984.95180258,\n",
       "        1984.95180258, 1984.95180258, 1984.95180258, 1984.95180258,\n",
       "        1984.95180258, 1984.95180258, 1984.95180258, 1984.95180258,\n",
       "        1984.95180258, 1984.95180258, 1984.95180258, 1984.95180258,\n",
       "        1984.95180258, 1984.95180258, 1984.95180258, 1984.95180258,\n",
       "        1984.95180258, 1984.95180258, 1984.95180258, 1984.95180258,\n",
       "        1984.95180258, 1984.95180258, 1984.95180258, 1984.95180258,\n",
       "        1984.95180258, 1984.95180258, 1984.95180258, 1984.95180258,\n",
       "        1984.95180258, 1984.95180258, 1984.95180258, 1984.95180258,\n",
       "        1984.95180258, 1984.95180258, 1984.95180258, 1984.95180258,\n",
       "        1984.95180258, 1984.95180258, 1984.95180258, 1984.95180258,\n",
       "        1984.95180258, 1984.95180258, 1984.95180258, 1984.95180258,\n",
       "        1984.95180258, 1984.95180258, 1984.95180258, 1984.95180258,\n",
       "        1984.95180258, 1984.95180258, 1984.95180258, 1984.95180258,\n",
       "        1984.95180258, 1984.95180258, 1984.95180258, 1984.95180258,\n",
       "        1984.95180258, 1984.95180258, 1984.95180258, 1984.95180258,\n",
       "        1984.95180258, 1984.95180258, 1984.95180258, 1984.95180258,\n",
       "        1984.95180258, 1984.95180258, 1984.95180258, 1984.95180258,\n",
       "        1984.95180258, 1984.95180258, 1984.95180258, 1984.95180258,\n",
       "        1984.95180258, 1984.95180258, 1984.95180258, 1984.95180258,\n",
       "        1984.95180258, 1984.95180258, 1984.95180258, 1984.95180258,\n",
       "        1984.95180258, 1984.95180258, 1984.95180258, 1984.95180258,\n",
       "        1984.95180258, 1984.95180258, 1984.95180258, 1984.95180258,\n",
       "        1984.95180258, 1984.95180258, 1984.95180258, 1984.95180258,\n",
       "        1984.95180258, 1984.95180258, 1984.95180258, 1984.95180258,\n",
       "        1984.95180258, 1984.95180258, 1984.95180258, 1984.95180258,\n",
       "        1984.95180258, 1984.95180258, 1984.95180258, 1984.95180258,\n",
       "        1984.95180258, 1984.95180258, 1984.95180258, 1984.95180258,\n",
       "        1984.95180258, 1984.95180258, 1984.95180258, 1984.95180258,\n",
       "        1984.95180258, 1984.95180258, 1984.95180258, 1984.95180258,\n",
       "        1984.95180258, 1984.95180258, 1984.95180258, 1984.95180258,\n",
       "        1984.95180258, 1984.95180258, 1984.95180258, 1984.95180258,\n",
       "        1984.95180258, 1984.95180258, 1984.95180258, 1984.95180258,\n",
       "        1984.95180258, 1984.95180258, 1984.95180258, 1984.95180258,\n",
       "        1984.95180258, 1984.95180258, 1984.95180258, 1984.95180258,\n",
       "        1984.95180258, 1984.95180258, 1984.95180258, 1984.95180258,\n",
       "        1984.95180258, 1984.95180258, 1984.95180258, 1984.95180258,\n",
       "        1984.95180258, 1984.95180258, 1984.95180258, 1984.95180258,\n",
       "        1984.95180258, 1984.95180258, 1984.95180258, 1984.95180258,\n",
       "        1984.95180258, 1984.95180258, 1984.95180258, 1984.95180258,\n",
       "        1984.95180258, 1984.95180258, 1984.95180258, 1984.95180258,\n",
       "        1984.95180258, 1984.95180258, 1984.95180258, 1984.95180258,\n",
       "        1984.95180258, 1984.95180258, 1984.95180258, 1984.95180258,\n",
       "        1984.95180258, 1984.95180258, 1984.95180258, 1984.95180258,\n",
       "        1984.95180258, 1984.95180258, 1984.95180258, 1984.95180258,\n",
       "        1984.95180258, 1984.95180258, 1984.95180258, 1984.95180258,\n",
       "        1984.95180258, 1984.95180258, 1984.95180258, 1984.95180258,\n",
       "        1984.95180258, 1984.95180258, 1984.95180258, 1984.95180258,\n",
       "        1984.95180258, 1984.95180258, 1984.95180258, 1984.95180258,\n",
       "        1984.95180258, 1984.95180258, 1984.95180258, 1984.95180258,\n",
       "        1984.95180258, 1984.95180258, 1984.95180258, 1984.95180258,\n",
       "        1984.95180258, 1984.95180258, 1984.95180258, 1984.95180258,\n",
       "        1984.95180258, 1984.95180258, 1984.95180258, 1984.95180258,\n",
       "        1984.95180258, 1984.95180258, 1984.95180258, 1984.95180258,\n",
       "        1984.95180258, 1984.95180258, 1984.95180258, 1984.95180258,\n",
       "        1984.95180258, 1984.95180258, 1984.95180258, 1984.95180258,\n",
       "        1984.95180258, 1984.95180258, 1984.95180258, 1984.95180258,\n",
       "        1984.95180258, 1984.95180258, 1984.95180258, 1984.95180258,\n",
       "        1984.95180258, 1984.95180258, 1984.95180258, 1984.95180258,\n",
       "        1984.95180258, 1984.95180258, 1984.95180258, 1984.95180258,\n",
       "        1984.95180258, 1984.95180258, 1984.95180258, 1984.95180258,\n",
       "        1984.95180258, 1984.95180258, 1984.95180258, 1984.95180258,\n",
       "        1984.95180258, 1984.95180258, 1984.95180258, 1984.95180258,\n",
       "        1984.95180258, 1984.95180258, 1984.95180258, 1984.95180258,\n",
       "        1984.95180258, 1984.95180258, 1984.95180258, 1984.95180258,\n",
       "        1984.95180258, 1984.95180258, 1984.95180258, 1984.95180258,\n",
       "        1984.95180258, 1984.95180258, 1984.95180258, 1984.95180258,\n",
       "        1984.95180258, 1984.95180258, 1984.95180258, 1984.95180258,\n",
       "        1984.95180258, 1984.95180258, 1984.95180258, 1984.95180258,\n",
       "        1984.95180258, 1984.95180258, 1984.95180258, 1984.95180258,\n",
       "        1984.95180258, 1984.95180258, 1984.95180258, 1984.95180258,\n",
       "        1984.95180258, 1984.95180258, 1984.95180258, 1984.95180258,\n",
       "        1984.95180258, 1984.95180258, 1984.95180258, 1984.95180258,\n",
       "        1984.95180258, 1984.95180258, 1984.95180258, 1984.95180258,\n",
       "        1984.95180258, 1984.95180258, 1984.95180258, 1984.95180258,\n",
       "        1984.95180258, 1984.95180258, 1984.95180258, 1984.95180258,\n",
       "        1984.95180258, 1984.95180258, 1984.95180258, 1984.95180258,\n",
       "        1984.95180258, 1984.95180258, 1984.95180258, 1984.95180258,\n",
       "        1984.95180258, 1984.95180258, 1984.95180258, 1984.95180258,\n",
       "        1984.95180258, 1984.95180258, 1984.95180258, 1984.95180258,\n",
       "        1984.95180258, 1984.95180258, 1984.95180258, 1984.95180258,\n",
       "        1984.95180258, 1984.95180258, 1984.95180258, 1984.95180258,\n",
       "        1984.95180258, 1984.95180258, 1984.95180258, 1984.95180258,\n",
       "        1984.95180258, 1984.95180258, 1984.95180258, 1984.95180258,\n",
       "        1984.95180258, 1984.95180258, 1984.95180258, 1984.95180258,\n",
       "        1984.95180258, 1984.95180258, 1984.95180258, 1984.95180258,\n",
       "        1984.95180258, 1984.95180258, 1984.95180258, 1984.95180258,\n",
       "        1984.95180258, 1984.95180258, 1984.95180258, 1984.95180258,\n",
       "        1984.95180258, 1984.95180258, 1984.95180258, 1984.95180258,\n",
       "        1984.95180258, 1984.95180258, 1984.95180258, 1984.95180258,\n",
       "        1984.95180258, 1984.95180258, 1984.95180258, 1984.95180258,\n",
       "        1984.95180258, 1984.95180258, 1984.95180258, 1984.95180258,\n",
       "        1984.95180258, 1984.95180258, 1984.95180258, 1984.95180258,\n",
       "        1984.95180258, 1984.95180258, 1984.95180258, 1984.95180258,\n",
       "        1984.95180258, 1984.95180258, 1984.95180258, 1984.95180258,\n",
       "        1984.95180258, 1984.95180258, 1984.95180258, 1984.95180258,\n",
       "        1984.95180258, 1984.95180258, 1984.95180258, 1984.95180258,\n",
       "        1984.95180258, 1984.95180258, 1984.95180258, 1984.95180258,\n",
       "        1984.95180258, 1984.95180258, 1984.95180258, 1984.95180258,\n",
       "        1984.95180258, 1984.95180258, 1984.95180258, 1984.95180258,\n",
       "        1984.95180258, 1984.95180258, 1984.95180258, 1984.95180258,\n",
       "        1984.95180258, 1984.95180258, 1984.95180258, 1984.95180258,\n",
       "        1984.95180258, 1984.95180258, 1984.95180258, 1984.95180258,\n",
       "        1984.95180258, 1984.95180258, 1984.95180258, 1984.95180258,\n",
       "        1984.95180258, 1984.95180258, 1984.95180258, 1984.95180258,\n",
       "        1984.95180258, 1984.95180258, 1984.95180258, 1984.95180258,\n",
       "        1984.95180258, 1984.95180258, 1984.95180258, 1984.95180258,\n",
       "        1984.95180258, 1984.95180258, 1984.95180258, 1984.95180258,\n",
       "        1984.95180258, 1984.95180258, 1984.95180258, 1984.95180258,\n",
       "        1984.95180258, 1984.95180258, 1984.95180258, 1984.95180258,\n",
       "        1984.95180258, 1984.95180258, 1984.95180258, 1984.95180258,\n",
       "        1984.95180258, 1984.95180258, 1984.95180258, 1984.95180258,\n",
       "        1984.95180258, 1984.95180258, 1984.95180258, 1984.95180258,\n",
       "        1984.95180258, 1984.95180258, 1984.95180258, 1984.95180258,\n",
       "        1984.95180258, 1984.95180258, 1984.95180258, 1984.95180258,\n",
       "        1984.95180258, 1984.95180258, 1984.95180258, 1984.95180258,\n",
       "        1984.95180258, 1984.95180258, 1984.95180258, 1984.95180258,\n",
       "        1984.95180258, 1984.95180258, 1984.95180258]))"
      ]
     },
     "execution_count": 22,
     "metadata": {},
     "output_type": "execute_result"
    }
   ],
   "source": [
    "strategies[0], test_num_impute(strategies[0])"
   ]
  },
  {
   "cell_type": "code",
   "execution_count": 23,
   "metadata": {
    "scrolled": true
   },
   "outputs": [
    {
     "name": "stdout",
     "output_type": "stream",
     "text": [
      "[[1962.]\n",
      " [1941.]\n",
      " [1974.]\n",
      " ...\n",
      " [1990.]\n",
      " [1990.]\n",
      " [1990.]]\n"
     ]
    },
    {
     "data": {
      "text/plain": [
       "('median',\n",
       " array([1990., 1990., 1990., 1990., 1990., 1990., 1990., 1990., 1990.,\n",
       "        1990., 1990., 1990., 1990., 1990., 1990., 1990., 1990., 1990.,\n",
       "        1990., 1990., 1990., 1990., 1990., 1990., 1990., 1990., 1990.,\n",
       "        1990., 1990., 1990., 1990., 1990., 1990., 1990., 1990., 1990.,\n",
       "        1990., 1990., 1990., 1990., 1990., 1990., 1990., 1990., 1990.,\n",
       "        1990., 1990., 1990., 1990., 1990., 1990., 1990., 1990., 1990.,\n",
       "        1990., 1990., 1990., 1990., 1990., 1990., 1990., 1990., 1990.,\n",
       "        1990., 1990., 1990., 1990., 1990., 1990., 1990., 1990., 1990.,\n",
       "        1990., 1990., 1990., 1990., 1990., 1990., 1990., 1990., 1990.,\n",
       "        1990., 1990., 1990., 1990., 1990., 1990., 1990., 1990., 1990.,\n",
       "        1990., 1990., 1990., 1990., 1990., 1990., 1990., 1990., 1990.,\n",
       "        1990., 1990., 1990., 1990., 1990., 1990., 1990., 1990., 1990.,\n",
       "        1990., 1990., 1990., 1990., 1990., 1990., 1990., 1990., 1990.,\n",
       "        1990., 1990., 1990., 1990., 1990., 1990., 1990., 1990., 1990.,\n",
       "        1990., 1990., 1990., 1990., 1990., 1990., 1990., 1990., 1990.,\n",
       "        1990., 1990., 1990., 1990., 1990., 1990., 1990., 1990., 1990.,\n",
       "        1990., 1990., 1990., 1990., 1990., 1990., 1990., 1990., 1990.,\n",
       "        1990., 1990., 1990., 1990., 1990., 1990., 1990., 1990., 1990.,\n",
       "        1990., 1990., 1990., 1990., 1990., 1990., 1990., 1990., 1990.,\n",
       "        1990., 1990., 1990., 1990., 1990., 1990., 1990., 1990., 1990.,\n",
       "        1990., 1990., 1990., 1990., 1990., 1990., 1990., 1990., 1990.,\n",
       "        1990., 1990., 1990., 1990., 1990., 1990., 1990., 1990., 1990.,\n",
       "        1990., 1990., 1990., 1990., 1990., 1990., 1990., 1990., 1990.,\n",
       "        1990., 1990., 1990., 1990., 1990., 1990., 1990., 1990., 1990.,\n",
       "        1990., 1990., 1990., 1990., 1990., 1990., 1990., 1990., 1990.,\n",
       "        1990., 1990., 1990., 1990., 1990., 1990., 1990., 1990., 1990.,\n",
       "        1990., 1990., 1990., 1990., 1990., 1990., 1990., 1990., 1990.,\n",
       "        1990., 1990., 1990., 1990., 1990., 1990., 1990., 1990., 1990.,\n",
       "        1990., 1990., 1990., 1990., 1990., 1990., 1990., 1990., 1990.,\n",
       "        1990., 1990., 1990., 1990., 1990., 1990., 1990., 1990., 1990.,\n",
       "        1990., 1990., 1990., 1990., 1990., 1990., 1990., 1990., 1990.,\n",
       "        1990., 1990., 1990., 1990., 1990., 1990., 1990., 1990., 1990.,\n",
       "        1990., 1990., 1990., 1990., 1990., 1990., 1990., 1990., 1990.,\n",
       "        1990., 1990., 1990., 1990., 1990., 1990., 1990., 1990., 1990.,\n",
       "        1990., 1990., 1990., 1990., 1990., 1990., 1990., 1990., 1990.,\n",
       "        1990., 1990., 1990., 1990., 1990., 1990., 1990., 1990., 1990.,\n",
       "        1990., 1990., 1990., 1990., 1990., 1990., 1990., 1990., 1990.,\n",
       "        1990., 1990., 1990., 1990., 1990., 1990., 1990., 1990., 1990.,\n",
       "        1990., 1990., 1990., 1990., 1990., 1990., 1990., 1990., 1990.,\n",
       "        1990., 1990., 1990., 1990., 1990., 1990., 1990., 1990., 1990.,\n",
       "        1990., 1990., 1990., 1990., 1990., 1990., 1990., 1990., 1990.,\n",
       "        1990., 1990., 1990., 1990., 1990., 1990., 1990., 1990., 1990.,\n",
       "        1990., 1990., 1990., 1990., 1990., 1990., 1990., 1990., 1990.,\n",
       "        1990., 1990., 1990., 1990., 1990., 1990., 1990., 1990., 1990.,\n",
       "        1990., 1990., 1990., 1990., 1990., 1990., 1990., 1990., 1990.,\n",
       "        1990., 1990., 1990., 1990., 1990., 1990., 1990., 1990., 1990.,\n",
       "        1990., 1990., 1990., 1990., 1990., 1990., 1990., 1990., 1990.,\n",
       "        1990., 1990., 1990., 1990., 1990., 1990., 1990., 1990., 1990.,\n",
       "        1990., 1990., 1990., 1990., 1990., 1990., 1990., 1990., 1990.,\n",
       "        1990., 1990., 1990., 1990., 1990., 1990., 1990., 1990., 1990.,\n",
       "        1990., 1990., 1990., 1990., 1990., 1990., 1990., 1990., 1990.,\n",
       "        1990., 1990., 1990., 1990., 1990., 1990., 1990., 1990., 1990.,\n",
       "        1990., 1990., 1990., 1990., 1990., 1990., 1990., 1990., 1990.,\n",
       "        1990., 1990., 1990., 1990., 1990., 1990., 1990., 1990., 1990.,\n",
       "        1990., 1990., 1990., 1990., 1990., 1990., 1990., 1990., 1990.,\n",
       "        1990., 1990., 1990., 1990., 1990., 1990., 1990., 1990., 1990.,\n",
       "        1990., 1990., 1990., 1990., 1990., 1990., 1990., 1990., 1990.,\n",
       "        1990., 1990., 1990., 1990., 1990., 1990., 1990., 1990., 1990.,\n",
       "        1990., 1990., 1990., 1990., 1990., 1990., 1990., 1990., 1990.,\n",
       "        1990., 1990., 1990., 1990., 1990., 1990., 1990., 1990., 1990.,\n",
       "        1990., 1990., 1990., 1990., 1990., 1990., 1990., 1990., 1990.,\n",
       "        1990., 1990., 1990., 1990., 1990., 1990., 1990., 1990., 1990.,\n",
       "        1990., 1990., 1990., 1990., 1990., 1990., 1990., 1990., 1990.,\n",
       "        1990., 1990., 1990., 1990., 1990., 1990., 1990., 1990., 1990.,\n",
       "        1990., 1990., 1990., 1990., 1990., 1990., 1990., 1990., 1990.,\n",
       "        1990., 1990., 1990., 1990., 1990., 1990., 1990., 1990., 1990.,\n",
       "        1990., 1990., 1990., 1990., 1990., 1990., 1990., 1990., 1990.,\n",
       "        1990., 1990., 1990., 1990., 1990., 1990., 1990., 1990., 1990.,\n",
       "        1990., 1990., 1990., 1990., 1990., 1990., 1990., 1990., 1990.,\n",
       "        1990., 1990., 1990., 1990., 1990., 1990., 1990., 1990., 1990.,\n",
       "        1990., 1990., 1990., 1990., 1990., 1990., 1990., 1990., 1990.,\n",
       "        1990., 1990., 1990., 1990., 1990., 1990., 1990., 1990., 1990.,\n",
       "        1990., 1990., 1990., 1990., 1990., 1990., 1990., 1990., 1990.,\n",
       "        1990., 1990., 1990., 1990., 1990., 1990., 1990., 1990., 1990.,\n",
       "        1990., 1990., 1990., 1990., 1990., 1990., 1990., 1990., 1990.,\n",
       "        1990., 1990., 1990., 1990., 1990., 1990., 1990., 1990., 1990.,\n",
       "        1990., 1990., 1990., 1990., 1990., 1990., 1990., 1990., 1990.,\n",
       "        1990., 1990., 1990., 1990., 1990., 1990., 1990., 1990., 1990.,\n",
       "        1990., 1990., 1990., 1990., 1990., 1990., 1990., 1990., 1990.,\n",
       "        1990., 1990., 1990., 1990., 1990., 1990., 1990., 1990., 1990.,\n",
       "        1990., 1990., 1990., 1990., 1990., 1990., 1990., 1990., 1990.,\n",
       "        1990., 1990., 1990., 1990., 1990., 1990., 1990., 1990., 1990.,\n",
       "        1990., 1990., 1990., 1990., 1990., 1990., 1990., 1990., 1990.,\n",
       "        1990., 1990., 1990., 1990., 1990., 1990., 1990., 1990., 1990.,\n",
       "        1990., 1990., 1990., 1990., 1990., 1990., 1990., 1990., 1990.,\n",
       "        1990., 1990., 1990., 1990., 1990., 1990., 1990., 1990., 1990.,\n",
       "        1990., 1990., 1990., 1990., 1990., 1990., 1990., 1990., 1990.,\n",
       "        1990., 1990., 1990., 1990., 1990., 1990., 1990., 1990., 1990.,\n",
       "        1990., 1990., 1990., 1990., 1990., 1990., 1990., 1990., 1990.,\n",
       "        1990., 1990., 1990., 1990., 1990., 1990., 1990., 1990., 1990.,\n",
       "        1990., 1990., 1990., 1990., 1990.]))"
      ]
     },
     "execution_count": 23,
     "metadata": {},
     "output_type": "execute_result"
    }
   ],
   "source": [
    "strategies[1], test_num_impute(strategies[1])"
   ]
  },
  {
   "cell_type": "code",
   "execution_count": 24,
   "metadata": {
    "scrolled": true
   },
   "outputs": [
    {
     "name": "stdout",
     "output_type": "stream",
     "text": [
      "[[1962.]\n",
      " [1941.]\n",
      " [1974.]\n",
      " ...\n",
      " [1993.]\n",
      " [1993.]\n",
      " [1993.]]\n"
     ]
    },
    {
     "data": {
      "text/plain": [
       "('most_frequent',\n",
       " array([1993., 1993., 1993., 1993., 1993., 1993., 1993., 1993., 1993.,\n",
       "        1993., 1993., 1993., 1993., 1993., 1993., 1993., 1993., 1993.,\n",
       "        1993., 1993., 1993., 1993., 1993., 1993., 1993., 1993., 1993.,\n",
       "        1993., 1993., 1993., 1993., 1993., 1993., 1993., 1993., 1993.,\n",
       "        1993., 1993., 1993., 1993., 1993., 1993., 1993., 1993., 1993.,\n",
       "        1993., 1993., 1993., 1993., 1993., 1993., 1993., 1993., 1993.,\n",
       "        1993., 1993., 1993., 1993., 1993., 1993., 1993., 1993., 1993.,\n",
       "        1993., 1993., 1993., 1993., 1993., 1993., 1993., 1993., 1993.,\n",
       "        1993., 1993., 1993., 1993., 1993., 1993., 1993., 1993., 1993.,\n",
       "        1993., 1993., 1993., 1993., 1993., 1993., 1993., 1993., 1993.,\n",
       "        1993., 1993., 1993., 1993., 1993., 1993., 1993., 1993., 1993.,\n",
       "        1993., 1993., 1993., 1993., 1993., 1993., 1993., 1993., 1993.,\n",
       "        1993., 1993., 1993., 1993., 1993., 1993., 1993., 1993., 1993.,\n",
       "        1993., 1993., 1993., 1993., 1993., 1993., 1993., 1993., 1993.,\n",
       "        1993., 1993., 1993., 1993., 1993., 1993., 1993., 1993., 1993.,\n",
       "        1993., 1993., 1993., 1993., 1993., 1993., 1993., 1993., 1993.,\n",
       "        1993., 1993., 1993., 1993., 1993., 1993., 1993., 1993., 1993.,\n",
       "        1993., 1993., 1993., 1993., 1993., 1993., 1993., 1993., 1993.,\n",
       "        1993., 1993., 1993., 1993., 1993., 1993., 1993., 1993., 1993.,\n",
       "        1993., 1993., 1993., 1993., 1993., 1993., 1993., 1993., 1993.,\n",
       "        1993., 1993., 1993., 1993., 1993., 1993., 1993., 1993., 1993.,\n",
       "        1993., 1993., 1993., 1993., 1993., 1993., 1993., 1993., 1993.,\n",
       "        1993., 1993., 1993., 1993., 1993., 1993., 1993., 1993., 1993.,\n",
       "        1993., 1993., 1993., 1993., 1993., 1993., 1993., 1993., 1993.,\n",
       "        1993., 1993., 1993., 1993., 1993., 1993., 1993., 1993., 1993.,\n",
       "        1993., 1993., 1993., 1993., 1993., 1993., 1993., 1993., 1993.,\n",
       "        1993., 1993., 1993., 1993., 1993., 1993., 1993., 1993., 1993.,\n",
       "        1993., 1993., 1993., 1993., 1993., 1993., 1993., 1993., 1993.,\n",
       "        1993., 1993., 1993., 1993., 1993., 1993., 1993., 1993., 1993.,\n",
       "        1993., 1993., 1993., 1993., 1993., 1993., 1993., 1993., 1993.,\n",
       "        1993., 1993., 1993., 1993., 1993., 1993., 1993., 1993., 1993.,\n",
       "        1993., 1993., 1993., 1993., 1993., 1993., 1993., 1993., 1993.,\n",
       "        1993., 1993., 1993., 1993., 1993., 1993., 1993., 1993., 1993.,\n",
       "        1993., 1993., 1993., 1993., 1993., 1993., 1993., 1993., 1993.,\n",
       "        1993., 1993., 1993., 1993., 1993., 1993., 1993., 1993., 1993.,\n",
       "        1993., 1993., 1993., 1993., 1993., 1993., 1993., 1993., 1993.,\n",
       "        1993., 1993., 1993., 1993., 1993., 1993., 1993., 1993., 1993.,\n",
       "        1993., 1993., 1993., 1993., 1993., 1993., 1993., 1993., 1993.,\n",
       "        1993., 1993., 1993., 1993., 1993., 1993., 1993., 1993., 1993.,\n",
       "        1993., 1993., 1993., 1993., 1993., 1993., 1993., 1993., 1993.,\n",
       "        1993., 1993., 1993., 1993., 1993., 1993., 1993., 1993., 1993.,\n",
       "        1993., 1993., 1993., 1993., 1993., 1993., 1993., 1993., 1993.,\n",
       "        1993., 1993., 1993., 1993., 1993., 1993., 1993., 1993., 1993.,\n",
       "        1993., 1993., 1993., 1993., 1993., 1993., 1993., 1993., 1993.,\n",
       "        1993., 1993., 1993., 1993., 1993., 1993., 1993., 1993., 1993.,\n",
       "        1993., 1993., 1993., 1993., 1993., 1993., 1993., 1993., 1993.,\n",
       "        1993., 1993., 1993., 1993., 1993., 1993., 1993., 1993., 1993.,\n",
       "        1993., 1993., 1993., 1993., 1993., 1993., 1993., 1993., 1993.,\n",
       "        1993., 1993., 1993., 1993., 1993., 1993., 1993., 1993., 1993.,\n",
       "        1993., 1993., 1993., 1993., 1993., 1993., 1993., 1993., 1993.,\n",
       "        1993., 1993., 1993., 1993., 1993., 1993., 1993., 1993., 1993.,\n",
       "        1993., 1993., 1993., 1993., 1993., 1993., 1993., 1993., 1993.,\n",
       "        1993., 1993., 1993., 1993., 1993., 1993., 1993., 1993., 1993.,\n",
       "        1993., 1993., 1993., 1993., 1993., 1993., 1993., 1993., 1993.,\n",
       "        1993., 1993., 1993., 1993., 1993., 1993., 1993., 1993., 1993.,\n",
       "        1993., 1993., 1993., 1993., 1993., 1993., 1993., 1993., 1993.,\n",
       "        1993., 1993., 1993., 1993., 1993., 1993., 1993., 1993., 1993.,\n",
       "        1993., 1993., 1993., 1993., 1993., 1993., 1993., 1993., 1993.,\n",
       "        1993., 1993., 1993., 1993., 1993., 1993., 1993., 1993., 1993.,\n",
       "        1993., 1993., 1993., 1993., 1993., 1993., 1993., 1993., 1993.,\n",
       "        1993., 1993., 1993., 1993., 1993., 1993., 1993., 1993., 1993.,\n",
       "        1993., 1993., 1993., 1993., 1993., 1993., 1993., 1993., 1993.,\n",
       "        1993., 1993., 1993., 1993., 1993., 1993., 1993., 1993., 1993.,\n",
       "        1993., 1993., 1993., 1993., 1993., 1993., 1993., 1993., 1993.,\n",
       "        1993., 1993., 1993., 1993., 1993., 1993., 1993., 1993., 1993.,\n",
       "        1993., 1993., 1993., 1993., 1993., 1993., 1993., 1993., 1993.,\n",
       "        1993., 1993., 1993., 1993., 1993., 1993., 1993., 1993., 1993.,\n",
       "        1993., 1993., 1993., 1993., 1993., 1993., 1993., 1993., 1993.,\n",
       "        1993., 1993., 1993., 1993., 1993., 1993., 1993., 1993., 1993.,\n",
       "        1993., 1993., 1993., 1993., 1993., 1993., 1993., 1993., 1993.,\n",
       "        1993., 1993., 1993., 1993., 1993., 1993., 1993., 1993., 1993.,\n",
       "        1993., 1993., 1993., 1993., 1993., 1993., 1993., 1993., 1993.,\n",
       "        1993., 1993., 1993., 1993., 1993., 1993., 1993., 1993., 1993.,\n",
       "        1993., 1993., 1993., 1993., 1993., 1993., 1993., 1993., 1993.,\n",
       "        1993., 1993., 1993., 1993., 1993., 1993., 1993., 1993., 1993.,\n",
       "        1993., 1993., 1993., 1993., 1993., 1993., 1993., 1993., 1993.,\n",
       "        1993., 1993., 1993., 1993., 1993., 1993., 1993., 1993., 1993.,\n",
       "        1993., 1993., 1993., 1993., 1993., 1993., 1993., 1993., 1993.,\n",
       "        1993., 1993., 1993., 1993., 1993., 1993., 1993., 1993., 1993.,\n",
       "        1993., 1993., 1993., 1993., 1993., 1993., 1993., 1993., 1993.,\n",
       "        1993., 1993., 1993., 1993., 1993., 1993., 1993., 1993., 1993.,\n",
       "        1993., 1993., 1993., 1993., 1993., 1993., 1993., 1993., 1993.,\n",
       "        1993., 1993., 1993., 1993., 1993., 1993., 1993., 1993., 1993.,\n",
       "        1993., 1993., 1993., 1993., 1993., 1993., 1993., 1993., 1993.,\n",
       "        1993., 1993., 1993., 1993., 1993., 1993., 1993., 1993., 1993.,\n",
       "        1993., 1993., 1993., 1993., 1993., 1993., 1993., 1993., 1993.,\n",
       "        1993., 1993., 1993., 1993., 1993., 1993., 1993., 1993., 1993.,\n",
       "        1993., 1993., 1993., 1993., 1993., 1993., 1993., 1993., 1993.,\n",
       "        1993., 1993., 1993., 1993., 1993., 1993., 1993., 1993., 1993.,\n",
       "        1993., 1993., 1993., 1993., 1993., 1993., 1993., 1993., 1993.,\n",
       "        1993., 1993., 1993., 1993., 1993.]))"
      ]
     },
     "execution_count": 24,
     "metadata": {},
     "output_type": "execute_result"
    }
   ],
   "source": [
    "strategies[2], test_num_impute(strategies[2])"
   ]
  },
  {
   "cell_type": "code",
   "execution_count": 26,
   "metadata": {
    "collapsed": true
   },
   "outputs": [],
   "source": [
    "# Более сложная функция, которая позволяет задавать колонку и вид импьютации\n",
    "def test_num_impute_col(dataset, column, strategy_param):\n",
    "    temp_data = dataset[[column]]\n",
    "    \n",
    "    indicator = MissingIndicator()\n",
    "    mask_missing_values_only = indicator.fit_transform(temp_data)\n",
    "    \n",
    "    imp_num = SimpleImputer(strategy=strategy_param)\n",
    "    data_num_imp = imp_num.fit_transform(temp_data)\n",
    "    \n",
    "    filled_data = data_num_imp[mask_missing_values_only]\n",
    "    \n",
    "    return column, strategy_param, filled_data.size, filled_data[0], filled_data[filled_data.size-1]"
   ]
  },
  {
   "cell_type": "code",
   "execution_count": 27,
   "metadata": {},
   "outputs": [
    {
     "data": {
      "text/html": [
       "<div>\n",
       "<style scoped>\n",
       "    .dataframe tbody tr th:only-of-type {\n",
       "        vertical-align: middle;\n",
       "    }\n",
       "\n",
       "    .dataframe tbody tr th {\n",
       "        vertical-align: top;\n",
       "    }\n",
       "\n",
       "    .dataframe thead th {\n",
       "        text-align: right;\n",
       "    }\n",
       "</style>\n",
       "<table border=\"1\" class=\"dataframe\">\n",
       "  <thead>\n",
       "    <tr style=\"text-align: right;\">\n",
       "      <th></th>\n",
       "      <th>APPEARANCES</th>\n",
       "    </tr>\n",
       "  </thead>\n",
       "  <tbody>\n",
       "    <tr>\n",
       "      <th>count</th>\n",
       "      <td>15280.000000</td>\n",
       "    </tr>\n",
       "    <tr>\n",
       "      <th>mean</th>\n",
       "      <td>17.033377</td>\n",
       "    </tr>\n",
       "    <tr>\n",
       "      <th>std</th>\n",
       "      <td>96.372959</td>\n",
       "    </tr>\n",
       "    <tr>\n",
       "      <th>min</th>\n",
       "      <td>1.000000</td>\n",
       "    </tr>\n",
       "    <tr>\n",
       "      <th>25%</th>\n",
       "      <td>1.000000</td>\n",
       "    </tr>\n",
       "    <tr>\n",
       "      <th>50%</th>\n",
       "      <td>3.000000</td>\n",
       "    </tr>\n",
       "    <tr>\n",
       "      <th>75%</th>\n",
       "      <td>8.000000</td>\n",
       "    </tr>\n",
       "    <tr>\n",
       "      <th>max</th>\n",
       "      <td>4043.000000</td>\n",
       "    </tr>\n",
       "  </tbody>\n",
       "</table>\n",
       "</div>"
      ],
      "text/plain": [
       "        APPEARANCES\n",
       "count  15280.000000\n",
       "mean      17.033377\n",
       "std       96.372959\n",
       "min        1.000000\n",
       "25%        1.000000\n",
       "50%        3.000000\n",
       "75%        8.000000\n",
       "max     4043.000000"
      ]
     },
     "execution_count": 27,
     "metadata": {},
     "output_type": "execute_result"
    }
   ],
   "source": [
    "data[['APPEARANCES']].describe()"
   ]
  },
  {
   "cell_type": "code",
   "execution_count": 28,
   "metadata": {},
   "outputs": [
    {
     "data": {
      "text/plain": [
       "('APPEARANCES', 'mean', 1096, 17.033376963350786, 17.033376963350786)"
      ]
     },
     "execution_count": 28,
     "metadata": {},
     "output_type": "execute_result"
    }
   ],
   "source": [
    "test_num_impute_col(data, 'APPEARANCES', strategies[0])"
   ]
  },
  {
   "cell_type": "code",
   "execution_count": 29,
   "metadata": {},
   "outputs": [
    {
     "data": {
      "text/plain": [
       "('APPEARANCES', 'median', 1096, 3.0, 3.0)"
      ]
     },
     "execution_count": 29,
     "metadata": {},
     "output_type": "execute_result"
    }
   ],
   "source": [
    "test_num_impute_col(data, 'APPEARANCES', strategies[1])"
   ]
  },
  {
   "cell_type": "code",
   "execution_count": 30,
   "metadata": {},
   "outputs": [
    {
     "data": {
      "text/plain": [
       "('APPEARANCES', 'most_frequent', 1096, 1.0, 1.0)"
      ]
     },
     "execution_count": 30,
     "metadata": {},
     "output_type": "execute_result"
    }
   ],
   "source": [
    "test_num_impute_col(data, 'APPEARANCES', strategies[2])"
   ]
  },
  {
   "cell_type": "code",
   "execution_count": 53,
   "metadata": {},
   "outputs": [
    {
     "data": {
      "text/plain": [
       "('APPEARANCES', 'most_frequent', array([1., 1., 1., ..., 1., 1., 1.]))"
      ]
     },
     "execution_count": 53,
     "metadata": {},
     "output_type": "execute_result"
    }
   ],
   "source": [
    "test_num_impute_col_inplace(data, 'APPEARANCES', strategies[2])"
   ]
  },
  {
   "cell_type": "code",
   "execution_count": 61,
   "metadata": {
    "collapsed": true
   },
   "outputs": [],
   "source": [
    "def test_num_impute_inpl(strategy_param):\n",
    "    imp_num = SimpleImputer(strategy=strategy_param)\n",
    "    data_num_imp = imp_num.fit_transform(data_num_Year)\n",
    "    print(data_num_imp)\n",
    "    data['Year'] = data_num_imp\n",
    "    return data[mask_missing_values_only]"
   ]
  },
  {
   "cell_type": "code",
   "execution_count": 62,
   "metadata": {
    "scrolled": true
   },
   "outputs": [
    {
     "name": "stdout",
     "output_type": "stream",
     "text": [
      "[[1962.]\n",
      " [1941.]\n",
      " [1974.]\n",
      " ...\n",
      " [1993.]\n",
      " [1993.]\n",
      " [1993.]]\n"
     ]
    },
    {
     "data": {
      "text/plain": [
       "('most_frequent',\n",
       "        page_id                                               name  \\\n",
       " 12        7823                         Namor McKenzie (Earth-616)   \n",
       " 38        1677                     Rogue (Anna Marie) (Earth-616)   \n",
       " 80       67048                            Blaine Colt (Earth-616)   \n",
       " 114      37751                         Monica Rambeau (Earth-616)   \n",
       " 259      25255                          James Bradley (Earth-616)   \n",
       " 310     535259                                  Steel (Earth-616)   \n",
       " 413     626857                         Howard Hanover (Earth-616)   \n",
       " 683      13066                                    Fen (Earth-616)   \n",
       " 789     103136                                Thakorr (Earth-616)   \n",
       " 854      30883                             Brightwind (Earth-616)   \n",
       " 997      18445                         Ahura Boltagon (Earth-616)   \n",
       " 1118     17489                        Francesca Grace (Earth-616)   \n",
       " 1158      1771                       Alistaire Smythe (Earth-616)   \n",
       " 1316      2126                    Martinique Wyngarde (Earth-616)   \n",
       " 1454     93233                       Leonard McKenzie (Earth-616)   \n",
       " 1564     40064                               Hrimhari (Earth-616)   \n",
       " 1565    638526                             David Bond (Earth-616)   \n",
       " 1845    631202                     Aldrif Odinsdottir (Earth-616)   \n",
       " 1937    655072                              Shogo Lee (Earth-616)   \n",
       " 2033      6632                            Leila Davis (Earth-616)   \n",
       " 2147    665003                 Theodore Marley Brooks (Earth-616)   \n",
       " 2148    670564                             Arno Stark (Earth-616)   \n",
       " 2398    694425                           John Renwick (Earth-616)   \n",
       " 2399    640754                       Proxima Midnight (Earth-616)   \n",
       " 2549     21721                               Perrikus (Earth-616)   \n",
       " 2727    635523                      Doombot (Avenger) (Earth-616)   \n",
       " 2728    678469                            Selah Burke (Earth-616)   \n",
       " 2909     17957                          Teresa Martin (Earth-616)   \n",
       " 2910    635275                                 Alexis (Earth-616)   \n",
       " 2911    674895                            Kamala Khan (Earth-616)   \n",
       " ...        ...                                                ...   \n",
       " 16346    42106                                Thiazzi (Earth-616)   \n",
       " 16347   462671                                          TOR\\/test   \n",
       " 16348   725312                       Toxin (Luminals) (Earth-616)   \n",
       " 16349   507239                          Urizen Ul'var (Earth-616)   \n",
       " 16350    40061                                  Valka (Earth-616)   \n",
       " 16351   505759                                  Vayor (Earth-616)   \n",
       " 16352    16569                               Viridian (Earth-616)   \n",
       " 16353    16296                          William Burke (Earth-616)   \n",
       " 16354   120833                      William Falsworth (Earth-616)   \n",
       " 16355   693077                    William Shakespeare (Earth-616)   \n",
       " 16356   473710                       Yamata no Orichi (Earth-616)   \n",
       " 16357   670512  Zero G. Priestly (Legion Personality) (Earth-616)   \n",
       " 16358    12132                            Zora Loftus (Earth-616)   \n",
       " 16359   727035                                   Agar (Earth-616)   \n",
       " 16360   703546      Ana (Natasha Romanoff's neighbor) (Earth-616)   \n",
       " 16361   713903                         Dante's mother (Earth-616)   \n",
       " 16362   508693                               Farbauti (Earth-616)   \n",
       " 16363   694577         Finch (Kate Bishop's neighbor) (Earth-616)   \n",
       " 16364   655292              Jack O'Lantern (Impostor) (Earth-616)   \n",
       " 16365   684262                                 K'thol (Earth-616)   \n",
       " 16366   643435            Karen (Hijack's girlfriend) (Earth-616)   \n",
       " 16367   694583        Marcus (Kate Bishop's neighbor) (Earth-616)   \n",
       " 16368   703892               Marcy (Offer's employee) (Earth-616)   \n",
       " 16369   660799                         Melanie Kapoor (Earth-616)   \n",
       " 16370   674414                       Phoenix's Shadow (Earth-616)   \n",
       " 16371   657508                                 Ru'ach (Earth-616)   \n",
       " 16372   665474                    Thane (Thanos' son) (Earth-616)   \n",
       " 16373   695217                      Tinkerer (Skrull) (Earth-616)   \n",
       " 16374   708811                     TK421 (Spiderling) (Earth-616)   \n",
       " 16375   673702                              Yologarch (Earth-616)   \n",
       " \n",
       "                                                  urlslug                ID  \\\n",
       " 12                          \\/Namor_McKenzie_(Earth-616)  No Dual Identity   \n",
       " 38                      \\/Rogue_(Anna_Marie)_(Earth-616)   Secret Identity   \n",
       " 80                             \\/Blaine_Colt_(Earth-616)   Public Identity   \n",
       " 114                         \\/Monica_Rambeau_(Earth-616)   Secret Identity   \n",
       " 259                          \\/James_Bradley_(Earth-616)   Secret Identity   \n",
       " 310                                  \\/Steel_(Earth-616)   Public Identity   \n",
       " 413                         \\/Howard_Hanover_(Earth-616)   Public Identity   \n",
       " 683                                    \\/Fen_(Earth-616)  No Dual Identity   \n",
       " 789                                \\/Thakorr_(Earth-616)  No Dual Identity   \n",
       " 854                             \\/Brightwind_(Earth-616)               NaN   \n",
       " 997                         \\/Ahura_Boltagon_(Earth-616)  No Dual Identity   \n",
       " 1118                       \\/Francesca_Grace_(Earth-616)   Secret Identity   \n",
       " 1158                      \\/Alistaire_Smythe_(Earth-616)   Public Identity   \n",
       " 1316                   \\/Martinique_Wyngarde_(Earth-616)   Secret Identity   \n",
       " 1454                      \\/Leonard_McKenzie_(Earth-616)  No Dual Identity   \n",
       " 1564                              \\/Hrimhari_(Earth-616)   Secret Identity   \n",
       " 1565                            \\/David_Bond_(Earth-616)   Secret Identity   \n",
       " 1845                    \\/Aldrif_Odinsdottir_(Earth-616)   Secret Identity   \n",
       " 1937                             \\/Shogo_Lee_(Earth-616)  No Dual Identity   \n",
       " 2033                           \\/Leila_Davis_(Earth-616)   Public Identity   \n",
       " 2147                \\/Theodore_Marley_Brooks_(Earth-616)  No Dual Identity   \n",
       " 2148                            \\/Arno_Stark_(Earth-616)  No Dual Identity   \n",
       " 2398                          \\/John_Renwick_(Earth-616)  No Dual Identity   \n",
       " 2399                      \\/Proxima_Midnight_(Earth-616)  No Dual Identity   \n",
       " 2549                              \\/Perrikus_(Earth-616)               NaN   \n",
       " 2727                     \\/Doombot_(Avenger)_(Earth-616)   Public Identity   \n",
       " 2728                           \\/Selah_Burke_(Earth-616)   Secret Identity   \n",
       " 2909                         \\/Teresa_Martin_(Earth-616)   Public Identity   \n",
       " 2910                                \\/Alexis_(Earth-616)   Public Identity   \n",
       " 2911                           \\/Kamala_Khan_(Earth-616)   Secret Identity   \n",
       " ...                                                  ...               ...   \n",
       " 16346                              \\/Thiazzi_(Earth-616)               NaN   \n",
       " 16347                                   \\/User:TOR\\/test               NaN   \n",
       " 16348                     \\/Toxin_(Luminals)_(Earth-616)   Secret Identity   \n",
       " 16349                      \\/Urizen_Ul%27var_(Earth-616)   Public Identity   \n",
       " 16350                                \\/Valka_(Earth-616)               NaN   \n",
       " 16351                                \\/Vayor_(Earth-616)  No Dual Identity   \n",
       " 16352                             \\/Viridian_(Earth-616)               NaN   \n",
       " 16353                        \\/William_Burke_(Earth-616)               NaN   \n",
       " 16354                    \\/William_Falsworth_(Earth-616)               NaN   \n",
       " 16355                  \\/William_Shakespeare_(Earth-616)   Public Identity   \n",
       " 16356                     \\/Yamata_no_Orichi_(Earth-616)   Public Identity   \n",
       " 16357  \\/Zero_G._Priestly_(Legion_Personality)_(Earth...   Secret Identity   \n",
       " 16358                          \\/Zora_Loftus_(Earth-616)   Secret Identity   \n",
       " 16359                                 \\/Agar_(Earth-616)  No Dual Identity   \n",
       " 16360  \\/Ana_(Natasha_Romanoff%27s_neighbor)_(Earth-616)  No Dual Identity   \n",
       " 16361                     \\/Dante%27s_mother_(Earth-616)  No Dual Identity   \n",
       " 16362                             \\/Farbauti_(Earth-616)   Public Identity   \n",
       " 16363     \\/Finch_(Kate_Bishop%27s_neighbor)_(Earth-616)   Public Identity   \n",
       " 16364          \\/Jack_O%27Lantern_(Impostor)_(Earth-616)   Secret Identity   \n",
       " 16365                             \\/K%27thol_(Earth-616)               NaN   \n",
       " 16366        \\/Karen_(Hijack%27s_girlfriend)_(Earth-616)   Public Identity   \n",
       " 16367    \\/Marcus_(Kate_Bishop%27s_neighbor)_(Earth-616)   Public Identity   \n",
       " 16368           \\/Marcy_(Offer%27s_employee)_(Earth-616)   Public Identity   \n",
       " 16369                       \\/Melanie_Kapoor_(Earth-616)   Public Identity   \n",
       " 16370                   \\/Phoenix%27s_Shadow_(Earth-616)               NaN   \n",
       " 16371                             \\/Ru%27ach_(Earth-616)  No Dual Identity   \n",
       " 16372                \\/Thane_(Thanos%27_son)_(Earth-616)  No Dual Identity   \n",
       " 16373                    \\/Tinkerer_(Skrull)_(Earth-616)   Secret Identity   \n",
       " 16374                   \\/TK421_(Spiderling)_(Earth-616)   Secret Identity   \n",
       " 16375                            \\/Yologarch_(Earth-616)               NaN   \n",
       " \n",
       "                     ALIGN          EYE         HAIR                SEX  \\\n",
       " 12     Neutral Characters   Green Eyes   Black Hair    Male Characters   \n",
       " 38        Good Characters   Green Eyes  Auburn Hair  Female Characters   \n",
       " 80                    NaN    Blue Eyes   Blond Hair    Male Characters   \n",
       " 114       Good Characters   Brown Eyes   Black Hair  Female Characters   \n",
       " 259       Good Characters    Blue Eyes   Black Hair    Male Characters   \n",
       " 310       Good Characters          NaN   White Hair    Male Characters   \n",
       " 413                   NaN          NaN   Black Hair    Male Characters   \n",
       " 683       Good Characters   Green Eyes  Auburn Hair  Female Characters   \n",
       " 789        Bad Characters          NaN      No Hair    Male Characters   \n",
       " 854                   NaN     Red Eyes   Black Hair    Male Characters   \n",
       " 997                   NaN   Brown Eyes   Black Hair    Male Characters   \n",
       " 1118                  NaN   Black Eyes   Black Hair  Female Characters   \n",
       " 1158       Bad Characters   Brown Eyes   Brown Hair    Male Characters   \n",
       " 1316       Bad Characters    Blue Eyes   Brown Hair  Female Characters   \n",
       " 1454      Good Characters   Brown Eyes   Black Hair    Male Characters   \n",
       " 1564      Good Characters  Silver Eyes    Grey Hair    Male Characters   \n",
       " 1565      Good Characters   Brown Eyes   Black Hair    Male Characters   \n",
       " 1845   Neutral Characters   White Eyes     Red Hair  Female Characters   \n",
       " 1937   Neutral Characters   Brown Eyes   Black Hair    Male Characters   \n",
       " 2033   Neutral Characters    Blue Eyes   Black Hair  Female Characters   \n",
       " 2147      Good Characters          NaN          NaN    Male Characters   \n",
       " 2148      Good Characters    Blue Eyes   Black Hair    Male Characters   \n",
       " 2398      Good Characters          NaN          NaN    Male Characters   \n",
       " 2399       Bad Characters   White Eyes    Blue Hair  Female Characters   \n",
       " 2549       Bad Characters     Red Eyes          NaN    Male Characters   \n",
       " 2727      Good Characters     Red Eyes      No Hair    Male Characters   \n",
       " 2728      Good Characters   Brown Eyes   Black Hair  Female Characters   \n",
       " 2909      Good Characters   Brown Eyes   Brown Hair  Female Characters   \n",
       " 2910      Good Characters  Purple Eyes   Blond Hair  Female Characters   \n",
       " 2911      Good Characters   Brown Eyes   Brown Hair  Female Characters   \n",
       " ...                   ...          ...          ...                ...   \n",
       " 16346                 NaN          NaN          NaN    Male Characters   \n",
       " 16347                 NaN          NaN          NaN                NaN   \n",
       " 16348                 NaN          NaN      No Hair                NaN   \n",
       " 16349     Good Characters   White Eyes          NaN    Male Characters   \n",
       " 16350                 NaN          NaN          NaN                NaN   \n",
       " 16351      Bad Characters          NaN   Black Hair    Male Characters   \n",
       " 16352                 NaN          NaN          NaN    Male Characters   \n",
       " 16353                 NaN          NaN          NaN    Male Characters   \n",
       " 16354     Good Characters          NaN          NaN    Male Characters   \n",
       " 16355  Neutral Characters          NaN          NaN    Male Characters   \n",
       " 16356      Bad Characters          NaN      No Hair    Male Characters   \n",
       " 16357  Neutral Characters          NaN          NaN    Male Characters   \n",
       " 16358      Bad Characters          NaN   Blond Hair  Female Characters   \n",
       " 16359      Bad Characters   Black Eyes      No Hair    Male Characters   \n",
       " 16360     Good Characters   Black Eyes    Grey Hair  Female Characters   \n",
       " 16361  Neutral Characters          NaN          NaN  Female Characters   \n",
       " 16362      Bad Characters     Red Eyes          NaN  Female Characters   \n",
       " 16363     Good Characters   Black Eyes         Bald    Male Characters   \n",
       " 16364      Bad Characters   Hazel Eyes         Bald    Male Characters   \n",
       " 16365     Good Characters          NaN          NaN    Male Characters   \n",
       " 16366  Neutral Characters   Brown Eyes   Black Hair  Female Characters   \n",
       " 16367     Good Characters   Hazel Eyes         Bald    Male Characters   \n",
       " 16368  Neutral Characters          NaN   Brown Hair  Female Characters   \n",
       " 16369     Good Characters    Blue Eyes   Black Hair  Female Characters   \n",
       " 16370  Neutral Characters          NaN          NaN                NaN   \n",
       " 16371      Bad Characters   Green Eyes      No Hair    Male Characters   \n",
       " 16372     Good Characters    Blue Eyes         Bald    Male Characters   \n",
       " 16373      Bad Characters   Black Eyes         Bald    Male Characters   \n",
       " 16374  Neutral Characters          NaN          NaN    Male Characters   \n",
       " 16375      Bad Characters          NaN          NaN                NaN   \n",
       " \n",
       "                          GSM                ALIVE  APPEARANCES  \\\n",
       " 12                       NaN    Living Characters       1528.0   \n",
       " 38                       NaN    Living Characters        850.0   \n",
       " 80                       NaN  Deceased Characters        429.0   \n",
       " 114                      NaN    Living Characters        327.0   \n",
       " 259                      NaN    Living Characters        158.0   \n",
       " 310                      NaN    Living Characters        134.0   \n",
       " 413                      NaN    Living Characters        100.0   \n",
       " 683                      NaN    Living Characters         55.0   \n",
       " 789                      NaN  Deceased Characters         48.0   \n",
       " 854                      NaN    Living Characters         44.0   \n",
       " 997                      NaN    Living Characters         38.0   \n",
       " 1118                     NaN    Living Characters         34.0   \n",
       " 1158                     NaN  Deceased Characters         33.0   \n",
       " 1316                     NaN    Living Characters         29.0   \n",
       " 1454                     NaN  Deceased Characters         26.0   \n",
       " 1564                     NaN  Deceased Characters         24.0   \n",
       " 1565                     NaN    Living Characters         24.0   \n",
       " 1845                     NaN    Living Characters         20.0   \n",
       " 1937                     NaN    Living Characters         19.0   \n",
       " 2033                     NaN  Deceased Characters         18.0   \n",
       " 2147                     NaN    Living Characters         17.0   \n",
       " 2148                     NaN    Living Characters         17.0   \n",
       " 2398                     NaN    Living Characters         15.0   \n",
       " 2399                     NaN    Living Characters         15.0   \n",
       " 2549                     NaN    Living Characters         14.0   \n",
       " 2727                     NaN    Living Characters         13.0   \n",
       " 2728                     NaN    Living Characters         13.0   \n",
       " 2909                     NaN    Living Characters         12.0   \n",
       " 2910                     NaN    Living Characters         12.0   \n",
       " 2911                     NaN    Living Characters         12.0   \n",
       " ...                      ...                  ...          ...   \n",
       " 16346                    NaN  Deceased Characters          NaN   \n",
       " 16347                    NaN                  NaN          NaN   \n",
       " 16348                    NaN    Living Characters          NaN   \n",
       " 16349                    NaN    Living Characters          NaN   \n",
       " 16350                    NaN    Living Characters          NaN   \n",
       " 16351                    NaN    Living Characters          NaN   \n",
       " 16352                    NaN    Living Characters          NaN   \n",
       " 16353                    NaN    Living Characters          NaN   \n",
       " 16354                    NaN  Deceased Characters          NaN   \n",
       " 16355                    NaN    Living Characters          NaN   \n",
       " 16356                    NaN    Living Characters          NaN   \n",
       " 16357                    NaN    Living Characters          NaN   \n",
       " 16358                    NaN    Living Characters          NaN   \n",
       " 16359                    NaN    Living Characters          NaN   \n",
       " 16360                    NaN    Living Characters          NaN   \n",
       " 16361                    NaN  Deceased Characters          NaN   \n",
       " 16362                    NaN    Living Characters          NaN   \n",
       " 16363  Homosexual Characters    Living Characters          NaN   \n",
       " 16364                    NaN    Living Characters          NaN   \n",
       " 16365                    NaN  Deceased Characters          NaN   \n",
       " 16366                    NaN    Living Characters          NaN   \n",
       " 16367  Homosexual Characters    Living Characters          NaN   \n",
       " 16368                    NaN    Living Characters          NaN   \n",
       " 16369                    NaN    Living Characters          NaN   \n",
       " 16370                    NaN    Living Characters          NaN   \n",
       " 16371                    NaN    Living Characters          NaN   \n",
       " 16372                    NaN    Living Characters          NaN   \n",
       " 16373                    NaN    Living Characters          NaN   \n",
       " 16374                    NaN    Living Characters          NaN   \n",
       " 16375                    NaN    Living Characters          NaN   \n",
       " \n",
       "       FIRST APPEARANCE    Year  \n",
       " 12                 NaN  1993.0  \n",
       " 38                 NaN  1993.0  \n",
       " 80                 NaN  1993.0  \n",
       " 114                NaN  1993.0  \n",
       " 259                NaN  1993.0  \n",
       " 310                NaN  1993.0  \n",
       " 413                NaN  1993.0  \n",
       " 683                NaN  1993.0  \n",
       " 789                NaN  1993.0  \n",
       " 854                NaN  1993.0  \n",
       " 997                NaN  1993.0  \n",
       " 1118               NaN  1993.0  \n",
       " 1158               NaN  1993.0  \n",
       " 1316               NaN  1993.0  \n",
       " 1454               NaN  1993.0  \n",
       " 1564               NaN  1993.0  \n",
       " 1565               NaN  1993.0  \n",
       " 1845               NaN  1993.0  \n",
       " 1937               NaN  1993.0  \n",
       " 2033               NaN  1993.0  \n",
       " 2147               NaN  1993.0  \n",
       " 2148               NaN  1993.0  \n",
       " 2398               NaN  1993.0  \n",
       " 2399               NaN  1993.0  \n",
       " 2549               NaN  1993.0  \n",
       " 2727               NaN  1993.0  \n",
       " 2728               NaN  1993.0  \n",
       " 2909               NaN  1993.0  \n",
       " 2910               NaN  1993.0  \n",
       " 2911               NaN  1993.0  \n",
       " ...                ...     ...  \n",
       " 16346              NaN  1993.0  \n",
       " 16347              NaN  1993.0  \n",
       " 16348              NaN  1993.0  \n",
       " 16349              NaN  1993.0  \n",
       " 16350              NaN  1993.0  \n",
       " 16351              NaN  1993.0  \n",
       " 16352              NaN  1993.0  \n",
       " 16353              NaN  1993.0  \n",
       " 16354              NaN  1993.0  \n",
       " 16355              NaN  1993.0  \n",
       " 16356              NaN  1993.0  \n",
       " 16357              NaN  1993.0  \n",
       " 16358              NaN  1993.0  \n",
       " 16359              NaN  1993.0  \n",
       " 16360              NaN  1993.0  \n",
       " 16361              NaN  1993.0  \n",
       " 16362              NaN  1993.0  \n",
       " 16363              NaN  1993.0  \n",
       " 16364              NaN  1993.0  \n",
       " 16365              NaN  1993.0  \n",
       " 16366              NaN  1993.0  \n",
       " 16367              NaN  1993.0  \n",
       " 16368              NaN  1993.0  \n",
       " 16369              NaN  1993.0  \n",
       " 16370              NaN  1993.0  \n",
       " 16371              NaN  1993.0  \n",
       " 16372              NaN  1993.0  \n",
       " 16373              NaN  1993.0  \n",
       " 16374              NaN  1993.0  \n",
       " 16375              NaN  1993.0  \n",
       " \n",
       " [815 rows x 13 columns])"
      ]
     },
     "execution_count": 62,
     "metadata": {},
     "output_type": "execute_result"
    }
   ],
   "source": [
    "strategies[2], test_num_impute_inpl(strategies[2])"
   ]
  },
  {
   "cell_type": "code",
   "execution_count": 63,
   "metadata": {
    "scrolled": true
   },
   "outputs": [
    {
     "data": {
      "text/plain": [
       "1993.0    1369\n",
       "1994.0     485\n",
       "1992.0     455\n",
       "2006.0     381\n",
       "2008.0     360\n",
       "1991.0     360\n",
       "1990.0     357\n",
       "2011.0     349\n",
       "2005.0     336\n",
       "1997.0     334\n",
       "2010.0     324\n",
       "2000.0     322\n",
       "1989.0     321\n",
       "2002.0     311\n",
       "1976.0     308\n",
       "2007.0     307\n",
       "1996.0     306\n",
       "1988.0     304\n",
       "2009.0     302\n",
       "1995.0     301\n",
       "1977.0     292\n",
       "1975.0     287\n",
       "2004.0     282\n",
       "1998.0     274\n",
       "2003.0     257\n",
       "1980.0     257\n",
       "1985.0     254\n",
       "1986.0     247\n",
       "1973.0     245\n",
       "1942.0     244\n",
       "          ... \n",
       "1972.0     182\n",
       "1965.0     180\n",
       "1964.0     174\n",
       "2013.0     167\n",
       "1968.0     142\n",
       "1966.0     140\n",
       "1944.0     134\n",
       "1969.0     134\n",
       "1970.0     132\n",
       "1967.0     124\n",
       "1948.0     116\n",
       "1971.0     113\n",
       "1962.0     105\n",
       "1945.0      97\n",
       "1946.0      90\n",
       "1961.0      84\n",
       "1954.0      82\n",
       "1947.0      72\n",
       "1939.0      69\n",
       "1949.0      62\n",
       "1951.0      54\n",
       "1955.0      43\n",
       "1960.0      40\n",
       "1953.0      39\n",
       "1950.0      29\n",
       "1952.0      26\n",
       "1956.0      16\n",
       "1957.0       7\n",
       "1959.0       4\n",
       "1958.0       2\n",
       "Name: Year, Length: 75, dtype: int64"
      ]
     },
     "execution_count": 63,
     "metadata": {},
     "output_type": "execute_result"
    }
   ],
   "source": [
    "#new\n",
    "data['Year'].value_counts()"
   ]
  },
  {
   "cell_type": "code",
   "execution_count": 3,
   "metadata": {
    "scrolled": true
   },
   "outputs": [
    {
     "data": {
      "text/plain": [
       "1993.0    554\n",
       "1994.0    485\n",
       "1992.0    455\n",
       "2006.0    381\n",
       "2008.0    360\n",
       "1991.0    360\n",
       "1990.0    357\n",
       "2011.0    349\n",
       "2005.0    336\n",
       "1997.0    334\n",
       "2010.0    324\n",
       "2000.0    322\n",
       "1989.0    321\n",
       "2002.0    311\n",
       "1976.0    308\n",
       "2007.0    307\n",
       "1996.0    306\n",
       "1988.0    304\n",
       "2009.0    302\n",
       "1995.0    301\n",
       "1977.0    292\n",
       "1975.0    287\n",
       "2004.0    282\n",
       "1998.0    274\n",
       "2003.0    257\n",
       "1980.0    257\n",
       "1985.0    254\n",
       "1986.0    247\n",
       "1973.0    245\n",
       "1942.0    244\n",
       "         ... \n",
       "1972.0    182\n",
       "1965.0    180\n",
       "1964.0    174\n",
       "2013.0    167\n",
       "1968.0    142\n",
       "1966.0    140\n",
       "1944.0    134\n",
       "1969.0    134\n",
       "1970.0    132\n",
       "1967.0    124\n",
       "1948.0    116\n",
       "1971.0    113\n",
       "1962.0    105\n",
       "1945.0     97\n",
       "1946.0     90\n",
       "1961.0     84\n",
       "1954.0     82\n",
       "1947.0     72\n",
       "1939.0     69\n",
       "1949.0     62\n",
       "1951.0     54\n",
       "1955.0     43\n",
       "1960.0     40\n",
       "1953.0     39\n",
       "1950.0     29\n",
       "1952.0     26\n",
       "1956.0     16\n",
       "1957.0      7\n",
       "1959.0      4\n",
       "1958.0      2\n",
       "Name: Year, Length: 75, dtype: int64"
      ]
     },
     "execution_count": 3,
     "metadata": {},
     "output_type": "execute_result"
    }
   ],
   "source": [
    "#old\n",
    "data['Year'].value_counts()"
   ]
  },
  {
   "cell_type": "code",
   "execution_count": 64,
   "metadata": {
    "scrolled": false
   },
   "outputs": [
    {
     "data": {
      "text/plain": [
       "page_id                 0\n",
       "name                    0\n",
       "urlslug                 0\n",
       "ID                   3770\n",
       "ALIGN                2812\n",
       "EYE                  9767\n",
       "HAIR                 4264\n",
       "SEX                   854\n",
       "GSM                 16286\n",
       "ALIVE                   3\n",
       "APPEARANCES          1096\n",
       "FIRST APPEARANCE      815\n",
       "Year                    0\n",
       "dtype: int64"
      ]
     },
     "execution_count": 64,
     "metadata": {},
     "output_type": "execute_result"
    }
   ],
   "source": [
    "data.isnull().sum()"
   ]
  },
  {
   "cell_type": "code",
   "execution_count": 66,
   "metadata": {},
   "outputs": [
    {
     "data": {
      "text/html": [
       "<div>\n",
       "<style scoped>\n",
       "    .dataframe tbody tr th:only-of-type {\n",
       "        vertical-align: middle;\n",
       "    }\n",
       "\n",
       "    .dataframe tbody tr th {\n",
       "        vertical-align: top;\n",
       "    }\n",
       "\n",
       "    .dataframe thead th {\n",
       "        text-align: right;\n",
       "    }\n",
       "</style>\n",
       "<table border=\"1\" class=\"dataframe\">\n",
       "  <thead>\n",
       "    <tr style=\"text-align: right;\">\n",
       "      <th></th>\n",
       "      <th>Year</th>\n",
       "    </tr>\n",
       "  </thead>\n",
       "  <tbody>\n",
       "    <tr>\n",
       "      <th>count</th>\n",
       "      <td>16376.000000</td>\n",
       "    </tr>\n",
       "    <tr>\n",
       "      <th>mean</th>\n",
       "      <td>1985.352345</td>\n",
       "    </tr>\n",
       "    <tr>\n",
       "      <th>std</th>\n",
       "      <td>19.247732</td>\n",
       "    </tr>\n",
       "    <tr>\n",
       "      <th>min</th>\n",
       "      <td>1939.000000</td>\n",
       "    </tr>\n",
       "    <tr>\n",
       "      <th>25%</th>\n",
       "      <td>1975.000000</td>\n",
       "    </tr>\n",
       "    <tr>\n",
       "      <th>50%</th>\n",
       "      <td>1991.000000</td>\n",
       "    </tr>\n",
       "    <tr>\n",
       "      <th>75%</th>\n",
       "      <td>2000.000000</td>\n",
       "    </tr>\n",
       "    <tr>\n",
       "      <th>max</th>\n",
       "      <td>2013.000000</td>\n",
       "    </tr>\n",
       "  </tbody>\n",
       "</table>\n",
       "</div>"
      ],
      "text/plain": [
       "               Year\n",
       "count  16376.000000\n",
       "mean    1985.352345\n",
       "std       19.247732\n",
       "min     1939.000000\n",
       "25%     1975.000000\n",
       "50%     1991.000000\n",
       "75%     2000.000000\n",
       "max     2013.000000"
      ]
     },
     "execution_count": 66,
     "metadata": {},
     "output_type": "execute_result"
    }
   ],
   "source": [
    "#new\n",
    "data[['Year']].describe()"
   ]
  },
  {
   "cell_type": "code",
   "execution_count": 6,
   "metadata": {
    "scrolled": true
   },
   "outputs": [
    {
     "data": {
      "text/html": [
       "<div>\n",
       "<style scoped>\n",
       "    .dataframe tbody tr th:only-of-type {\n",
       "        vertical-align: middle;\n",
       "    }\n",
       "\n",
       "    .dataframe tbody tr th {\n",
       "        vertical-align: top;\n",
       "    }\n",
       "\n",
       "    .dataframe thead th {\n",
       "        text-align: right;\n",
       "    }\n",
       "</style>\n",
       "<table border=\"1\" class=\"dataframe\">\n",
       "  <thead>\n",
       "    <tr style=\"text-align: right;\">\n",
       "      <th></th>\n",
       "      <th>Year</th>\n",
       "    </tr>\n",
       "  </thead>\n",
       "  <tbody>\n",
       "    <tr>\n",
       "      <th>count</th>\n",
       "      <td>15561.000000</td>\n",
       "    </tr>\n",
       "    <tr>\n",
       "      <th>mean</th>\n",
       "      <td>1984.951803</td>\n",
       "    </tr>\n",
       "    <tr>\n",
       "      <th>std</th>\n",
       "      <td>19.663571</td>\n",
       "    </tr>\n",
       "    <tr>\n",
       "      <th>min</th>\n",
       "      <td>1939.000000</td>\n",
       "    </tr>\n",
       "    <tr>\n",
       "      <th>25%</th>\n",
       "      <td>1974.000000</td>\n",
       "    </tr>\n",
       "    <tr>\n",
       "      <th>50%</th>\n",
       "      <td>1990.000000</td>\n",
       "    </tr>\n",
       "    <tr>\n",
       "      <th>75%</th>\n",
       "      <td>2000.000000</td>\n",
       "    </tr>\n",
       "    <tr>\n",
       "      <th>max</th>\n",
       "      <td>2013.000000</td>\n",
       "    </tr>\n",
       "  </tbody>\n",
       "</table>\n",
       "</div>"
      ],
      "text/plain": [
       "               Year\n",
       "count  15561.000000\n",
       "mean    1984.951803\n",
       "std       19.663571\n",
       "min     1939.000000\n",
       "25%     1974.000000\n",
       "50%     1990.000000\n",
       "75%     2000.000000\n",
       "max     2013.000000"
      ]
     },
     "execution_count": 6,
     "metadata": {},
     "output_type": "execute_result"
    }
   ],
   "source": [
    "#old\n",
    "data[['Year']].describe()"
   ]
  },
  {
   "cell_type": "code",
   "execution_count": null,
   "metadata": {
    "collapsed": true
   },
   "outputs": [],
   "source": [
    "#сместили немного выборку изза того что взяли моду а не медиану"
   ]
  },
  {
   "cell_type": "markdown",
   "metadata": {},
   "source": [
    "### Обработка пропусков в категориальных данных"
   ]
  },
  {
   "cell_type": "code",
   "execution_count": 10,
   "metadata": {},
   "outputs": [
    {
     "name": "stdout",
     "output_type": "stream",
     "text": [
      "Колонка ID. Тип данных object. Количество пустых значений 3770, 23.02%.\n",
      "Колонка ALIGN. Тип данных object. Количество пустых значений 2812, 17.17%.\n",
      "Колонка EYE. Тип данных object. Количество пустых значений 9767, 59.64%.\n",
      "Колонка HAIR. Тип данных object. Количество пустых значений 4264, 26.04%.\n",
      "Колонка SEX. Тип данных object. Количество пустых значений 854, 5.21%.\n",
      "Колонка GSM. Тип данных object. Количество пустых значений 16286, 99.45%.\n",
      "Колонка ALIVE. Тип данных object. Количество пустых значений 3, 0.02%.\n",
      "Колонка FIRST APPEARANCE. Тип данных object. Количество пустых значений 815, 4.98%.\n"
     ]
    }
   ],
   "source": [
    "# Выберем категориальные колонки с пропущенными значениями\n",
    "# Цикл по колонкам датасета\n",
    "cat_cols = []\n",
    "for col in data.columns:\n",
    "    # Количество пустых значений \n",
    "    temp_null_count = data[data[col].isnull()].shape[0]\n",
    "    dt = str(data[col].dtype)\n",
    "    if temp_null_count>0 and (dt=='object'):\n",
    "        cat_cols.append(col)\n",
    "        temp_perc = round((temp_null_count / total_count) * 100.0, 2)\n",
    "        print('Колонка {}. Тип данных {}. Количество пустых значений {}, {}%.'.format(col, dt, temp_null_count, temp_perc))"
   ]
  },
  {
   "cell_type": "code",
   "execution_count": 17,
   "metadata": {
    "scrolled": true
   },
   "outputs": [
    {
     "data": {
      "text/html": [
       "<div>\n",
       "<style scoped>\n",
       "    .dataframe tbody tr th:only-of-type {\n",
       "        vertical-align: middle;\n",
       "    }\n",
       "\n",
       "    .dataframe tbody tr th {\n",
       "        vertical-align: top;\n",
       "    }\n",
       "\n",
       "    .dataframe thead th {\n",
       "        text-align: right;\n",
       "    }\n",
       "</style>\n",
       "<table border=\"1\" class=\"dataframe\">\n",
       "  <thead>\n",
       "    <tr style=\"text-align: right;\">\n",
       "      <th></th>\n",
       "      <th>ALIGN</th>\n",
       "    </tr>\n",
       "  </thead>\n",
       "  <tbody>\n",
       "    <tr>\n",
       "      <th>0</th>\n",
       "      <td>Good Characters</td>\n",
       "    </tr>\n",
       "    <tr>\n",
       "      <th>1</th>\n",
       "      <td>Good Characters</td>\n",
       "    </tr>\n",
       "    <tr>\n",
       "      <th>2</th>\n",
       "      <td>Neutral Characters</td>\n",
       "    </tr>\n",
       "    <tr>\n",
       "      <th>3</th>\n",
       "      <td>Good Characters</td>\n",
       "    </tr>\n",
       "    <tr>\n",
       "      <th>4</th>\n",
       "      <td>Good Characters</td>\n",
       "    </tr>\n",
       "  </tbody>\n",
       "</table>\n",
       "</div>"
      ],
      "text/plain": [
       "                ALIGN\n",
       "0     Good Characters\n",
       "1     Good Characters\n",
       "2  Neutral Characters\n",
       "3     Good Characters\n",
       "4     Good Characters"
      ]
     },
     "execution_count": 17,
     "metadata": {},
     "output_type": "execute_result"
    }
   ],
   "source": [
    "# где меньше пропусков, то и достовернее брать для модели\n",
    "cat_temp_data = data[['ALIGN']]\n",
    "cat_temp_data.head()"
   ]
  },
  {
   "cell_type": "code",
   "execution_count": 18,
   "metadata": {},
   "outputs": [
    {
     "data": {
      "text/plain": [
       "array(['Good Characters', 'Neutral Characters', 'Bad Characters', nan],\n",
       "      dtype=object)"
      ]
     },
     "execution_count": 18,
     "metadata": {},
     "output_type": "execute_result"
    }
   ],
   "source": [
    "cat_temp_data['ALIGN'].unique()"
   ]
  },
  {
   "cell_type": "code",
   "execution_count": 16,
   "metadata": {},
   "outputs": [
    {
     "data": {
      "text/plain": [
       "Bad Characters        6720\n",
       "Good Characters       4636\n",
       "Neutral Characters    2208\n",
       "Name: ALIGN, dtype: int64"
      ]
     },
     "execution_count": 16,
     "metadata": {},
     "output_type": "execute_result"
    }
   ],
   "source": [
    "data['ALIGN'].value_counts()"
   ]
  },
  {
   "cell_type": "code",
   "execution_count": 21,
   "metadata": {},
   "outputs": [
    {
     "data": {
      "text/plain": [
       "array([['Good Characters'],\n",
       "       ['Good Characters'],\n",
       "       ['Neutral Characters'],\n",
       "       ...,\n",
       "       ['Bad Characters'],\n",
       "       ['Neutral Characters'],\n",
       "       ['Bad Characters']], dtype=object)"
      ]
     },
     "execution_count": 21,
     "metadata": {},
     "output_type": "execute_result"
    }
   ],
   "source": [
    "# Импьютация наиболее частыми значениями\n",
    "imp2 = SimpleImputer(missing_values=np.nan, strategy='most_frequent')\n",
    "data_imp2 = imp2.fit_transform(cat_temp_data)\n",
    "data_imp2"
   ]
  },
  {
   "cell_type": "code",
   "execution_count": 25,
   "metadata": {},
   "outputs": [
    {
     "data": {
      "text/plain": [
       "array(['Bad Characters', 'Good Characters', 'Neutral Characters'],\n",
       "      dtype=object)"
      ]
     },
     "execution_count": 25,
     "metadata": {},
     "output_type": "execute_result"
    }
   ],
   "source": [
    "np.unique(data_imp2)"
   ]
  },
  {
   "cell_type": "code",
   "execution_count": 27,
   "metadata": {
    "scrolled": true
   },
   "outputs": [
    {
     "data": {
      "text/html": [
       "<div>\n",
       "<style scoped>\n",
       "    .dataframe tbody tr th:only-of-type {\n",
       "        vertical-align: middle;\n",
       "    }\n",
       "\n",
       "    .dataframe tbody tr th {\n",
       "        vertical-align: top;\n",
       "    }\n",
       "\n",
       "    .dataframe thead th {\n",
       "        text-align: right;\n",
       "    }\n",
       "</style>\n",
       "<table border=\"1\" class=\"dataframe\">\n",
       "  <thead>\n",
       "    <tr style=\"text-align: right;\">\n",
       "      <th></th>\n",
       "      <th>ALIGN_filled</th>\n",
       "    </tr>\n",
       "  </thead>\n",
       "  <tbody>\n",
       "    <tr>\n",
       "      <th>0</th>\n",
       "      <td>Good Characters</td>\n",
       "    </tr>\n",
       "    <tr>\n",
       "      <th>1</th>\n",
       "      <td>Good Characters</td>\n",
       "    </tr>\n",
       "    <tr>\n",
       "      <th>2</th>\n",
       "      <td>Neutral Characters</td>\n",
       "    </tr>\n",
       "    <tr>\n",
       "      <th>3</th>\n",
       "      <td>Good Characters</td>\n",
       "    </tr>\n",
       "    <tr>\n",
       "      <th>4</th>\n",
       "      <td>Good Characters</td>\n",
       "    </tr>\n",
       "    <tr>\n",
       "      <th>5</th>\n",
       "      <td>Good Characters</td>\n",
       "    </tr>\n",
       "    <tr>\n",
       "      <th>6</th>\n",
       "      <td>Good Characters</td>\n",
       "    </tr>\n",
       "    <tr>\n",
       "      <th>7</th>\n",
       "      <td>Good Characters</td>\n",
       "    </tr>\n",
       "    <tr>\n",
       "      <th>8</th>\n",
       "      <td>Neutral Characters</td>\n",
       "    </tr>\n",
       "    <tr>\n",
       "      <th>9</th>\n",
       "      <td>Good Characters</td>\n",
       "    </tr>\n",
       "    <tr>\n",
       "      <th>10</th>\n",
       "      <td>Good Characters</td>\n",
       "    </tr>\n",
       "    <tr>\n",
       "      <th>11</th>\n",
       "      <td>Good Characters</td>\n",
       "    </tr>\n",
       "    <tr>\n",
       "      <th>12</th>\n",
       "      <td>Neutral Characters</td>\n",
       "    </tr>\n",
       "    <tr>\n",
       "      <th>13</th>\n",
       "      <td>Good Characters</td>\n",
       "    </tr>\n",
       "    <tr>\n",
       "      <th>14</th>\n",
       "      <td>Good Characters</td>\n",
       "    </tr>\n",
       "    <tr>\n",
       "      <th>15</th>\n",
       "      <td>Good Characters</td>\n",
       "    </tr>\n",
       "    <tr>\n",
       "      <th>16</th>\n",
       "      <td>Good Characters</td>\n",
       "    </tr>\n",
       "    <tr>\n",
       "      <th>17</th>\n",
       "      <td>Good Characters</td>\n",
       "    </tr>\n",
       "    <tr>\n",
       "      <th>18</th>\n",
       "      <td>Neutral Characters</td>\n",
       "    </tr>\n",
       "    <tr>\n",
       "      <th>19</th>\n",
       "      <td>Good Characters</td>\n",
       "    </tr>\n",
       "    <tr>\n",
       "      <th>20</th>\n",
       "      <td>Good Characters</td>\n",
       "    </tr>\n",
       "    <tr>\n",
       "      <th>21</th>\n",
       "      <td>Good Characters</td>\n",
       "    </tr>\n",
       "    <tr>\n",
       "      <th>22</th>\n",
       "      <td>Good Characters</td>\n",
       "    </tr>\n",
       "    <tr>\n",
       "      <th>23</th>\n",
       "      <td>Good Characters</td>\n",
       "    </tr>\n",
       "    <tr>\n",
       "      <th>24</th>\n",
       "      <td>Good Characters</td>\n",
       "    </tr>\n",
       "    <tr>\n",
       "      <th>25</th>\n",
       "      <td>Neutral Characters</td>\n",
       "    </tr>\n",
       "    <tr>\n",
       "      <th>26</th>\n",
       "      <td>Good Characters</td>\n",
       "    </tr>\n",
       "    <tr>\n",
       "      <th>27</th>\n",
       "      <td>Good Characters</td>\n",
       "    </tr>\n",
       "    <tr>\n",
       "      <th>28</th>\n",
       "      <td>Good Characters</td>\n",
       "    </tr>\n",
       "    <tr>\n",
       "      <th>29</th>\n",
       "      <td>Good Characters</td>\n",
       "    </tr>\n",
       "    <tr>\n",
       "      <th>...</th>\n",
       "      <td>...</td>\n",
       "    </tr>\n",
       "    <tr>\n",
       "      <th>16346</th>\n",
       "      <td>Bad Characters</td>\n",
       "    </tr>\n",
       "    <tr>\n",
       "      <th>16347</th>\n",
       "      <td>Bad Characters</td>\n",
       "    </tr>\n",
       "    <tr>\n",
       "      <th>16348</th>\n",
       "      <td>Bad Characters</td>\n",
       "    </tr>\n",
       "    <tr>\n",
       "      <th>16349</th>\n",
       "      <td>Good Characters</td>\n",
       "    </tr>\n",
       "    <tr>\n",
       "      <th>16350</th>\n",
       "      <td>Bad Characters</td>\n",
       "    </tr>\n",
       "    <tr>\n",
       "      <th>16351</th>\n",
       "      <td>Bad Characters</td>\n",
       "    </tr>\n",
       "    <tr>\n",
       "      <th>16352</th>\n",
       "      <td>Bad Characters</td>\n",
       "    </tr>\n",
       "    <tr>\n",
       "      <th>16353</th>\n",
       "      <td>Bad Characters</td>\n",
       "    </tr>\n",
       "    <tr>\n",
       "      <th>16354</th>\n",
       "      <td>Good Characters</td>\n",
       "    </tr>\n",
       "    <tr>\n",
       "      <th>16355</th>\n",
       "      <td>Neutral Characters</td>\n",
       "    </tr>\n",
       "    <tr>\n",
       "      <th>16356</th>\n",
       "      <td>Bad Characters</td>\n",
       "    </tr>\n",
       "    <tr>\n",
       "      <th>16357</th>\n",
       "      <td>Neutral Characters</td>\n",
       "    </tr>\n",
       "    <tr>\n",
       "      <th>16358</th>\n",
       "      <td>Bad Characters</td>\n",
       "    </tr>\n",
       "    <tr>\n",
       "      <th>16359</th>\n",
       "      <td>Bad Characters</td>\n",
       "    </tr>\n",
       "    <tr>\n",
       "      <th>16360</th>\n",
       "      <td>Good Characters</td>\n",
       "    </tr>\n",
       "    <tr>\n",
       "      <th>16361</th>\n",
       "      <td>Neutral Characters</td>\n",
       "    </tr>\n",
       "    <tr>\n",
       "      <th>16362</th>\n",
       "      <td>Bad Characters</td>\n",
       "    </tr>\n",
       "    <tr>\n",
       "      <th>16363</th>\n",
       "      <td>Good Characters</td>\n",
       "    </tr>\n",
       "    <tr>\n",
       "      <th>16364</th>\n",
       "      <td>Bad Characters</td>\n",
       "    </tr>\n",
       "    <tr>\n",
       "      <th>16365</th>\n",
       "      <td>Good Characters</td>\n",
       "    </tr>\n",
       "    <tr>\n",
       "      <th>16366</th>\n",
       "      <td>Neutral Characters</td>\n",
       "    </tr>\n",
       "    <tr>\n",
       "      <th>16367</th>\n",
       "      <td>Good Characters</td>\n",
       "    </tr>\n",
       "    <tr>\n",
       "      <th>16368</th>\n",
       "      <td>Neutral Characters</td>\n",
       "    </tr>\n",
       "    <tr>\n",
       "      <th>16369</th>\n",
       "      <td>Good Characters</td>\n",
       "    </tr>\n",
       "    <tr>\n",
       "      <th>16370</th>\n",
       "      <td>Neutral Characters</td>\n",
       "    </tr>\n",
       "    <tr>\n",
       "      <th>16371</th>\n",
       "      <td>Bad Characters</td>\n",
       "    </tr>\n",
       "    <tr>\n",
       "      <th>16372</th>\n",
       "      <td>Good Characters</td>\n",
       "    </tr>\n",
       "    <tr>\n",
       "      <th>16373</th>\n",
       "      <td>Bad Characters</td>\n",
       "    </tr>\n",
       "    <tr>\n",
       "      <th>16374</th>\n",
       "      <td>Neutral Characters</td>\n",
       "    </tr>\n",
       "    <tr>\n",
       "      <th>16375</th>\n",
       "      <td>Bad Characters</td>\n",
       "    </tr>\n",
       "  </tbody>\n",
       "</table>\n",
       "<p>16376 rows × 1 columns</p>\n",
       "</div>"
      ],
      "text/plain": [
       "             ALIGN_filled\n",
       "0         Good Characters\n",
       "1         Good Characters\n",
       "2      Neutral Characters\n",
       "3         Good Characters\n",
       "4         Good Characters\n",
       "5         Good Characters\n",
       "6         Good Characters\n",
       "7         Good Characters\n",
       "8      Neutral Characters\n",
       "9         Good Characters\n",
       "10        Good Characters\n",
       "11        Good Characters\n",
       "12     Neutral Characters\n",
       "13        Good Characters\n",
       "14        Good Characters\n",
       "15        Good Characters\n",
       "16        Good Characters\n",
       "17        Good Characters\n",
       "18     Neutral Characters\n",
       "19        Good Characters\n",
       "20        Good Characters\n",
       "21        Good Characters\n",
       "22        Good Characters\n",
       "23        Good Characters\n",
       "24        Good Characters\n",
       "25     Neutral Characters\n",
       "26        Good Characters\n",
       "27        Good Characters\n",
       "28        Good Characters\n",
       "29        Good Characters\n",
       "...                   ...\n",
       "16346      Bad Characters\n",
       "16347      Bad Characters\n",
       "16348      Bad Characters\n",
       "16349     Good Characters\n",
       "16350      Bad Characters\n",
       "16351      Bad Characters\n",
       "16352      Bad Characters\n",
       "16353      Bad Characters\n",
       "16354     Good Characters\n",
       "16355  Neutral Characters\n",
       "16356      Bad Characters\n",
       "16357  Neutral Characters\n",
       "16358      Bad Characters\n",
       "16359      Bad Characters\n",
       "16360     Good Characters\n",
       "16361  Neutral Characters\n",
       "16362      Bad Characters\n",
       "16363     Good Characters\n",
       "16364      Bad Characters\n",
       "16365     Good Characters\n",
       "16366  Neutral Characters\n",
       "16367     Good Characters\n",
       "16368  Neutral Characters\n",
       "16369     Good Characters\n",
       "16370  Neutral Characters\n",
       "16371      Bad Characters\n",
       "16372     Good Characters\n",
       "16373      Bad Characters\n",
       "16374  Neutral Characters\n",
       "16375      Bad Characters\n",
       "\n",
       "[16376 rows x 1 columns]"
      ]
     },
     "execution_count": 27,
     "metadata": {},
     "output_type": "execute_result"
    }
   ],
   "source": [
    "cat_enc = pd.DataFrame({'ALIGN_filled':data_imp2.T[0]})\n",
    "cat_enc"
   ]
  },
  {
   "cell_type": "code",
   "execution_count": 29,
   "metadata": {},
   "outputs": [
    {
     "data": {
      "text/plain": [
       "ALIGN_filled    0\n",
       "dtype: int64"
      ]
     },
     "execution_count": 29,
     "metadata": {},
     "output_type": "execute_result"
    }
   ],
   "source": [
    "cat_enc.isnull().sum()"
   ]
  },
  {
   "cell_type": "code",
   "execution_count": 30,
   "metadata": {
    "collapsed": true
   },
   "outputs": [],
   "source": [
    "from sklearn.preprocessing import LabelEncoder, OneHotEncoder"
   ]
  },
  {
   "cell_type": "code",
   "execution_count": 34,
   "metadata": {
    "collapsed": true
   },
   "outputs": [],
   "source": [
    "le = LabelEncoder()\n",
    "cat_enc_le = le.fit_transform(cat_enc['ALIGN_filled'])"
   ]
  },
  {
   "cell_type": "code",
   "execution_count": 37,
   "metadata": {},
   "outputs": [
    {
     "data": {
      "text/plain": [
       "array(['Good Characters', 'Neutral Characters', 'Bad Characters'],\n",
       "      dtype=object)"
      ]
     },
     "execution_count": 37,
     "metadata": {},
     "output_type": "execute_result"
    }
   ],
   "source": [
    "cat_enc['ALIGN_filled'].unique()"
   ]
  },
  {
   "cell_type": "code",
   "execution_count": 38,
   "metadata": {},
   "outputs": [
    {
     "data": {
      "text/plain": [
       "array([0, 1, 2])"
      ]
     },
     "execution_count": 38,
     "metadata": {},
     "output_type": "execute_result"
    }
   ],
   "source": [
    "np.unique(cat_enc_le)"
   ]
  },
  {
   "cell_type": "code",
   "execution_count": 39,
   "metadata": {},
   "outputs": [
    {
     "data": {
      "text/plain": [
       "array(['Bad Characters', 'Good Characters', 'Neutral Characters'],\n",
       "      dtype=object)"
      ]
     },
     "execution_count": 39,
     "metadata": {},
     "output_type": "execute_result"
    }
   ],
   "source": [
    "le.inverse_transform([0, 1, 2])"
   ]
  },
  {
   "cell_type": "code",
   "execution_count": 40,
   "metadata": {
    "collapsed": true
   },
   "outputs": [],
   "source": [
    "ohe = OneHotEncoder()\n",
    "cat_enc_ohe = ohe.fit_transform(cat_enc[['ALIGN_filled']])"
   ]
  },
  {
   "cell_type": "code",
   "execution_count": 43,
   "metadata": {},
   "outputs": [
    {
     "data": {
      "text/plain": [
       "(16376, 1)"
      ]
     },
     "execution_count": 43,
     "metadata": {},
     "output_type": "execute_result"
    }
   ],
   "source": [
    "cat_enc.shape"
   ]
  },
  {
   "cell_type": "code",
   "execution_count": 42,
   "metadata": {},
   "outputs": [
    {
     "data": {
      "text/plain": [
       "(16376, 3)"
      ]
     },
     "execution_count": 42,
     "metadata": {},
     "output_type": "execute_result"
    }
   ],
   "source": [
    "cat_enc_ohe.shape"
   ]
  },
  {
   "cell_type": "code",
   "execution_count": 47,
   "metadata": {},
   "outputs": [
    {
     "data": {
      "text/plain": [
       "<16376x3 sparse matrix of type '<class 'numpy.float64'>'\n",
       "\twith 16376 stored elements in Compressed Sparse Row format>"
      ]
     },
     "execution_count": 47,
     "metadata": {},
     "output_type": "execute_result"
    }
   ],
   "source": [
    "cat_enc_ohe"
   ]
  },
  {
   "cell_type": "code",
   "execution_count": 48,
   "metadata": {},
   "outputs": [
    {
     "data": {
      "text/plain": [
       "matrix([[0., 1., 0.],\n",
       "        [0., 1., 0.],\n",
       "        [0., 0., 1.],\n",
       "        [0., 1., 0.],\n",
       "        [0., 1., 0.],\n",
       "        [0., 1., 0.],\n",
       "        [0., 1., 0.],\n",
       "        [0., 1., 0.],\n",
       "        [0., 0., 1.],\n",
       "        [0., 1., 0.]])"
      ]
     },
     "execution_count": 48,
     "metadata": {},
     "output_type": "execute_result"
    }
   ],
   "source": [
    "cat_enc_ohe.todense()[0:10]"
   ]
  },
  {
   "cell_type": "code",
   "execution_count": 49,
   "metadata": {},
   "outputs": [
    {
     "data": {
      "text/html": [
       "<div>\n",
       "<style scoped>\n",
       "    .dataframe tbody tr th:only-of-type {\n",
       "        vertical-align: middle;\n",
       "    }\n",
       "\n",
       "    .dataframe tbody tr th {\n",
       "        vertical-align: top;\n",
       "    }\n",
       "\n",
       "    .dataframe thead th {\n",
       "        text-align: right;\n",
       "    }\n",
       "</style>\n",
       "<table border=\"1\" class=\"dataframe\">\n",
       "  <thead>\n",
       "    <tr style=\"text-align: right;\">\n",
       "      <th></th>\n",
       "      <th>ALIGN_filled_Bad Characters</th>\n",
       "      <th>ALIGN_filled_Good Characters</th>\n",
       "      <th>ALIGN_filled_Neutral Characters</th>\n",
       "    </tr>\n",
       "  </thead>\n",
       "  <tbody>\n",
       "    <tr>\n",
       "      <th>0</th>\n",
       "      <td>0</td>\n",
       "      <td>1</td>\n",
       "      <td>0</td>\n",
       "    </tr>\n",
       "    <tr>\n",
       "      <th>1</th>\n",
       "      <td>0</td>\n",
       "      <td>1</td>\n",
       "      <td>0</td>\n",
       "    </tr>\n",
       "    <tr>\n",
       "      <th>2</th>\n",
       "      <td>0</td>\n",
       "      <td>0</td>\n",
       "      <td>1</td>\n",
       "    </tr>\n",
       "    <tr>\n",
       "      <th>3</th>\n",
       "      <td>0</td>\n",
       "      <td>1</td>\n",
       "      <td>0</td>\n",
       "    </tr>\n",
       "    <tr>\n",
       "      <th>4</th>\n",
       "      <td>0</td>\n",
       "      <td>1</td>\n",
       "      <td>0</td>\n",
       "    </tr>\n",
       "  </tbody>\n",
       "</table>\n",
       "</div>"
      ],
      "text/plain": [
       "   ALIGN_filled_Bad Characters  ALIGN_filled_Good Characters  \\\n",
       "0                            0                             1   \n",
       "1                            0                             1   \n",
       "2                            0                             0   \n",
       "3                            0                             1   \n",
       "4                            0                             1   \n",
       "\n",
       "   ALIGN_filled_Neutral Characters  \n",
       "0                                0  \n",
       "1                                0  \n",
       "2                                1  \n",
       "3                                0  \n",
       "4                                0  "
      ]
     },
     "execution_count": 49,
     "metadata": {},
     "output_type": "execute_result"
    }
   ],
   "source": [
    "pd.get_dummies(cat_enc).head() # one hot encoding лучше использовать чем label в моделях(knn)! но для дерева. Целевой признак всегда label encoding/"
   ]
  },
  {
   "cell_type": "code",
   "execution_count": 50,
   "metadata": {
    "scrolled": false
   },
   "outputs": [
    {
     "data": {
      "text/html": [
       "<div>\n",
       "<style scoped>\n",
       "    .dataframe tbody tr th:only-of-type {\n",
       "        vertical-align: middle;\n",
       "    }\n",
       "\n",
       "    .dataframe tbody tr th {\n",
       "        vertical-align: top;\n",
       "    }\n",
       "\n",
       "    .dataframe thead th {\n",
       "        text-align: right;\n",
       "    }\n",
       "</style>\n",
       "<table border=\"1\" class=\"dataframe\">\n",
       "  <thead>\n",
       "    <tr style=\"text-align: right;\">\n",
       "      <th></th>\n",
       "      <th>ALIGN_Bad Characters</th>\n",
       "      <th>ALIGN_Good Characters</th>\n",
       "      <th>ALIGN_Neutral Characters</th>\n",
       "      <th>ALIGN_nan</th>\n",
       "    </tr>\n",
       "  </thead>\n",
       "  <tbody>\n",
       "    <tr>\n",
       "      <th>0</th>\n",
       "      <td>0</td>\n",
       "      <td>1</td>\n",
       "      <td>0</td>\n",
       "      <td>0</td>\n",
       "    </tr>\n",
       "    <tr>\n",
       "      <th>1</th>\n",
       "      <td>0</td>\n",
       "      <td>1</td>\n",
       "      <td>0</td>\n",
       "      <td>0</td>\n",
       "    </tr>\n",
       "    <tr>\n",
       "      <th>2</th>\n",
       "      <td>0</td>\n",
       "      <td>0</td>\n",
       "      <td>1</td>\n",
       "      <td>0</td>\n",
       "    </tr>\n",
       "    <tr>\n",
       "      <th>3</th>\n",
       "      <td>0</td>\n",
       "      <td>1</td>\n",
       "      <td>0</td>\n",
       "      <td>0</td>\n",
       "    </tr>\n",
       "    <tr>\n",
       "      <th>4</th>\n",
       "      <td>0</td>\n",
       "      <td>1</td>\n",
       "      <td>0</td>\n",
       "      <td>0</td>\n",
       "    </tr>\n",
       "  </tbody>\n",
       "</table>\n",
       "</div>"
      ],
      "text/plain": [
       "   ALIGN_Bad Characters  ALIGN_Good Characters  ALIGN_Neutral Characters  \\\n",
       "0                     0                      1                         0   \n",
       "1                     0                      1                         0   \n",
       "2                     0                      0                         1   \n",
       "3                     0                      1                         0   \n",
       "4                     0                      1                         0   \n",
       "\n",
       "   ALIGN_nan  \n",
       "0          0  \n",
       "1          0  \n",
       "2          0  \n",
       "3          0  \n",
       "4          0  "
      ]
     },
     "execution_count": 50,
     "metadata": {},
     "output_type": "execute_result"
    }
   ],
   "source": [
    "pd.get_dummies(cat_temp_data, dummy_na=True).head()"
   ]
  },
  {
   "cell_type": "code",
   "execution_count": 6,
   "metadata": {
    "collapsed": true
   },
   "outputs": [],
   "source": [
    "from sklearn.preprocessing import MinMaxScaler, StandardScaler, Normalizer"
   ]
  },
  {
   "cell_type": "code",
   "execution_count": 17,
   "metadata": {},
   "outputs": [],
   "source": [
    "sc1 = MinMaxScaler()\n",
    "tmp = data[['Year']].dropna(axis = 0, how='any')\n",
    "sc1_data = sc1.fit_transform(tmp)"
   ]
  },
  {
   "cell_type": "code",
   "execution_count": 18,
   "metadata": {},
   "outputs": [
    {
     "data": {
      "text/plain": [
       "array([[0.31081081],\n",
       "       [0.02702703],\n",
       "       [0.47297297],\n",
       "       ...,\n",
       "       [1.        ],\n",
       "       [1.        ],\n",
       "       [1.        ]])"
      ]
     },
     "execution_count": 18,
     "metadata": {},
     "output_type": "execute_result"
    }
   ],
   "source": [
    "sc1_data"
   ]
  },
  {
   "cell_type": "code",
   "execution_count": 19,
   "metadata": {
    "scrolled": true
   },
   "outputs": [
    {
     "data": {
      "image/png": "[encoded data removed]",
      "text/plain": [
       "<matplotlib.figure.Figure at 0x15f8c925d68>"
      ]
     },
     "metadata": {},
     "output_type": "display_data"
    }
   ],
   "source": [
    "plt.hist(sc1_data, 30) #год нехорошо подавать, надо делать мин макс\n",
    "plt.show()"
   ]
  },
  {
   "cell_type": "code",
   "execution_count": 24,
   "metadata": {
    "collapsed": true
   },
   "outputs": [
    {
     "ename": "AttributeError",
     "evalue": "module 'numpy' has no attribute 'describe'",
     "output_type": "error",
     "traceback": [
      "\u001b[1;31m---------------------------------------------------------------------------\u001b[0m",
      "\u001b[1;31mAttributeError\u001b[0m                            Traceback (most recent call last)",
      "\u001b[1;32m<ipython-input-24-047f93aea93d>\u001b[0m in \u001b[0;36m<module>\u001b[1;34m()\u001b[0m\n\u001b[1;32m----> 1\u001b[1;33m \u001b[0mnp\u001b[0m\u001b[1;33m.\u001b[0m\u001b[0mdescribe\u001b[0m\u001b[1;33m(\u001b[0m\u001b[0msc1_data\u001b[0m\u001b[1;33m)\u001b[0m\u001b[1;33m\u001b[0m\u001b[0m\n\u001b[0m",
      "\u001b[1;31mAttributeError\u001b[0m: module 'numpy' has no attribute 'describe'"
     ]
    }
   ],
   "source": [
    "np.describe(sc1_data)"
   ]
  },
  {
   "cell_type": "code",
   "execution_count": 12,
   "metadata": {
    "collapsed": true
   },
   "outputs": [
    {
     "ename": "ValueError",
     "evalue": "max must be larger than min in range parameter.",
     "output_type": "error",
     "traceback": [
      "\u001b[1;31m---------------------------------------------------------------------------\u001b[0m",
      "\u001b[1;31mValueError\u001b[0m                                Traceback (most recent call last)",
      "\u001b[1;32m<ipython-input-12-5770757bb918>\u001b[0m in \u001b[0;36m<module>\u001b[1;34m()\u001b[0m\n\u001b[1;32m----> 1\u001b[1;33m \u001b[0mplt\u001b[0m\u001b[1;33m.\u001b[0m\u001b[0mhist\u001b[0m\u001b[1;33m(\u001b[0m\u001b[0msc1_data\u001b[0m\u001b[1;33m,\u001b[0m \u001b[1;36m30\u001b[0m\u001b[1;33m)\u001b[0m\u001b[1;33m\u001b[0m\u001b[0m\n\u001b[0m\u001b[0;32m      2\u001b[0m \u001b[0mplt\u001b[0m\u001b[1;33m.\u001b[0m\u001b[0mshow\u001b[0m\u001b[1;33m(\u001b[0m\u001b[1;33m)\u001b[0m\u001b[1;33m\u001b[0m\u001b[0m\n",
      "\u001b[1;32mD:\\anaconda\\lib\\site-packages\\matplotlib\\pyplot.py\u001b[0m in \u001b[0;36mhist\u001b[1;34m(x, bins, range, density, weights, cumulative, bottom, histtype, align, orientation, rwidth, log, color, label, stacked, normed, hold, data, **kwargs)\u001b[0m\n\u001b[0;32m   3002\u001b[0m                       \u001b[0mhisttype\u001b[0m\u001b[1;33m=\u001b[0m\u001b[0mhisttype\u001b[0m\u001b[1;33m,\u001b[0m \u001b[0malign\u001b[0m\u001b[1;33m=\u001b[0m\u001b[0malign\u001b[0m\u001b[1;33m,\u001b[0m \u001b[0morientation\u001b[0m\u001b[1;33m=\u001b[0m\u001b[0morientation\u001b[0m\u001b[1;33m,\u001b[0m\u001b[1;33m\u001b[0m\u001b[0m\n\u001b[0;32m   3003\u001b[0m                       \u001b[0mrwidth\u001b[0m\u001b[1;33m=\u001b[0m\u001b[0mrwidth\u001b[0m\u001b[1;33m,\u001b[0m \u001b[0mlog\u001b[0m\u001b[1;33m=\u001b[0m\u001b[0mlog\u001b[0m\u001b[1;33m,\u001b[0m \u001b[0mcolor\u001b[0m\u001b[1;33m=\u001b[0m\u001b[0mcolor\u001b[0m\u001b[1;33m,\u001b[0m \u001b[0mlabel\u001b[0m\u001b[1;33m=\u001b[0m\u001b[0mlabel\u001b[0m\u001b[1;33m,\u001b[0m\u001b[1;33m\u001b[0m\u001b[0m\n\u001b[1;32m-> 3004\u001b[1;33m                       stacked=stacked, normed=normed, data=data, **kwargs)\n\u001b[0m\u001b[0;32m   3005\u001b[0m     \u001b[1;32mfinally\u001b[0m\u001b[1;33m:\u001b[0m\u001b[1;33m\u001b[0m\u001b[0m\n\u001b[0;32m   3006\u001b[0m         \u001b[0max\u001b[0m\u001b[1;33m.\u001b[0m\u001b[0m_hold\u001b[0m \u001b[1;33m=\u001b[0m \u001b[0mwashold\u001b[0m\u001b[1;33m\u001b[0m\u001b[0m\n",
      "\u001b[1;32mD:\\anaconda\\lib\\site-packages\\matplotlib\\__init__.py\u001b[0m in \u001b[0;36minner\u001b[1;34m(ax, *args, **kwargs)\u001b[0m\n\u001b[0;32m   1708\u001b[0m                     warnings.warn(msg % (label_namer, func.__name__),\n\u001b[0;32m   1709\u001b[0m                                   RuntimeWarning, stacklevel=2)\n\u001b[1;32m-> 1710\u001b[1;33m             \u001b[1;32mreturn\u001b[0m \u001b[0mfunc\u001b[0m\u001b[1;33m(\u001b[0m\u001b[0max\u001b[0m\u001b[1;33m,\u001b[0m \u001b[1;33m*\u001b[0m\u001b[0margs\u001b[0m\u001b[1;33m,\u001b[0m \u001b[1;33m**\u001b[0m\u001b[0mkwargs\u001b[0m\u001b[1;33m)\u001b[0m\u001b[1;33m\u001b[0m\u001b[0m\n\u001b[0m\u001b[0;32m   1711\u001b[0m         \u001b[0mpre_doc\u001b[0m \u001b[1;33m=\u001b[0m \u001b[0minner\u001b[0m\u001b[1;33m.\u001b[0m\u001b[0m__doc__\u001b[0m\u001b[1;33m\u001b[0m\u001b[0m\n\u001b[0;32m   1712\u001b[0m         \u001b[1;32mif\u001b[0m \u001b[0mpre_doc\u001b[0m \u001b[1;32mis\u001b[0m \u001b[1;32mNone\u001b[0m\u001b[1;33m:\u001b[0m\u001b[1;33m\u001b[0m\u001b[0m\n",
      "\u001b[1;32mD:\\anaconda\\lib\\site-packages\\matplotlib\\axes\\_axes.py\u001b[0m in \u001b[0;36mhist\u001b[1;34m(***failed resolving arguments***)\u001b[0m\n\u001b[0;32m   6205\u001b[0m             \u001b[1;31m# this will automatically overwrite bins,\u001b[0m\u001b[1;33m\u001b[0m\u001b[1;33m\u001b[0m\u001b[0m\n\u001b[0;32m   6206\u001b[0m             \u001b[1;31m# so that each histogram uses the same bins\u001b[0m\u001b[1;33m\u001b[0m\u001b[1;33m\u001b[0m\u001b[0m\n\u001b[1;32m-> 6207\u001b[1;33m             \u001b[0mm\u001b[0m\u001b[1;33m,\u001b[0m \u001b[0mbins\u001b[0m \u001b[1;33m=\u001b[0m \u001b[0mnp\u001b[0m\u001b[1;33m.\u001b[0m\u001b[0mhistogram\u001b[0m\u001b[1;33m(\u001b[0m\u001b[0mx\u001b[0m\u001b[1;33m[\u001b[0m\u001b[0mi\u001b[0m\u001b[1;33m]\u001b[0m\u001b[1;33m,\u001b[0m \u001b[0mbins\u001b[0m\u001b[1;33m,\u001b[0m \u001b[0mweights\u001b[0m\u001b[1;33m=\u001b[0m\u001b[0mw\u001b[0m\u001b[1;33m[\u001b[0m\u001b[0mi\u001b[0m\u001b[1;33m]\u001b[0m\u001b[1;33m,\u001b[0m \u001b[1;33m**\u001b[0m\u001b[0mhist_kwargs\u001b[0m\u001b[1;33m)\u001b[0m\u001b[1;33m\u001b[0m\u001b[0m\n\u001b[0m\u001b[0;32m   6208\u001b[0m             \u001b[0mm\u001b[0m \u001b[1;33m=\u001b[0m \u001b[0mm\u001b[0m\u001b[1;33m.\u001b[0m\u001b[0mastype\u001b[0m\u001b[1;33m(\u001b[0m\u001b[0mfloat\u001b[0m\u001b[1;33m)\u001b[0m  \u001b[1;31m# causes problems later if it's an int\u001b[0m\u001b[1;33m\u001b[0m\u001b[0m\n\u001b[0;32m   6209\u001b[0m             \u001b[1;32mif\u001b[0m \u001b[0mmlast\u001b[0m \u001b[1;32mis\u001b[0m \u001b[1;32mNone\u001b[0m\u001b[1;33m:\u001b[0m\u001b[1;33m\u001b[0m\u001b[0m\n",
      "\u001b[1;32mD:\\anaconda\\lib\\site-packages\\numpy\\lib\\histograms.py\u001b[0m in \u001b[0;36mhistogram\u001b[1;34m(a, bins, range, normed, weights, density)\u001b[0m\n\u001b[0;32m    778\u001b[0m     \u001b[0ma\u001b[0m\u001b[1;33m,\u001b[0m \u001b[0mweights\u001b[0m \u001b[1;33m=\u001b[0m \u001b[0m_ravel_and_check_weights\u001b[0m\u001b[1;33m(\u001b[0m\u001b[0ma\u001b[0m\u001b[1;33m,\u001b[0m \u001b[0mweights\u001b[0m\u001b[1;33m)\u001b[0m\u001b[1;33m\u001b[0m\u001b[0m\n\u001b[0;32m    779\u001b[0m \u001b[1;33m\u001b[0m\u001b[0m\n\u001b[1;32m--> 780\u001b[1;33m     \u001b[0mbin_edges\u001b[0m\u001b[1;33m,\u001b[0m \u001b[0muniform_bins\u001b[0m \u001b[1;33m=\u001b[0m \u001b[0m_get_bin_edges\u001b[0m\u001b[1;33m(\u001b[0m\u001b[0ma\u001b[0m\u001b[1;33m,\u001b[0m \u001b[0mbins\u001b[0m\u001b[1;33m,\u001b[0m \u001b[0mrange\u001b[0m\u001b[1;33m,\u001b[0m \u001b[0mweights\u001b[0m\u001b[1;33m)\u001b[0m\u001b[1;33m\u001b[0m\u001b[0m\n\u001b[0m\u001b[0;32m    781\u001b[0m \u001b[1;33m\u001b[0m\u001b[0m\n\u001b[0;32m    782\u001b[0m     \u001b[1;31m# Histogram is an integer or a float array depending on the weights.\u001b[0m\u001b[1;33m\u001b[0m\u001b[1;33m\u001b[0m\u001b[0m\n",
      "\u001b[1;32mD:\\anaconda\\lib\\site-packages\\numpy\\lib\\histograms.py\u001b[0m in \u001b[0;36m_get_bin_edges\u001b[1;34m(a, bins, range, weights)\u001b[0m\n\u001b[0;32m    415\u001b[0m             \u001b[1;32mraise\u001b[0m \u001b[0mValueError\u001b[0m\u001b[1;33m(\u001b[0m\u001b[1;34m'`bins` must be positive, when an integer'\u001b[0m\u001b[1;33m)\u001b[0m\u001b[1;33m\u001b[0m\u001b[0m\n\u001b[0;32m    416\u001b[0m \u001b[1;33m\u001b[0m\u001b[0m\n\u001b[1;32m--> 417\u001b[1;33m         \u001b[0mfirst_edge\u001b[0m\u001b[1;33m,\u001b[0m \u001b[0mlast_edge\u001b[0m \u001b[1;33m=\u001b[0m \u001b[0m_get_outer_edges\u001b[0m\u001b[1;33m(\u001b[0m\u001b[0ma\u001b[0m\u001b[1;33m,\u001b[0m \u001b[0mrange\u001b[0m\u001b[1;33m)\u001b[0m\u001b[1;33m\u001b[0m\u001b[0m\n\u001b[0m\u001b[0;32m    418\u001b[0m \u001b[1;33m\u001b[0m\u001b[0m\n\u001b[0;32m    419\u001b[0m     \u001b[1;32melif\u001b[0m \u001b[0mnp\u001b[0m\u001b[1;33m.\u001b[0m\u001b[0mndim\u001b[0m\u001b[1;33m(\u001b[0m\u001b[0mbins\u001b[0m\u001b[1;33m)\u001b[0m \u001b[1;33m==\u001b[0m \u001b[1;36m1\u001b[0m\u001b[1;33m:\u001b[0m\u001b[1;33m\u001b[0m\u001b[0m\n",
      "\u001b[1;32mD:\\anaconda\\lib\\site-packages\\numpy\\lib\\histograms.py\u001b[0m in \u001b[0;36m_get_outer_edges\u001b[1;34m(a, range)\u001b[0m\n\u001b[0;32m    302\u001b[0m         \u001b[1;32mif\u001b[0m \u001b[0mfirst_edge\u001b[0m \u001b[1;33m>\u001b[0m \u001b[0mlast_edge\u001b[0m\u001b[1;33m:\u001b[0m\u001b[1;33m\u001b[0m\u001b[0m\n\u001b[0;32m    303\u001b[0m             raise ValueError(\n\u001b[1;32m--> 304\u001b[1;33m                 'max must be larger than min in range parameter.')\n\u001b[0m\u001b[0;32m    305\u001b[0m         \u001b[1;32mif\u001b[0m \u001b[1;32mnot\u001b[0m \u001b[1;33m(\u001b[0m\u001b[0mnp\u001b[0m\u001b[1;33m.\u001b[0m\u001b[0misfinite\u001b[0m\u001b[1;33m(\u001b[0m\u001b[0mfirst_edge\u001b[0m\u001b[1;33m)\u001b[0m \u001b[1;32mand\u001b[0m \u001b[0mnp\u001b[0m\u001b[1;33m.\u001b[0m\u001b[0misfinite\u001b[0m\u001b[1;33m(\u001b[0m\u001b[0mlast_edge\u001b[0m\u001b[1;33m)\u001b[0m\u001b[1;33m)\u001b[0m\u001b[1;33m:\u001b[0m\u001b[1;33m\u001b[0m\u001b[0m\n\u001b[0;32m    306\u001b[0m             raise ValueError(\n",
      "\u001b[1;31mValueError\u001b[0m: max must be larger than min in range parameter."
     ]
    },
    {
     "data": {
      "image/png": "[encoded data removed]",
      "text/plain": [
       "<matplotlib.figure.Figure at 0x15f8a36ada0>"
      ]
     },
     "metadata": {},
     "output_type": "display_data"
    }
   ],
   "source": [
    "plt.hist(sc1_data, 30) #сравнить виды импютаций на кроссвалидации\n",
    "plt.show()"
   ]
  }
 ],
 "metadata": {
  "kernelspec": {
   "display_name": "Python 3",
   "language": "python",
   "name": "python3"
  },
  "language_info": {
   "codemirror_mode": {
    "name": "ipython",
    "version": 3
   },
   "file_extension": ".py",
   "mimetype": "text/x-python",
   "name": "python",
   "nbconvert_exporter": "python",
   "pygments_lexer": "ipython3",
   "version": "3.6.3"
  }
 },
 "nbformat": 4,
 "nbformat_minor": 2
}
