{
 "cells": [
  {
   "cell_type": "markdown",
   "metadata": {},
   "source": [
    "### Linear model (logistic regression for classification)"
   ]
  },
  {
   "cell_type": "code",
   "execution_count": 1,
   "metadata": {},
   "outputs": [
    {
     "data": {
      "text/html": [
       "<style>.container { width:90% !important; }</style>"
      ],
      "text/plain": [
       "<IPython.core.display.HTML object>"
      ]
     },
     "metadata": {},
     "output_type": "display_data"
    }
   ],
   "source": [
    "from IPython.core.display import display, HTML\n",
    "display(HTML(\"<style>.container { width:90% !important; }</style>\"))\n",
    "from IPython.core.interactiveshell import InteractiveShell  #to run all statements in cell, not only the last\n",
    "InteractiveShell.ast_node_interactivity = \"all\"\n",
    "\n",
    "import warnings\n",
    "warnings.filterwarnings('ignore')\n",
    "\n",
    "from sklearn.svm import SVC, NuSVC, LinearSVC, OneClassSVM, SVR, NuSVR, LinearSVR\n",
    "from sklearn.linear_model import Ridge\n",
    "from typing import Dict, Tuple\n",
    "from IPython.display import Image\n",
    "import numpy as np\n",
    "import pandas as pd\n",
    "from sklearn.model_selection import train_test_split\n",
    "from sklearn.datasets import load_iris, load_boston\n",
    "from sklearn.neighbors import KNeighborsRegressor, KNeighborsClassifier\n",
    "from sklearn.model_selection import cross_val_score, cross_validate\n",
    "from sklearn.model_selection import KFold, RepeatedKFold, LeaveOneOut, LeavePOut, ShuffleSplit, StratifiedKFold\n",
    "from sklearn.metrics import accuracy_score, balanced_accuracy_score\n",
    "from sklearn.metrics import precision_score, recall_score, f1_score, classification_report\n",
    "from sklearn.metrics import confusion_matrix\n",
    "from sklearn.metrics import mean_absolute_error, mean_squared_error, mean_squared_log_error, median_absolute_error, r2_score \n",
    "from sklearn.metrics import roc_curve, roc_auc_score\n",
    "from sklearn.model_selection import GridSearchCV, RandomizedSearchCV\n",
    "from sklearn.model_selection import learning_curve, validation_curve\n",
    "import seaborn as sns\n",
    "import matplotlib.pyplot as plt\n",
    "%matplotlib inline \n",
    "sns.set(style=\"ticks\")\n",
    "\n",
    "import graphviz \n",
    "from sklearn.tree import DecisionTreeClassifier, DecisionTreeRegressor, export_graphviz"
   ]
  },
  {
   "cell_type": "code",
   "execution_count": 2,
   "metadata": {
    "scrolled": true
   },
   "outputs": [
    {
     "data": {
      "text/html": [
       "<div>\n",
       "<style scoped>\n",
       "    .dataframe tbody tr th:only-of-type {\n",
       "        vertical-align: middle;\n",
       "    }\n",
       "\n",
       "    .dataframe tbody tr th {\n",
       "        vertical-align: top;\n",
       "    }\n",
       "\n",
       "    .dataframe thead th {\n",
       "        text-align: right;\n",
       "    }\n",
       "</style>\n",
       "<table border=\"1\" class=\"dataframe\">\n",
       "  <thead>\n",
       "    <tr style=\"text-align: right;\">\n",
       "      <th></th>\n",
       "      <th>age</th>\n",
       "      <th>sex</th>\n",
       "      <th>cp</th>\n",
       "      <th>trestbps</th>\n",
       "      <th>chol</th>\n",
       "      <th>fbs</th>\n",
       "      <th>restecg</th>\n",
       "      <th>thalach</th>\n",
       "      <th>exang</th>\n",
       "      <th>oldpeak</th>\n",
       "      <th>slope</th>\n",
       "      <th>ca</th>\n",
       "      <th>thal</th>\n",
       "      <th>target</th>\n",
       "    </tr>\n",
       "  </thead>\n",
       "  <tbody>\n",
       "    <tr>\n",
       "      <th>0</th>\n",
       "      <td>63</td>\n",
       "      <td>1</td>\n",
       "      <td>3</td>\n",
       "      <td>145</td>\n",
       "      <td>233</td>\n",
       "      <td>1</td>\n",
       "      <td>0</td>\n",
       "      <td>150</td>\n",
       "      <td>0</td>\n",
       "      <td>2.3</td>\n",
       "      <td>0</td>\n",
       "      <td>0</td>\n",
       "      <td>1</td>\n",
       "      <td>1</td>\n",
       "    </tr>\n",
       "    <tr>\n",
       "      <th>1</th>\n",
       "      <td>37</td>\n",
       "      <td>1</td>\n",
       "      <td>2</td>\n",
       "      <td>130</td>\n",
       "      <td>250</td>\n",
       "      <td>0</td>\n",
       "      <td>1</td>\n",
       "      <td>187</td>\n",
       "      <td>0</td>\n",
       "      <td>3.5</td>\n",
       "      <td>0</td>\n",
       "      <td>0</td>\n",
       "      <td>2</td>\n",
       "      <td>1</td>\n",
       "    </tr>\n",
       "    <tr>\n",
       "      <th>2</th>\n",
       "      <td>41</td>\n",
       "      <td>0</td>\n",
       "      <td>1</td>\n",
       "      <td>130</td>\n",
       "      <td>204</td>\n",
       "      <td>0</td>\n",
       "      <td>0</td>\n",
       "      <td>172</td>\n",
       "      <td>0</td>\n",
       "      <td>1.4</td>\n",
       "      <td>2</td>\n",
       "      <td>0</td>\n",
       "      <td>2</td>\n",
       "      <td>1</td>\n",
       "    </tr>\n",
       "    <tr>\n",
       "      <th>3</th>\n",
       "      <td>56</td>\n",
       "      <td>1</td>\n",
       "      <td>1</td>\n",
       "      <td>120</td>\n",
       "      <td>236</td>\n",
       "      <td>0</td>\n",
       "      <td>1</td>\n",
       "      <td>178</td>\n",
       "      <td>0</td>\n",
       "      <td>0.8</td>\n",
       "      <td>2</td>\n",
       "      <td>0</td>\n",
       "      <td>2</td>\n",
       "      <td>1</td>\n",
       "    </tr>\n",
       "    <tr>\n",
       "      <th>4</th>\n",
       "      <td>57</td>\n",
       "      <td>0</td>\n",
       "      <td>0</td>\n",
       "      <td>120</td>\n",
       "      <td>354</td>\n",
       "      <td>0</td>\n",
       "      <td>1</td>\n",
       "      <td>163</td>\n",
       "      <td>1</td>\n",
       "      <td>0.6</td>\n",
       "      <td>2</td>\n",
       "      <td>0</td>\n",
       "      <td>2</td>\n",
       "      <td>1</td>\n",
       "    </tr>\n",
       "  </tbody>\n",
       "</table>\n",
       "</div>"
      ],
      "text/plain": [
       "   age  sex  cp  trestbps  chol  fbs  restecg  thalach  exang  oldpeak  slope  \\\n",
       "0   63    1   3       145   233    1        0      150      0      2.3      0   \n",
       "1   37    1   2       130   250    0        1      187      0      3.5      0   \n",
       "2   41    0   1       130   204    0        0      172      0      1.4      2   \n",
       "3   56    1   1       120   236    0        1      178      0      0.8      2   \n",
       "4   57    0   0       120   354    0        1      163      1      0.6      2   \n",
       "\n",
       "   ca  thal  target  \n",
       "0   0     1       1  \n",
       "1   0     2       1  \n",
       "2   0     2       1  \n",
       "3   0     2       1  \n",
       "4   0     2       1  "
      ]
     },
     "execution_count": 2,
     "metadata": {},
     "output_type": "execute_result"
    },
    {
     "data": {
      "text/plain": [
       "age           int64\n",
       "sex           int64\n",
       "cp            int64\n",
       "trestbps      int64\n",
       "chol          int64\n",
       "fbs           int64\n",
       "restecg       int64\n",
       "thalach       int64\n",
       "exang         int64\n",
       "oldpeak     float64\n",
       "slope         int64\n",
       "ca            int64\n",
       "thal          int64\n",
       "target        int64\n",
       "dtype: object"
      ]
     },
     "execution_count": 2,
     "metadata": {},
     "output_type": "execute_result"
    }
   ],
   "source": [
    "data = pd.read_csv('heart.csv', sep=\",\")\n",
    "data.head(5)\n",
    "data.dtypes"
   ]
  },
  {
   "cell_type": "code",
   "execution_count": 3,
   "metadata": {
    "scrolled": true
   },
   "outputs": [
    {
     "data": {
      "text/html": [
       "<div>\n",
       "<style scoped>\n",
       "    .dataframe tbody tr th:only-of-type {\n",
       "        vertical-align: middle;\n",
       "    }\n",
       "\n",
       "    .dataframe tbody tr th {\n",
       "        vertical-align: top;\n",
       "    }\n",
       "\n",
       "    .dataframe thead th {\n",
       "        text-align: right;\n",
       "    }\n",
       "</style>\n",
       "<table border=\"1\" class=\"dataframe\">\n",
       "  <thead>\n",
       "    <tr style=\"text-align: right;\">\n",
       "      <th></th>\n",
       "      <th>age</th>\n",
       "      <th>sex</th>\n",
       "      <th>cp</th>\n",
       "      <th>trestbps</th>\n",
       "      <th>chol</th>\n",
       "      <th>fbs</th>\n",
       "      <th>restecg</th>\n",
       "      <th>thalach</th>\n",
       "      <th>exang</th>\n",
       "      <th>oldpeak</th>\n",
       "      <th>slope</th>\n",
       "      <th>ca</th>\n",
       "      <th>thal</th>\n",
       "    </tr>\n",
       "  </thead>\n",
       "  <tbody>\n",
       "    <tr>\n",
       "      <th>0</th>\n",
       "      <td>63</td>\n",
       "      <td>1</td>\n",
       "      <td>3</td>\n",
       "      <td>145</td>\n",
       "      <td>233</td>\n",
       "      <td>1</td>\n",
       "      <td>0</td>\n",
       "      <td>150</td>\n",
       "      <td>0</td>\n",
       "      <td>2.3</td>\n",
       "      <td>0</td>\n",
       "      <td>0</td>\n",
       "      <td>1</td>\n",
       "    </tr>\n",
       "    <tr>\n",
       "      <th>1</th>\n",
       "      <td>37</td>\n",
       "      <td>1</td>\n",
       "      <td>2</td>\n",
       "      <td>130</td>\n",
       "      <td>250</td>\n",
       "      <td>0</td>\n",
       "      <td>1</td>\n",
       "      <td>187</td>\n",
       "      <td>0</td>\n",
       "      <td>3.5</td>\n",
       "      <td>0</td>\n",
       "      <td>0</td>\n",
       "      <td>2</td>\n",
       "    </tr>\n",
       "    <tr>\n",
       "      <th>2</th>\n",
       "      <td>41</td>\n",
       "      <td>0</td>\n",
       "      <td>1</td>\n",
       "      <td>130</td>\n",
       "      <td>204</td>\n",
       "      <td>0</td>\n",
       "      <td>0</td>\n",
       "      <td>172</td>\n",
       "      <td>0</td>\n",
       "      <td>1.4</td>\n",
       "      <td>2</td>\n",
       "      <td>0</td>\n",
       "      <td>2</td>\n",
       "    </tr>\n",
       "    <tr>\n",
       "      <th>3</th>\n",
       "      <td>56</td>\n",
       "      <td>1</td>\n",
       "      <td>1</td>\n",
       "      <td>120</td>\n",
       "      <td>236</td>\n",
       "      <td>0</td>\n",
       "      <td>1</td>\n",
       "      <td>178</td>\n",
       "      <td>0</td>\n",
       "      <td>0.8</td>\n",
       "      <td>2</td>\n",
       "      <td>0</td>\n",
       "      <td>2</td>\n",
       "    </tr>\n",
       "    <tr>\n",
       "      <th>4</th>\n",
       "      <td>57</td>\n",
       "      <td>0</td>\n",
       "      <td>0</td>\n",
       "      <td>120</td>\n",
       "      <td>354</td>\n",
       "      <td>0</td>\n",
       "      <td>1</td>\n",
       "      <td>163</td>\n",
       "      <td>1</td>\n",
       "      <td>0.6</td>\n",
       "      <td>2</td>\n",
       "      <td>0</td>\n",
       "      <td>2</td>\n",
       "    </tr>\n",
       "  </tbody>\n",
       "</table>\n",
       "</div>"
      ],
      "text/plain": [
       "   age  sex  cp  trestbps  chol  fbs  restecg  thalach  exang  oldpeak  slope  \\\n",
       "0   63    1   3       145   233    1        0      150      0      2.3      0   \n",
       "1   37    1   2       130   250    0        1      187      0      3.5      0   \n",
       "2   41    0   1       130   204    0        0      172      0      1.4      2   \n",
       "3   56    1   1       120   236    0        1      178      0      0.8      2   \n",
       "4   57    0   0       120   354    0        1      163      1      0.6      2   \n",
       "\n",
       "   ca  thal  \n",
       "0   0     1  \n",
       "1   0     2  \n",
       "2   0     2  \n",
       "3   0     2  \n",
       "4   0     2  "
      ]
     },
     "execution_count": 3,
     "metadata": {},
     "output_type": "execute_result"
    },
    {
     "data": {
      "text/plain": [
       "pandas.core.frame.DataFrame"
      ]
     },
     "execution_count": 3,
     "metadata": {},
     "output_type": "execute_result"
    },
    {
     "data": {
      "text/plain": [
       "(303, 13)"
      ]
     },
     "execution_count": 3,
     "metadata": {},
     "output_type": "execute_result"
    },
    {
     "data": {
      "text/html": [
       "<div>\n",
       "<style scoped>\n",
       "    .dataframe tbody tr th:only-of-type {\n",
       "        vertical-align: middle;\n",
       "    }\n",
       "\n",
       "    .dataframe tbody tr th {\n",
       "        vertical-align: top;\n",
       "    }\n",
       "\n",
       "    .dataframe thead th {\n",
       "        text-align: right;\n",
       "    }\n",
       "</style>\n",
       "<table border=\"1\" class=\"dataframe\">\n",
       "  <thead>\n",
       "    <tr style=\"text-align: right;\">\n",
       "      <th></th>\n",
       "      <th>target</th>\n",
       "    </tr>\n",
       "  </thead>\n",
       "  <tbody>\n",
       "    <tr>\n",
       "      <th>0</th>\n",
       "      <td>1</td>\n",
       "    </tr>\n",
       "    <tr>\n",
       "      <th>1</th>\n",
       "      <td>1</td>\n",
       "    </tr>\n",
       "    <tr>\n",
       "      <th>2</th>\n",
       "      <td>1</td>\n",
       "    </tr>\n",
       "    <tr>\n",
       "      <th>3</th>\n",
       "      <td>1</td>\n",
       "    </tr>\n",
       "    <tr>\n",
       "      <th>4</th>\n",
       "      <td>1</td>\n",
       "    </tr>\n",
       "  </tbody>\n",
       "</table>\n",
       "</div>"
      ],
      "text/plain": [
       "   target\n",
       "0       1\n",
       "1       1\n",
       "2       1\n",
       "3       1\n",
       "4       1"
      ]
     },
     "execution_count": 3,
     "metadata": {},
     "output_type": "execute_result"
    },
    {
     "data": {
      "text/plain": [
       "pandas.core.frame.DataFrame"
      ]
     },
     "execution_count": 3,
     "metadata": {},
     "output_type": "execute_result"
    },
    {
     "data": {
      "text/plain": [
       "(303, 1)"
      ]
     },
     "execution_count": 3,
     "metadata": {},
     "output_type": "execute_result"
    }
   ],
   "source": [
    "features = data.drop(['target'], axis=1)\n",
    "target_tmp = data['target']\n",
    "\n",
    "target = pd.DataFrame({'target':target_tmp.index, 'target':target_tmp.values})\n",
    "\n",
    "features.head(5)\n",
    "type(features)\n",
    "features.shape\n",
    "target.head(5)\n",
    "type(target)\n",
    "target.shape"
   ]
  },
  {
   "cell_type": "code",
   "execution_count": 4,
   "metadata": {},
   "outputs": [
    {
     "data": {
      "text/plain": [
       "(272, 13)"
      ]
     },
     "execution_count": 4,
     "metadata": {},
     "output_type": "execute_result"
    },
    {
     "data": {
      "text/plain": [
       "(31, 13)"
      ]
     },
     "execution_count": 4,
     "metadata": {},
     "output_type": "execute_result"
    },
    {
     "data": {
      "text/plain": [
       "(272, 1)"
      ]
     },
     "execution_count": 4,
     "metadata": {},
     "output_type": "execute_result"
    },
    {
     "data": {
      "text/plain": [
       "(31, 1)"
      ]
     },
     "execution_count": 4,
     "metadata": {},
     "output_type": "execute_result"
    },
    {
     "data": {
      "text/plain": [
       "pandas.core.frame.DataFrame"
      ]
     },
     "execution_count": 4,
     "metadata": {},
     "output_type": "execute_result"
    }
   ],
   "source": [
    "UCI_X_train, UCI_X_test, UCI_y_train, UCI_y_test = train_test_split(features, target, test_size=0.1, random_state=1)\n",
    "UCI_X_train.shape\n",
    "UCI_X_test.shape\n",
    "UCI_y_train.shape\n",
    "UCI_y_test.shape\n",
    "\n",
    "type(UCI_X_train)"
   ]
  },
  {
   "cell_type": "code",
   "execution_count": 5,
   "metadata": {
    "collapsed": true
   },
   "outputs": [],
   "source": [
    "from sklearn.linear_model import LogisticRegression\n",
    "cl1 = LogisticRegression().fit(UCI_X_train, UCI_y_train)"
   ]
  },
  {
   "cell_type": "code",
   "execution_count": 6,
   "metadata": {},
   "outputs": [
    {
     "data": {
      "text/plain": [
       "array([0, 1, 0, 0, 0, 0, 0, 1, 0, 1, 0, 0, 1, 0, 0, 1, 1, 0, 1, 1, 1, 0,\n",
       "       1, 1, 1, 1, 0, 1, 1, 1, 1], dtype=int64)"
      ]
     },
     "execution_count": 6,
     "metadata": {},
     "output_type": "execute_result"
    },
    {
     "data": {
      "text/plain": [
       "array([0, 1, 0, 0, 0, 0, 0, 1, 0, 1, 1, 0, 0, 0, 0, 0, 1, 0, 1, 0, 1, 0,\n",
       "       1, 1, 1, 1, 0, 1, 1, 1, 1], dtype=int64)"
      ]
     },
     "execution_count": 6,
     "metadata": {},
     "output_type": "execute_result"
    }
   ],
   "source": [
    "pred_iris_y_test = cl1.predict(UCI_X_test)\n",
    "pred_iris_y_test\n",
    "UCI_y_test['target'].values"
   ]
  },
  {
   "cell_type": "code",
   "execution_count": 7,
   "metadata": {},
   "outputs": [
    {
     "data": {
      "text/plain": [
       "0.8709677419354839"
      ]
     },
     "execution_count": 7,
     "metadata": {},
     "output_type": "execute_result"
    },
    {
     "data": {
      "text/plain": [
       "(0.8235294117647058, 0.9333333333333333)"
      ]
     },
     "execution_count": 7,
     "metadata": {},
     "output_type": "execute_result"
    },
    {
     "data": {
      "text/plain": [
       "0.8749999999999999"
      ]
     },
     "execution_count": 7,
     "metadata": {},
     "output_type": "execute_result"
    }
   ],
   "source": [
    "accuracy_score(UCI_y_test, pred_iris_y_test)\n",
    "precision_score(UCI_y_test, pred_iris_y_test), recall_score(UCI_y_test, pred_iris_y_test)\n",
    "f1_score(UCI_y_test, pred_iris_y_test)"
   ]
  },
  {
   "cell_type": "code",
   "execution_count": 8,
   "metadata": {},
   "outputs": [
    {
     "data": {
      "text/plain": [
       "0.8283828382838284"
      ]
     },
     "execution_count": 8,
     "metadata": {},
     "output_type": "execute_result"
    }
   ],
   "source": [
    "scores_loo = cross_val_score(LogisticRegression(), \n",
    "                         features, target, \n",
    "                         cv=LeaveOneOut())\n",
    "np.mean(scores_loo)"
   ]
  },
  {
   "cell_type": "markdown",
   "metadata": {},
   "source": [
    "### SVM model for classification"
   ]
  },
  {
   "cell_type": "code",
   "execution_count": 9,
   "metadata": {
    "collapsed": true
   },
   "outputs": [],
   "source": [
    "x_np = UCI_X_train[['thalach','ca']].values\n",
    "y_np = UCI_y_train['target'].values\n",
    "\n",
    "iris_X = x_np\n",
    "iris_y = y_np"
   ]
  },
  {
   "cell_type": "code",
   "execution_count": 10,
   "metadata": {
    "scrolled": true
   },
   "outputs": [
    {
     "data": {
      "text/plain": [
       "(272, 2)"
      ]
     },
     "execution_count": 10,
     "metadata": {},
     "output_type": "execute_result"
    },
    {
     "data": {
      "text/plain": [
       "(272,)"
      ]
     },
     "execution_count": 10,
     "metadata": {},
     "output_type": "execute_result"
    },
    {
     "data": {
      "text/plain": [
       "numpy.ndarray"
      ]
     },
     "execution_count": 10,
     "metadata": {},
     "output_type": "execute_result"
    },
    {
     "data": {
      "text/plain": [
       "numpy.ndarray"
      ]
     },
     "execution_count": 10,
     "metadata": {},
     "output_type": "execute_result"
    },
    {
     "data": {
      "text/plain": [
       "array([[171,   0],\n",
       "       [152,   0],\n",
       "       [159,   1],\n",
       "       [126,   0],\n",
       "       [186,   0],\n",
       "       [138,   0],\n",
       "       [163,   2],\n",
       "       [158,   0],\n",
       "       [111,   0],\n",
       "       [179,   2],\n",
       "       [115,   1],\n",
       "       [126,   0],\n",
       "       [133,   2],\n",
       "       [136,   0],\n",
       "       [169,   0],\n",
       "       [130,   1],\n",
       "       [163,   0],\n",
       "       [181,   0],\n",
       "       [133,   0],\n",
       "       [184,   0],\n",
       "       [163,   1],\n",
       "       [132,   0],\n",
       "       [122,   0],\n",
       "       [172,   0],\n",
       "       [158,   0],\n",
       "       [150,   0],\n",
       "       [143,   1],\n",
       "       [182,   0],\n",
       "       [112,   1],\n",
       "       [154,   0],\n",
       "       [190,   0],\n",
       "       [172,   1],\n",
       "       [173,   1],\n",
       "       [164,   1],\n",
       "       [162,   0],\n",
       "       [160,   0],\n",
       "       [160,   2],\n",
       "       [122,   2],\n",
       "       [132,   1],\n",
       "       [151,   0],\n",
       "       [162,   0],\n",
       "       [109,   3],\n",
       "       [152,   0],\n",
       "       [120,   2],\n",
       "       [114,   0],\n",
       "       [142,   1],\n",
       "       [113,   1],\n",
       "       [147,   1],\n",
       "       [148,   0],\n",
       "       [175,   2],\n",
       "       [162,   0],\n",
       "       [ 88,   1],\n",
       "       [148,   0],\n",
       "       [159,   1],\n",
       "       [148,   0],\n",
       "       [131,   1],\n",
       "       [115,   0],\n",
       "       [175,   0],\n",
       "       [140,   3],\n",
       "       [120,   3],\n",
       "       [125,   1],\n",
       "       [153,   1],\n",
       "       [109,   1],\n",
       "       [171,   0],\n",
       "       [111,   0],\n",
       "       [134,   1],\n",
       "       [132,   1],\n",
       "       [151,   2],\n",
       "       [162,   0],\n",
       "       [168,   0],\n",
       "       [111,   0],\n",
       "       [160,   0],\n",
       "       [182,   0],\n",
       "       [155,   0],\n",
       "       [144,   4],\n",
       "       [168,   0],\n",
       "       [ 95,   2],\n",
       "       [180,   0],\n",
       "       [154,   0],\n",
       "       [162,   2],\n",
       "       [195,   1],\n",
       "       [173,   4],\n",
       "       [162,   0],\n",
       "       [122,   3],\n",
       "       [173,   3],\n",
       "       [161,   1],\n",
       "       [162,   0],\n",
       "       [ 96,   1],\n",
       "       [144,   1],\n",
       "       [155,   0],\n",
       "       [140,   0],\n",
       "       [114,   0],\n",
       "       [158,   1],\n",
       "       [157,   1],\n",
       "       [132,   2],\n",
       "       [173,   2],\n",
       "       [115,   0],\n",
       "       [166,   0],\n",
       "       [152,   1],\n",
       "       [160,   0],\n",
       "       [141,   0],\n",
       "       [132,   0],\n",
       "       [174,   1],\n",
       "       [125,   2],\n",
       "       [143,   0],\n",
       "       [154,   0],\n",
       "       [105,   1],\n",
       "       [150,   0],\n",
       "       [141,   1],\n",
       "       [156,   0],\n",
       "       [125,   0],\n",
       "       [140,   1],\n",
       "       [142,   1],\n",
       "       [179,   0],\n",
       "       [145,   0],\n",
       "       [163,   0],\n",
       "       [175,   0],\n",
       "       [140,   0],\n",
       "       [178,   0],\n",
       "       [162,   3],\n",
       "       [163,   0],\n",
       "       [157,   2],\n",
       "       [168,   0],\n",
       "       [105,   1],\n",
       "       [173,   0],\n",
       "       [171,   2],\n",
       "       [166,   0],\n",
       "       [144,   1],\n",
       "       [186,   0],\n",
       "       [156,   0],\n",
       "       [160,   2],\n",
       "       [158,   0],\n",
       "       [122,   0],\n",
       "       [114,   3],\n",
       "       [155,   0],\n",
       "       [118,   1],\n",
       "       [130,   2],\n",
       "       [172,   0],\n",
       "       [142,   1],\n",
       "       [143,   0],\n",
       "       [ 90,   2],\n",
       "       [169,   2],\n",
       "       [172,   0],\n",
       "       [144,   0],\n",
       "       [130,   0],\n",
       "       [132,   3],\n",
       "       [150,   1],\n",
       "       [162,   1],\n",
       "       [127,   1],\n",
       "       [163,   1],\n",
       "       [147,   3],\n",
       "       [156,   1],\n",
       "       [160,   1],\n",
       "       [145,   1],\n",
       "       [130,   1],\n",
       "       [138,   0],\n",
       "       [157,   0],\n",
       "       [152,   0],\n",
       "       [169,   0],\n",
       "       [155,   0],\n",
       "       [ 71,   0],\n",
       "       [163,   0],\n",
       "       [170,   0],\n",
       "       [179,   0],\n",
       "       [156,   0],\n",
       "       [112,   1],\n",
       "       [144,   0],\n",
       "       [157,   0],\n",
       "       [150,   2],\n",
       "       [160,   1],\n",
       "       [172,   0],\n",
       "       [140,   0],\n",
       "       [194,   0],\n",
       "       [170,   0],\n",
       "       [145,   2],\n",
       "       [161,   0],\n",
       "       [126,   3],\n",
       "       [138,   1],\n",
       "       [161,   0],\n",
       "       [177,   1],\n",
       "       [126,   1],\n",
       "       [125,   0],\n",
       "       [123,   0],\n",
       "       [150,   0],\n",
       "       [117,   0],\n",
       "       [172,   0],\n",
       "       [ 99,   2],\n",
       "       [146,   0],\n",
       "       [146,   3],\n",
       "       [153,   0],\n",
       "       [161,   1],\n",
       "       [169,   0],\n",
       "       [116,   2],\n",
       "       [164,   0],\n",
       "       [161,   0],\n",
       "       [182,   0],\n",
       "       [165,   1],\n",
       "       [125,   0],\n",
       "       [168,   2],\n",
       "       [169,   0],\n",
       "       [180,   0],\n",
       "       [142,   0],\n",
       "       [165,   0],\n",
       "       [169,   4],\n",
       "       [158,   2],\n",
       "       [165,   2],\n",
       "       [156,   0],\n",
       "       [142,   2],\n",
       "       [143,   4],\n",
       "       [160,   0],\n",
       "       [182,   0],\n",
       "       [188,   0],\n",
       "       [ 96,   0],\n",
       "       [129,   2],\n",
       "       [178,   0],\n",
       "       [185,   0],\n",
       "       [108,   3],\n",
       "       [131,   0],\n",
       "       [178,   2],\n",
       "       [192,   0],\n",
       "       [137,   0],\n",
       "       [143,   0],\n",
       "       [124,   3],\n",
       "       [140,   0],\n",
       "       [174,   0],\n",
       "       [125,   1],\n",
       "       [163,   0],\n",
       "       [152,   1],\n",
       "       [103,   1],\n",
       "       [162,   2],\n",
       "       [147,   0],\n",
       "       [165,   0],\n",
       "       [158,   0],\n",
       "       [159,   0],\n",
       "       [157,   0],\n",
       "       [166,   0],\n",
       "       [143,   0],\n",
       "       [178,   0],\n",
       "       [160,   0],\n",
       "       [144,   0],\n",
       "       [168,   1],\n",
       "       [182,   0],\n",
       "       [170,   0],\n",
       "       [146,   2],\n",
       "       [ 97,   1],\n",
       "       [108,   1],\n",
       "       [162,   1],\n",
       "       [187,   0],\n",
       "       [178,   0],\n",
       "       [173,   0],\n",
       "       [181,   0],\n",
       "       [151,   1],\n",
       "       [143,   0],\n",
       "       [136,   0],\n",
       "       [170,   0],\n",
       "       [149,   0],\n",
       "       [179,   0],\n",
       "       [106,   3],\n",
       "       [125,   0],\n",
       "       [105,   1],\n",
       "       [120,   0],\n",
       "       [156,   0],\n",
       "       [170,   2],\n",
       "       [154,   1],\n",
       "       [121,   1],\n",
       "       [116,   0],\n",
       "       [153,   0],\n",
       "       [150,   0],\n",
       "       [147,   3],\n",
       "       [202,   0],\n",
       "       [173,   0],\n",
       "       [165,   0]], dtype=int64)"
      ]
     },
     "execution_count": 10,
     "metadata": {},
     "output_type": "execute_result"
    },
    {
     "data": {
      "text/plain": [
       "array([1, 1, 1, 0, 1, 1, 0, 0, 1, 1, 0, 1, 0, 0, 0, 0, 1, 0, 1, 1, 0, 0,\n",
       "       1, 1, 1, 1, 0, 0, 0, 1, 1, 1, 1, 0, 1, 1, 0, 1, 0, 1, 1, 0, 1, 0,\n",
       "       1, 0, 0, 0, 1, 1, 1, 0, 1, 1, 1, 1, 1, 1, 0, 0, 1, 0, 0, 1, 0, 0,\n",
       "       0, 1, 1, 1, 0, 0, 1, 0, 1, 0, 0, 1, 1, 0, 0, 1, 1, 0, 1, 0, 1, 0,\n",
       "       0, 0, 1, 0, 1, 1, 0, 0, 1, 0, 1, 1, 0, 1, 0, 0, 1, 0, 1, 0, 0, 1,\n",
       "       0, 0, 1, 1, 1, 1, 1, 1, 1, 0, 1, 0, 1, 0, 1, 0, 1, 0, 1, 1, 0, 0,\n",
       "       1, 0, 1, 0, 0, 1, 0, 1, 0, 0, 1, 0, 0, 0, 0, 1, 0, 1, 1, 0, 1, 0,\n",
       "       1, 1, 1, 0, 1, 1, 0, 1, 1, 1, 0, 0, 1, 1, 0, 0, 1, 0, 1, 1, 0, 1,\n",
       "       0, 0, 1, 0, 0, 0, 0, 1, 0, 1, 0, 0, 1, 1, 0, 1, 0, 1, 1, 1, 0, 1,\n",
       "       0, 1, 1, 0, 1, 1, 0, 0, 1, 1, 0, 1, 1, 1, 1, 0, 1, 1, 0, 1, 1, 1,\n",
       "       1, 1, 0, 0, 1, 0, 1, 1, 0, 1, 0, 1, 1, 1, 1, 1, 1, 1, 1, 0, 1, 1,\n",
       "       1, 0, 0, 0, 0, 1, 1, 1, 1, 1, 0, 0, 1, 1, 1, 0, 0, 0, 0, 0, 0, 1,\n",
       "       1, 1, 1, 0, 0, 1, 0, 1], dtype=int64)"
      ]
     },
     "execution_count": 10,
     "metadata": {},
     "output_type": "execute_result"
    }
   ],
   "source": [
    "iris_X.shape\n",
    "iris_y.shape\n",
    "\n",
    "type(iris_X)\n",
    "type(iris_y)\n",
    "\n",
    "iris_X\n",
    "iris_y"
   ]
  },
  {
   "cell_type": "code",
   "execution_count": 11,
   "metadata": {
    "collapsed": true
   },
   "outputs": [],
   "source": [
    "def make_meshgrid(x, y, h=.02):\n",
    "    \"\"\"Create a mesh of points to plot in\n",
    "\n",
    "    Parameters\n",
    "    ----------\n",
    "    x: data to base x-axis meshgrid on\n",
    "    y: data to base y-axis meshgrid on\n",
    "    h: stepsize for meshgrid, optional\n",
    "\n",
    "    Returns\n",
    "    -------\n",
    "    xx, yy : ndarray\n",
    "    \"\"\"\n",
    "    x_min, x_max = x.min() - 1, x.max() + 1\n",
    "    y_min, y_max = y.min() - 1, y.max() + 1\n",
    "    xx, yy = np.meshgrid(np.arange(x_min, x_max, h),\n",
    "                         np.arange(y_min, y_max, h))\n",
    "    return xx, yy\n",
    "\n",
    "def plot_contours(ax, clf, xx, yy, **params):\n",
    "    \"\"\"Plot the decision boundaries for a classifier.\n",
    "\n",
    "    Parameters\n",
    "    ----------\n",
    "    ax: matplotlib axes object\n",
    "    clf: a classifier\n",
    "    xx: meshgrid ndarray\n",
    "    yy: meshgrid ndarray\n",
    "    params: dictionary of params to pass to contourf, optional\n",
    "    \"\"\"\n",
    "    Z = clf.predict(np.c_[xx.ravel(), yy.ravel()])\n",
    "    Z = Z.reshape(xx.shape)\n",
    "    #Можно проверить все ли метки классов предсказываются\n",
    "    #print(np.unique(Z))\n",
    "    out = ax.contourf(xx, yy, Z, **params)\n",
    "    return out\n",
    "\n",
    "\n",
    "def plot_cl(clf):\n",
    "    title = clf.__repr__\n",
    "    clf.fit(iris_X, iris_y)\n",
    "    fig, ax = plt.subplots(figsize=(5,5))\n",
    "    X0, X1 = iris_X[:, 0], iris_X[:, 1]\n",
    "    xx, yy = make_meshgrid(X0, X1)\n",
    "    plot_contours(ax, clf, xx, yy, cmap=plt.cm.coolwarm, alpha=0.8)\n",
    "    ax.scatter(X0, X1, c=iris_y, cmap=plt.cm.coolwarm, s=20, edgecolors='k')\n",
    "    ax.set_xlim(xx.min(), xx.max())\n",
    "    ax.set_ylim(yy.min(), yy.max())\n",
    "    ax.set_xlabel('thalach')\n",
    "    ax.set_ylabel('ca')\n",
    "    ax.set_xticks(())\n",
    "    ax.set_yticks(())\n",
    "    ax.set_title(title)\n",
    "    plt.show()"
   ]
  },
  {
   "cell_type": "code",
   "execution_count": 12,
   "metadata": {},
   "outputs": [
    {
     "data": {
      "image/png": "[encoded data removed]",
      "text/plain": [
       "<matplotlib.figure.Figure at 0x25aecf55f60>"
      ]
     },
     "metadata": {},
     "output_type": "display_data"
    }
   ],
   "source": [
    "plot_cl(LinearSVC(C=1.0, penalty='l1', dual=False, max_iter=10000))"
   ]
  },
  {
   "cell_type": "code",
   "execution_count": 13,
   "metadata": {
    "collapsed": true
   },
   "outputs": [],
   "source": [
    "clf = LinearSVC(C=1.0, penalty='l1', dual=False, max_iter=10000).fit(UCI_X_train, UCI_y_train)\n",
    "\n",
    "pred_iris_y_test = clf.predict(UCI_X_test)"
   ]
  },
  {
   "cell_type": "code",
   "execution_count": 14,
   "metadata": {},
   "outputs": [
    {
     "data": {
      "text/plain": [
       "array([0, 1, 0, 0, 0, 0, 0, 1, 0, 1, 1, 0, 1, 0, 0, 1, 1, 0, 1, 1, 1, 0,\n",
       "       1, 1, 1, 1, 0, 1, 1, 1, 1], dtype=int64)"
      ]
     },
     "execution_count": 14,
     "metadata": {},
     "output_type": "execute_result"
    },
    {
     "data": {
      "text/plain": [
       "array([0, 1, 0, 0, 0, 0, 0, 1, 0, 1, 1, 0, 0, 0, 0, 0, 1, 0, 1, 0, 1, 0,\n",
       "       1, 1, 1, 1, 0, 1, 1, 1, 1], dtype=int64)"
      ]
     },
     "execution_count": 14,
     "metadata": {},
     "output_type": "execute_result"
    }
   ],
   "source": [
    "pred_iris_y_test\n",
    "UCI_y_test['target'].values"
   ]
  },
  {
   "cell_type": "code",
   "execution_count": 15,
   "metadata": {},
   "outputs": [
    {
     "data": {
      "text/plain": [
       "0.9032258064516129"
      ]
     },
     "execution_count": 15,
     "metadata": {},
     "output_type": "execute_result"
    },
    {
     "data": {
      "text/plain": [
       "(0.8333333333333334, 1.0)"
      ]
     },
     "execution_count": 15,
     "metadata": {},
     "output_type": "execute_result"
    },
    {
     "data": {
      "text/plain": [
       "0.9090909090909091"
      ]
     },
     "execution_count": 15,
     "metadata": {},
     "output_type": "execute_result"
    }
   ],
   "source": [
    "accuracy_score(UCI_y_test, pred_iris_y_test)\n",
    "precision_score(UCI_y_test, pred_iris_y_test), recall_score(UCI_y_test, pred_iris_y_test)\n",
    "f1_score(UCI_y_test, pred_iris_y_test)"
   ]
  },
  {
   "cell_type": "code",
   "execution_count": 16,
   "metadata": {},
   "outputs": [
    {
     "data": {
      "text/plain": [
       "0.834983498349835"
      ]
     },
     "execution_count": 16,
     "metadata": {},
     "output_type": "execute_result"
    }
   ],
   "source": [
    "scores_loo = cross_val_score(LinearSVC(C=1.0, penalty='l1', dual=False, max_iter=10000).fit(UCI_X_train, UCI_y_train), \n",
    "                         features, target, \n",
    "                         cv=LeaveOneOut())\n",
    "np.mean(scores_loo)"
   ]
  },
  {
   "cell_type": "markdown",
   "metadata": {},
   "source": [
    "#### Some grid search for svm"
   ]
  },
  {
   "cell_type": "code",
   "execution_count": 17,
   "metadata": {},
   "outputs": [
    {
     "data": {
      "text/plain": [
       "[{'max_iter': array([ 100,  200,  300,  400,  500,  600,  700,  800,  900, 1000, 1100,\n",
       "         1200, 1300, 1400, 1500, 1600, 1700, 1800, 1900, 2000, 2100, 2200,\n",
       "         2300, 2400, 2500, 2600, 2700, 2800, 2900, 3000, 3100, 3200, 3300,\n",
       "         3400, 3500, 3600, 3700, 3800, 3900, 4000, 4100, 4200, 4300, 4400,\n",
       "         4500, 4600, 4700, 4800, 4900, 5000, 5100, 5200, 5300, 5400, 5500,\n",
       "         5600, 5700, 5800, 5900, 6000, 6100, 6200, 6300, 6400, 6500, 6600,\n",
       "         6700, 6800, 6900, 7000, 7100, 7200, 7300, 7400, 7500, 7600, 7700,\n",
       "         7800, 7900, 8000, 8100, 8200, 8300, 8400, 8500, 8600, 8700, 8800,\n",
       "         8900, 9000, 9100, 9200, 9300, 9400, 9500, 9600, 9700, 9800, 9900])}]"
      ]
     },
     "execution_count": 17,
     "metadata": {},
     "output_type": "execute_result"
    }
   ],
   "source": [
    "n_range = np.array(range(100,10000,100))\n",
    "tuned_parameters = [{'max_iter': n_range}]\n",
    "tuned_parameters"
   ]
  },
  {
   "cell_type": "code",
   "execution_count": 18,
   "metadata": {},
   "outputs": [
    {
     "name": "stdout",
     "output_type": "stream",
     "text": [
      "Fitting 8 folds for each of 99 candidates, totalling 792 fits\n"
     ]
    },
    {
     "name": "stderr",
     "output_type": "stream",
     "text": [
      "[Parallel(n_jobs=-1)]: Using backend LokyBackend with 4 concurrent workers.\n",
      "[Parallel(n_jobs=-1)]: Done  42 tasks      | elapsed:    7.4s\n",
      "[Parallel(n_jobs=-1)]: Done 419 tasks      | elapsed:   28.5s\n",
      "[Parallel(n_jobs=-1)]: Done 669 tasks      | elapsed:   59.7s\n",
      "[Parallel(n_jobs=-1)]: Done 792 out of 792 | elapsed:  1.2min finished\n",
      "C:\\Users\\bulat\\AppData\\Roaming\\Python\\Python36\\site-packages\\sklearn\\model_selection\\_search.py:841: DeprecationWarning: The default of the `iid` parameter will change from True to False in version 0.22 and will be removed in 0.24. This will change numeric results when test-set sizes are unequal.\n",
      "  DeprecationWarning)\n"
     ]
    },
    {
     "data": {
      "text/plain": [
       "GridSearchCV(cv=8, error_score='raise-deprecating',\n",
       "       estimator=LinearSVC(C=1.0, class_weight=None, dual=True, fit_intercept=True,\n",
       "     intercept_scaling=1, loss='squared_hinge', max_iter=1000,\n",
       "     multi_class='ovr', penalty='l2', random_state=None, tol=0.0001,\n",
       "     verbose=0),\n",
       "       fit_params=None, iid='warn', n_jobs=-1,\n",
       "       param_grid=[{'max_iter': array([ 100,  200, ..., 9800, 9900])}],\n",
       "       pre_dispatch='2*n_jobs', refit=True, return_train_score='warn',\n",
       "       scoring='f1', verbose=1)"
      ]
     },
     "execution_count": 18,
     "metadata": {},
     "output_type": "execute_result"
    }
   ],
   "source": [
    "clf_gs = GridSearchCV(LinearSVC(), tuned_parameters, cv=8, scoring='f1', verbose=1, n_jobs=-1)\n",
    "clf_gs.fit(UCI_X_train, UCI_y_train)"
   ]
  },
  {
   "cell_type": "code",
   "execution_count": 19,
   "metadata": {
    "scrolled": true
   },
   "outputs": [
    {
     "data": {
      "text/plain": [
       "{'mean_fit_time': array([0.03048879, 0.03099349, 0.03399196, 0.03498998, 0.03748894,\n",
       "        0.04149187, 0.05548489, 0.04998592, 0.04348737, 0.05048874,\n",
       "        0.05798617, 0.05798426, 0.05598283, 0.0569835 , 0.06548306,\n",
       "        0.0654828 , 0.06748238, 0.0869737 , 0.09047571, 0.09647381,\n",
       "        0.085978  , 0.08897921, 0.09597588, 0.09547564, 0.15895575,\n",
       "        0.20144984, 0.20595095, 0.19544956, 0.17545626, 0.16595751,\n",
       "        0.18645233, 0.2014493 , 0.18945083, 0.21894491, 0.23543939,\n",
       "        0.25942886, 0.41989592, 0.30192327, 0.29342842, 0.3309159 ,\n",
       "        0.31941977, 0.43389055, 0.53586385, 0.58088949, 0.5354369 ,\n",
       "        0.43196455, 0.40524542, 0.30203703, 0.22509158, 0.32891724,\n",
       "        0.28416833, 0.32211989, 0.37477574, 0.47737914, 0.36990425,\n",
       "        0.45638359, 0.39689863, 0.36340839, 0.39590308, 0.38190427,\n",
       "        0.4578827 , 0.39089876, 0.40539914, 0.36390698, 0.35690749,\n",
       "        0.4024013 , 0.38140318, 0.4148958 , 0.41189447, 0.36990616,\n",
       "        0.37340537, 0.38590276, 0.42189291, 0.38440147, 0.40639699,\n",
       "        0.42939013, 0.36340696, 0.39190072, 0.60372767, 0.37228614,\n",
       "        1.136713  , 0.92426586, 0.96363708, 1.10505378, 0.51687136,\n",
       "        0.4823786 , 0.41839373, 0.48987779, 0.45888361, 0.40789783,\n",
       "        0.41339466, 0.40289846, 0.34441102, 0.33291206, 0.36840606,\n",
       "        0.33141568, 0.35575688, 0.34326008, 0.32241738]),\n",
       " 'mean_score_time': array([0.00549936, 0.01399645, 0.00599751, 0.00449792, 0.00599924,\n",
       "        0.0079968 , 0.00649977, 0.00499985, 0.00299922, 0.00449717,\n",
       "        0.00700063, 0.00399917, 0.00499928, 0.00500247, 0.00450116,\n",
       "        0.0040001 , 0.00499642, 0.00349873, 0.00550017, 0.00749853,\n",
       "        0.00300092, 0.00399759, 0.0049988 , 0.00500163, 0.00349936,\n",
       "        0.00449762, 0.0075002 , 0.00499791, 0.00949556, 0.00449902,\n",
       "        0.00349861, 0.00849882, 0.00449973, 0.004998  , 0.0064992 ,\n",
       "        0.00550142, 0.00449952, 0.00949988, 0.00249892, 0.00400275,\n",
       "        0.02799192, 0.00349811, 0.00200158, 0.00799975, 0.00249922,\n",
       "        0.00199974, 0.00591412, 0.00645193, 0.00470126, 0.        ,\n",
       "        0.00636041, 0.00390652, 0.00794879, 0.00499764, 0.00299916,\n",
       "        0.00349841, 0.00399962, 0.00599751, 0.00549582, 0.00200054,\n",
       "        0.00450036, 0.00249994, 0.00199956, 0.00399897, 0.0039995 ,\n",
       "        0.00549877, 0.00249928, 0.0025    , 0.00200003, 0.00299951,\n",
       "        0.00199977, 0.00100011, 0.0060012 , 0.00449967, 0.00249931,\n",
       "        0.00150123, 0.00149986, 0.00299934, 0.00499985, 0.00450015,\n",
       "        0.00349876, 0.01149794, 0.00470313, 0.0022541 , 0.00249857,\n",
       "        0.0039981 , 0.00350451, 0.00399792, 0.00400433, 0.00499782,\n",
       "        0.00450018, 0.0039987 , 0.00499874, 0.00200006, 0.00299984,\n",
       "        0.00050008, 0.00249955, 0.00400177, 0.00400048]),\n",
       " 'mean_test_score': array([0.57944436, 0.50876448, 0.67079141, 0.7413311 , 0.76209206,\n",
       "        0.52894291, 0.7020243 , 0.51991961, 0.73193103, 0.58065346,\n",
       "        0.76495889, 0.7036292 , 0.61695735, 0.64733574, 0.63461546,\n",
       "        0.75032812, 0.56207071, 0.74276943, 0.75654258, 0.72243897,\n",
       "        0.64051857, 0.67069874, 0.57607699, 0.81764871, 0.65792516,\n",
       "        0.69440434, 0.8358102 , 0.70605784, 0.59375563, 0.84508892,\n",
       "        0.69479769, 0.67859358, 0.84766394, 0.70695596, 0.66551098,\n",
       "        0.83639259, 0.65931722, 0.63988882, 0.67109876, 0.77163775,\n",
       "        0.60577422, 0.76769894, 0.81015743, 0.77976687, 0.81080348,\n",
       "        0.75033518, 0.73231714, 0.68088114, 0.61556208, 0.73006298,\n",
       "        0.83170031, 0.68714247, 0.71764937, 0.68889859, 0.79670967,\n",
       "        0.69106632, 0.73580613, 0.82183324, 0.66292181, 0.82473606,\n",
       "        0.70610056, 0.73033538, 0.79844017, 0.82639749, 0.66418087,\n",
       "        0.63457097, 0.8100556 , 0.60983879, 0.78688031, 0.72997291,\n",
       "        0.82705042, 0.67552784, 0.7092522 , 0.72727657, 0.79877443,\n",
       "        0.79063542, 0.74476906, 0.75172091, 0.77486655, 0.62206216,\n",
       "        0.75528522, 0.68882683, 0.76148961, 0.77761599, 0.70268591,\n",
       "        0.74177023, 0.78103731, 0.77615912, 0.6217479 , 0.61185728,\n",
       "        0.67783027, 0.76625888, 0.73762495, 0.64486763, 0.70246913,\n",
       "        0.67576641, 0.77487513, 0.82695688, 0.73653423]),\n",
       " 'mean_train_score': array([0.58159464, 0.5081645 , 0.6799141 , 0.7570356 , 0.76129706,\n",
       "        0.56874018, 0.70285966, 0.56272572, 0.72140834, 0.57433088,\n",
       "        0.77782693, 0.69786789, 0.62280953, 0.64277685, 0.6883043 ,\n",
       "        0.73861597, 0.57766112, 0.72376204, 0.73436976, 0.74271825,\n",
       "        0.6401389 , 0.69392608, 0.66745264, 0.80959527, 0.67630217,\n",
       "        0.72509602, 0.83298894, 0.77173937, 0.57100507, 0.84860631,\n",
       "        0.71674644, 0.67431161, 0.84177466, 0.73188525, 0.66124351,\n",
       "        0.83993869, 0.71710854, 0.66330331, 0.70663136, 0.76658658,\n",
       "        0.60730227, 0.79724608, 0.83165012, 0.83970899, 0.82841032,\n",
       "        0.72405657, 0.74620154, 0.71176335, 0.60277872, 0.75240576,\n",
       "        0.81967525, 0.71565472, 0.7153675 , 0.71910181, 0.80484951,\n",
       "        0.69909917, 0.76440835, 0.83873986, 0.67752337, 0.84239786,\n",
       "        0.76651192, 0.75382623, 0.81775664, 0.82270982, 0.65713722,\n",
       "        0.63772781, 0.83511091, 0.59242532, 0.80754004, 0.7586373 ,\n",
       "        0.84516535, 0.70978754, 0.74379503, 0.74837653, 0.81937176,\n",
       "        0.79479168, 0.77874856, 0.7460518 , 0.75668969, 0.64472233,\n",
       "        0.75572473, 0.69905664, 0.77446649, 0.82048969, 0.73360443,\n",
       "        0.73404603, 0.78189907, 0.77447595, 0.59087414, 0.65108767,\n",
       "        0.65667071, 0.73600205, 0.70626461, 0.65701617, 0.74252812,\n",
       "        0.7246115 , 0.81113117, 0.84447607, 0.74221592]),\n",
       " 'param_max_iter': masked_array(data=[100, 200, 300, 400, 500, 600, 700, 800, 900, 1000,\n",
       "                    1100, 1200, 1300, 1400, 1500, 1600, 1700, 1800, 1900,\n",
       "                    2000, 2100, 2200, 2300, 2400, 2500, 2600, 2700, 2800,\n",
       "                    2900, 3000, 3100, 3200, 3300, 3400, 3500, 3600, 3700,\n",
       "                    3800, 3900, 4000, 4100, 4200, 4300, 4400, 4500, 4600,\n",
       "                    4700, 4800, 4900, 5000, 5100, 5200, 5300, 5400, 5500,\n",
       "                    5600, 5700, 5800, 5900, 6000, 6100, 6200, 6300, 6400,\n",
       "                    6500, 6600, 6700, 6800, 6900, 7000, 7100, 7200, 7300,\n",
       "                    7400, 7500, 7600, 7700, 7800, 7900, 8000, 8100, 8200,\n",
       "                    8300, 8400, 8500, 8600, 8700, 8800, 8900, 9000, 9100,\n",
       "                    9200, 9300, 9400, 9500, 9600, 9700, 9800, 9900],\n",
       "              mask=[False, False, False, False, False, False, False, False,\n",
       "                    False, False, False, False, False, False, False, False,\n",
       "                    False, False, False, False, False, False, False, False,\n",
       "                    False, False, False, False, False, False, False, False,\n",
       "                    False, False, False, False, False, False, False, False,\n",
       "                    False, False, False, False, False, False, False, False,\n",
       "                    False, False, False, False, False, False, False, False,\n",
       "                    False, False, False, False, False, False, False, False,\n",
       "                    False, False, False, False, False, False, False, False,\n",
       "                    False, False, False, False, False, False, False, False,\n",
       "                    False, False, False, False, False, False, False, False,\n",
       "                    False, False, False, False, False, False, False, False,\n",
       "                    False, False, False],\n",
       "        fill_value='?',\n",
       "             dtype=object),\n",
       " 'params': [{'max_iter': 100},\n",
       "  {'max_iter': 200},\n",
       "  {'max_iter': 300},\n",
       "  {'max_iter': 400},\n",
       "  {'max_iter': 500},\n",
       "  {'max_iter': 600},\n",
       "  {'max_iter': 700},\n",
       "  {'max_iter': 800},\n",
       "  {'max_iter': 900},\n",
       "  {'max_iter': 1000},\n",
       "  {'max_iter': 1100},\n",
       "  {'max_iter': 1200},\n",
       "  {'max_iter': 1300},\n",
       "  {'max_iter': 1400},\n",
       "  {'max_iter': 1500},\n",
       "  {'max_iter': 1600},\n",
       "  {'max_iter': 1700},\n",
       "  {'max_iter': 1800},\n",
       "  {'max_iter': 1900},\n",
       "  {'max_iter': 2000},\n",
       "  {'max_iter': 2100},\n",
       "  {'max_iter': 2200},\n",
       "  {'max_iter': 2300},\n",
       "  {'max_iter': 2400},\n",
       "  {'max_iter': 2500},\n",
       "  {'max_iter': 2600},\n",
       "  {'max_iter': 2700},\n",
       "  {'max_iter': 2800},\n",
       "  {'max_iter': 2900},\n",
       "  {'max_iter': 3000},\n",
       "  {'max_iter': 3100},\n",
       "  {'max_iter': 3200},\n",
       "  {'max_iter': 3300},\n",
       "  {'max_iter': 3400},\n",
       "  {'max_iter': 3500},\n",
       "  {'max_iter': 3600},\n",
       "  {'max_iter': 3700},\n",
       "  {'max_iter': 3800},\n",
       "  {'max_iter': 3900},\n",
       "  {'max_iter': 4000},\n",
       "  {'max_iter': 4100},\n",
       "  {'max_iter': 4200},\n",
       "  {'max_iter': 4300},\n",
       "  {'max_iter': 4400},\n",
       "  {'max_iter': 4500},\n",
       "  {'max_iter': 4600},\n",
       "  {'max_iter': 4700},\n",
       "  {'max_iter': 4800},\n",
       "  {'max_iter': 4900},\n",
       "  {'max_iter': 5000},\n",
       "  {'max_iter': 5100},\n",
       "  {'max_iter': 5200},\n",
       "  {'max_iter': 5300},\n",
       "  {'max_iter': 5400},\n",
       "  {'max_iter': 5500},\n",
       "  {'max_iter': 5600},\n",
       "  {'max_iter': 5700},\n",
       "  {'max_iter': 5800},\n",
       "  {'max_iter': 5900},\n",
       "  {'max_iter': 6000},\n",
       "  {'max_iter': 6100},\n",
       "  {'max_iter': 6200},\n",
       "  {'max_iter': 6300},\n",
       "  {'max_iter': 6400},\n",
       "  {'max_iter': 6500},\n",
       "  {'max_iter': 6600},\n",
       "  {'max_iter': 6700},\n",
       "  {'max_iter': 6800},\n",
       "  {'max_iter': 6900},\n",
       "  {'max_iter': 7000},\n",
       "  {'max_iter': 7100},\n",
       "  {'max_iter': 7200},\n",
       "  {'max_iter': 7300},\n",
       "  {'max_iter': 7400},\n",
       "  {'max_iter': 7500},\n",
       "  {'max_iter': 7600},\n",
       "  {'max_iter': 7700},\n",
       "  {'max_iter': 7800},\n",
       "  {'max_iter': 7900},\n",
       "  {'max_iter': 8000},\n",
       "  {'max_iter': 8100},\n",
       "  {'max_iter': 8200},\n",
       "  {'max_iter': 8300},\n",
       "  {'max_iter': 8400},\n",
       "  {'max_iter': 8500},\n",
       "  {'max_iter': 8600},\n",
       "  {'max_iter': 8700},\n",
       "  {'max_iter': 8800},\n",
       "  {'max_iter': 8900},\n",
       "  {'max_iter': 9000},\n",
       "  {'max_iter': 9100},\n",
       "  {'max_iter': 9200},\n",
       "  {'max_iter': 9300},\n",
       "  {'max_iter': 9400},\n",
       "  {'max_iter': 9500},\n",
       "  {'max_iter': 9600},\n",
       "  {'max_iter': 9700},\n",
       "  {'max_iter': 9800},\n",
       "  {'max_iter': 9900}],\n",
       " 'rank_test_score': array([94, 99, 72, 40, 30, 97, 59, 98, 45, 93, 29, 56, 87, 79, 83, 36, 96,\n",
       "        38, 32, 50, 81, 73, 95, 11, 78, 61,  4, 55, 92,  2, 60, 67,  1, 53,\n",
       "        74,  3, 77, 82, 71, 26, 91, 27, 13, 21, 12, 35, 44, 66, 88, 47,  5,\n",
       "        65, 51, 63, 17, 62, 43, 10, 76,  9, 54, 46, 16,  8, 75, 84, 14, 90,\n",
       "        19, 48,  6, 70, 52, 49, 15, 18, 37, 34, 25, 85, 33, 64, 31, 22, 57,\n",
       "        39, 20, 23, 86, 89, 68, 28, 41, 80, 58, 69, 24,  7, 42]),\n",
       " 'split0_test_score': array([0.72      , 0.7037037 , 0.71698113, 0.75555556, 0.7826087 ,\n",
       "        0.65      , 0.7755102 , 0.74418605, 0.46153846, 0.1       ,\n",
       "        0.66666667, 0.7826087 , 0.74418605, 0.74509804, 0.75555556,\n",
       "        0.70967742, 0.34782609, 0.72727273, 0.76595745, 0.74418605,\n",
       "        0.1       , 0.74418605, 0.72727273, 0.76595745, 0.74418605,\n",
       "        0.74418605, 0.7826087 , 0.74418605, 0.53846154, 0.72727273,\n",
       "        0.59259259, 0.76595745, 0.74418605, 0.75      , 0.1       ,\n",
       "        0.74418605, 0.59259259, 0.72727273, 0.73913043, 0.73076923,\n",
       "        0.76595745, 0.74418605, 0.72727273, 0.74418605, 0.76595745,\n",
       "        0.73913043, 0.76595745, 0.53846154, 0.53846154, 0.72222222,\n",
       "        0.71698113, 0.73913043, 0.73913043, 0.76595745, 0.55172414,\n",
       "        0.76595745, 0.7027027 , 0.74418605, 0.72727273, 0.75675676,\n",
       "        0.72727273, 0.75      , 0.64705882, 0.74418605, 0.53846154,\n",
       "        0.7027027 , 0.72727273, 0.1       , 0.71111111, 0.74418605,\n",
       "        0.76595745, 0.71428571, 0.74418605, 0.66666667, 0.74418605,\n",
       "        0.66666667, 0.74418605, 0.72727273, 0.76595745, 0.74418605,\n",
       "        0.71698113, 0.74418605, 0.41666667, 0.75675676, 0.71111111,\n",
       "        0.59259259, 0.48      , 0.75      , 0.19047619, 0.71111111,\n",
       "        0.53846154, 0.73076923, 0.53846154, 0.71111111, 0.73913043,\n",
       "        0.73913043, 0.75      , 0.71111111, 0.71111111]),\n",
       " 'split0_train_score': array([0.76696165, 0.71584699, 0.73595506, 0.82051282, 0.82051282,\n",
       "        0.85271318, 0.81132075, 0.88571429, 0.45714286, 0.19310345,\n",
       "        0.825     , 0.82315113, 0.85813149, 0.78678679, 0.84931507,\n",
       "        0.74074074, 0.33962264, 0.84931507, 0.82467532, 0.8641115 ,\n",
       "        0.12857143, 0.87632509, 0.85813149, 0.83225806, 0.88256228,\n",
       "        0.89377289, 0.8372093 , 0.87632509, 0.49142857, 0.83221477,\n",
       "        0.59375   , 0.83552632, 0.8641115 , 0.81761006, 0.14184397,\n",
       "        0.86713287, 0.60732984, 0.85223368, 0.82580645, 0.77744807,\n",
       "        0.83387622, 0.86713287, 0.83221477, 0.86713287, 0.83828383,\n",
       "        0.84210526, 0.82580645, 0.56989247, 0.63589744, 0.83404255,\n",
       "        0.74011299, 0.84      , 0.83333333, 0.83225806, 0.66      ,\n",
       "        0.84210526, 0.87804878, 0.87323944, 0.8641115 , 0.87649402,\n",
       "        0.84641638, 0.82165605, 0.77678571, 0.89130435, 0.50847458,\n",
       "        0.872     , 0.84641638, 0.15492958, 0.8372093 , 0.88888889,\n",
       "        0.84488449, 0.89147287, 0.8641115 , 0.75799087, 0.87943262,\n",
       "        0.76363636, 0.88256228, 0.85517241, 0.83387622, 0.86713287,\n",
       "        0.72777778, 0.88235294, 0.32051282, 0.85596708, 0.84353741,\n",
       "        0.54644809, 0.44705882, 0.82165605, 0.22972973, 0.85223368,\n",
       "        0.43786982, 0.74643875, 0.49142857, 0.8372093 , 0.84488449,\n",
       "        0.83387622, 0.83766234, 0.83783784, 0.83501684]),\n",
       " 'split1_test_score': array([0.76      , 0.80851064, 0.8372093 , 0.81818182, 0.79069767,\n",
       "        0.        , 0.79166667, 0.1       , 0.77419355, 0.80952381,\n",
       "        0.79166667, 0.81081081, 0.82608696, 0.        , 0.        ,\n",
       "        0.79166667, 0.        , 0.71698113, 0.82926829, 0.80952381,\n",
       "        0.73333333, 0.1       , 0.1       , 0.8372093 , 0.34782609,\n",
       "        0.82926829, 0.8372093 , 0.41666667, 0.71698113, 0.84444444,\n",
       "        0.84444444, 0.84210526, 0.81818182, 0.85      , 0.82926829,\n",
       "        0.81818182, 0.1       , 0.8125    , 0.19047619, 0.85      ,\n",
       "        0.82926829, 0.83333333, 0.8       , 0.85      , 0.82926829,\n",
       "        0.1       , 0.        , 0.8       , 0.        , 0.82926829,\n",
       "        0.82352941, 0.1       , 0.8372093 , 0.84444444, 0.8       ,\n",
       "        0.85      , 0.85      , 0.80952381, 0.8372093 , 0.85      ,\n",
       "        0.1       , 0.82926829, 0.82926829, 0.85      , 0.82926829,\n",
       "        0.        , 0.85      , 0.83333333, 0.68965517, 0.8372093 ,\n",
       "        0.82926829, 0.41666667, 0.83333333, 0.34782609, 0.81081081,\n",
       "        0.73333333, 0.81818182, 0.81818182, 0.85      , 0.85      ,\n",
       "        0.76      , 0.84210526, 0.85      , 0.82352941, 0.8       ,\n",
       "        0.85      , 0.85      , 0.48      , 0.87179487, 0.27272727,\n",
       "        0.82352941, 0.8125    , 0.85      , 0.85      , 0.1       ,\n",
       "        0.48      , 0.83333333, 0.8372093 , 0.80952381]),\n",
       " 'split1_train_score': array([0.73595506, 0.76470588, 0.80757098, 0.78549849, 0.81789137,\n",
       "        0.        , 0.76832845, 0.51396648, 0.78448276, 0.82467532,\n",
       "        0.77286136, 0.84824903, 0.78787879, 0.07352941, 0.04477612,\n",
       "        0.77514793, 0.05925926, 0.71389646, 0.85910653, 0.81818182,\n",
       "        0.7014218 , 0.19310345, 0.46511628, 0.81410256, 0.48275862,\n",
       "        0.84745763, 0.81818182, 0.54347826, 0.71389646, 0.80503145,\n",
       "        0.79268293, 0.87364621, 0.81528662, 0.85813149, 0.82236842,\n",
       "        0.80124224, 0.41916168, 0.77922078, 0.40963855, 0.86805556,\n",
       "        0.82236842, 0.87058824, 0.86142322, 0.87632509, 0.82236842,\n",
       "        0.10144928, 0.04477612, 0.78787879, 0.05925926, 0.86206897,\n",
       "        0.7826087 , 0.2875817 , 0.80511182, 0.78549849, 0.8503937 ,\n",
       "        0.86619718, 0.87234043, 0.82580645, 0.81818182, 0.85324232,\n",
       "        0.20547945, 0.84745763, 0.82781457, 0.85324232, 0.83056478,\n",
       "        0.        , 0.8650519 , 0.85258964, 0.6763285 , 0.82051282,\n",
       "        0.82781457, 0.51648352, 0.848     , 0.48863636, 0.87218045,\n",
       "        0.72222222, 0.81528662, 0.81012658, 0.85517241, 0.8650519 ,\n",
       "        0.74011299, 0.87142857, 0.87234043, 0.81012658, 0.81818182,\n",
       "        0.87234043, 0.85910653, 0.52222222, 0.87017544, 0.44705882,\n",
       "        0.81818182, 0.73636364, 0.86330935, 0.87234043, 0.12857143,\n",
       "        0.49142857, 0.87084871, 0.82200647, 0.82200647]),\n",
       " 'split2_test_score': array([0.73469388, 0.        , 0.76      , 0.76595745, 0.80952381,\n",
       "        0.34782609, 0.76      , 0.77272727, 0.7804878 , 0.77272727,\n",
       "        0.73076923, 0.74509804, 0.77272727, 0.1       , 0.27272727,\n",
       "        0.19047619, 0.19047619, 0.73076923, 0.1       , 0.82051282,\n",
       "        0.1       , 0.75675676, 0.46153846, 0.77272727, 0.77272727,\n",
       "        0.46153846, 0.76190476, 0.46153846, 0.1       , 0.8       ,\n",
       "        0.77272727, 0.8       , 0.73913043, 0.62068966, 0.74418605,\n",
       "        0.77272727, 0.70588235, 0.77777778, 0.19047619, 0.74418605,\n",
       "        0.        , 0.73684211, 0.76190476, 0.4       , 0.75675676,\n",
       "        0.76      , 0.8       , 0.4       , 0.77272727, 0.76190476,\n",
       "        0.77272727, 0.77272727, 0.74509804, 0.27272727, 0.8       ,\n",
       "        0.77272727, 0.74418605, 0.77272727, 0.77272727, 0.73913043,\n",
       "        0.57142857, 0.6       , 0.57142857, 0.82051282, 0.1       ,\n",
       "        0.77272727, 0.6875    , 0.1       , 0.4       , 0.6       ,\n",
       "        0.77272727, 0.19047619, 0.7804878 , 0.73913043, 0.75555556,\n",
       "        0.74418605, 0.19047619, 0.77272727, 0.72340426, 0.70588235,\n",
       "        0.77272727, 0.73913043, 0.55172414, 0.4       , 0.57142857,\n",
       "        0.8       , 0.77272727, 0.74418605, 0.77272727, 0.66666667,\n",
       "        0.70588235, 0.74509804, 0.77272727, 0.8       , 0.74418605,\n",
       "        0.19047619, 0.72222222, 0.75      , 0.70588235]),\n",
       " 'split2_train_score': array([0.76646707, 0.05925926, 0.76832845, 0.79154079, 0.86524823,\n",
       "        0.5       , 0.77286136, 0.84280936, 0.86219081, 0.82958199,\n",
       "        0.71195652, 0.72777778, 0.85910653, 0.04477612, 0.53038674,\n",
       "        0.19310345, 0.38271605, 0.71389646, 0.05925926, 0.87681159,\n",
       "        0.16783217, 0.89219331, 0.71698113, 0.83443709, 0.86805556,\n",
       "        0.74654378, 0.86713287, 0.68627451, 0.08759124, 0.87455197,\n",
       "        0.83278689, 0.87544484, 0.79027356, 0.76923077, 0.84666667,\n",
       "        0.85714286, 0.88721805, 0.90298507, 0.24161074, 0.86206897,\n",
       "        0.        , 0.87912088, 0.87017544, 0.69856459, 0.88727273,\n",
       "        0.74011299, 0.86925795, 0.68932039, 0.8410596 , 0.86111111,\n",
       "        0.83387622, 0.83278689, 0.71978022, 0.62244898, 0.86925795,\n",
       "        0.82467532, 0.86111111, 0.86896552, 0.83278689, 0.79635258,\n",
       "        0.82403433, 0.81896552, 0.77477477, 0.87142857, 0.18055556,\n",
       "        0.83660131, 0.84677419, 0.12857143, 0.65989848, 0.82403433,\n",
       "        0.85714286, 0.16783217, 0.86619718, 0.80368098, 0.81410256,\n",
       "        0.84666667, 0.44705882, 0.86006826, 0.76608187, 0.88721805,\n",
       "        0.85234899, 0.80495356, 0.76363636, 0.74885845, 0.79646018,\n",
       "        0.8683274 , 0.82315113, 0.86101695, 0.82736156, 0.88549618,\n",
       "        0.88475836, 0.71584699, 0.81789137, 0.87544484, 0.87108014,\n",
       "        0.46511628, 0.89377289, 0.86315789, 0.87969925]),\n",
       " 'split3_test_score': array([0.74509804, 0.76      , 0.71698113, 0.81818182, 0.80851064,\n",
       "        0.1       , 0.9       , 0.34782609, 0.84210526, 0.87804878,\n",
       "        0.8372093 , 0.8       , 0.8372093 , 0.7826087 , 0.87804878,\n",
       "        0.8372093 , 0.87804878, 0.80851064, 0.87804878, 0.80851064,\n",
       "        0.87804878, 0.8       , 0.76470588, 0.80851064, 0.41666667,\n",
       "        0.87804878, 0.89473684, 0.72727273, 0.76470588, 0.81818182,\n",
       "        0.8372093 , 0.34782609, 0.9       , 0.41666667, 0.85714286,\n",
       "        0.81818182, 0.81818182, 0.87804878, 0.8       , 0.83333333,\n",
       "        0.87179487, 0.86363636, 0.71698113, 0.92307692, 0.82608696,\n",
       "        0.9       , 0.8372093 , 0.8372093 , 0.81818182, 0.85      ,\n",
       "        0.83333333, 0.41666667, 0.79166667, 0.85      , 0.76470588,\n",
       "        0.8372093 , 0.6875    , 0.87804878, 0.41666667, 0.87804878,\n",
       "        0.87804878, 0.85714286, 0.8372093 , 0.8372093 , 0.87804878,\n",
       "        0.34782609, 0.79166667, 0.85714286, 0.87804878, 0.9       ,\n",
       "        0.87804878, 0.87179487, 0.8372093 , 0.87804878, 0.71698113,\n",
       "        0.85714286, 0.87804878, 0.87804878, 0.8       , 0.85714286,\n",
       "        0.48      , 0.57142857, 0.87804878, 0.80851064, 0.87804878,\n",
       "        0.8372093 , 0.82608696, 0.80851064, 0.34782609, 0.34782609,\n",
       "        0.87804878, 0.8       , 0.34782609, 0.34782609, 0.81818182,\n",
       "        0.8372093 , 0.48      , 0.87804878, 0.48      ]),\n",
       " 'split3_train_score': array([0.75722543, 0.76162791, 0.74431818, 0.83783784, 0.80368098,\n",
       "        0.03007519, 0.86524823, 0.17931034, 0.82352941, 0.84827586,\n",
       "        0.83389831, 0.8089172 , 0.81848185, 0.80769231, 0.86219081,\n",
       "        0.83221477, 0.85915493, 0.80126183, 0.85915493, 0.80246914,\n",
       "        0.86120996, 0.8115016 , 0.72641509, 0.79750779, 0.31847134,\n",
       "        0.85714286, 0.83739837, 0.7255814 , 0.70813397, 0.81699346,\n",
       "        0.83221477, 0.16783217, 0.86259542, 0.41916168, 0.84067797,\n",
       "        0.81818182, 0.82200647, 0.86013986, 0.81935484, 0.80519481,\n",
       "        0.85258964, 0.81433225, 0.72375691, 0.86055777, 0.80379747,\n",
       "        0.86988848, 0.82392027, 0.84067797, 0.83006536, 0.85714286,\n",
       "        0.78947368, 0.43786982, 0.78181818, 0.86021505, 0.7047619 ,\n",
       "        0.83056478, 0.63636364, 0.87272727, 0.35220126, 0.8683274 ,\n",
       "        0.85915493, 0.83221477, 0.82352941, 0.83056478, 0.84067797,\n",
       "        0.15492958, 0.78787879, 0.83221477, 0.85512367, 0.86821705,\n",
       "        0.86219081, 0.856     , 0.83056478, 0.86013986, 0.71389646,\n",
       "        0.83221477, 0.86013986, 0.85915493, 0.81410256, 0.83501684,\n",
       "        0.42857143, 0.53038674, 0.87142857, 0.8115016 , 0.86219081,\n",
       "        0.83056478, 0.80126183, 0.79127726, 0.14184397, 0.19310345,\n",
       "        0.84067797, 0.81672026, 0.19310345, 0.26490066, 0.81935484,\n",
       "        0.82666667, 0.51396648, 0.85820896, 0.46511628]),\n",
       " 'split4_test_score': array([0.1       , 0.79166667, 0.1       , 0.85      , 0.66666667,\n",
       "        0.87179487, 0.79166667, 0.8372093 , 0.87804878, 0.46153846,\n",
       "        0.8372093 , 0.89473684, 0.1       , 0.9       , 0.79166667,\n",
       "        0.9       , 0.57142857, 0.7755102 , 0.8372093 , 0.9       ,\n",
       "        0.8372093 , 0.4       , 0.9       , 0.8372093 , 0.46153846,\n",
       "        0.84444444, 0.8372093 , 0.81818182, 0.81818182, 0.87179487,\n",
       "        0.8372093 , 0.85714286, 0.9       , 0.51851852, 0.8372093 ,\n",
       "        0.9       , 0.66666667, 0.86363636, 0.8372093 , 0.57142857,\n",
       "        0.1       , 0.89473684, 0.8372093 , 0.84210526, 0.89473684,\n",
       "        0.82608696, 0.87179487, 0.7755102 , 0.57142857, 0.85714286,\n",
       "        0.91891892, 0.81818182, 0.1       , 0.82608696, 0.87179487,\n",
       "        0.9       , 0.9       , 0.86486486, 0.85714286, 0.81818182,\n",
       "        0.85714286, 0.82352941, 0.91891892, 0.89473684, 0.70967742,\n",
       "        0.8372093 , 0.89473684, 0.9       , 0.85714286, 0.19047619,\n",
       "        0.86486486, 0.8372093 , 0.8372093 , 0.66666667, 0.87179487,\n",
       "        0.8372093 , 0.87804878, 0.85714286, 0.82352941, 0.1       ,\n",
       "        0.85714286, 0.34782609, 0.8372093 , 0.89473684, 0.84444444,\n",
       "        0.19047619, 0.8372093 , 0.78787879, 0.87179487, 0.8372093 ,\n",
       "        0.8372093 , 0.57142857, 0.84444444, 0.27272727, 0.82608696,\n",
       "        0.71698113, 0.8372093 , 0.87179487, 0.85714286]),\n",
       " 'split4_train_score': array([0.08759124, 0.75801749, 0.21768707, 0.84249084, 0.50561798,\n",
       "        0.86642599, 0.79754601, 0.83959044, 0.86120996, 0.21768707,\n",
       "        0.81848185, 0.87179487, 0.04477612, 0.87142857, 0.78443114,\n",
       "        0.85512367, 0.5       , 0.7797619 , 0.82084691, 0.85223368,\n",
       "        0.82666667, 0.26490066, 0.85512367, 0.81967213, 0.39263804,\n",
       "        0.79750779, 0.81578947, 0.83221477, 0.81410256, 0.87179487,\n",
       "        0.83501684, 0.81818182, 0.85714286, 0.5       , 0.84722222,\n",
       "        0.86111111, 0.57446809, 0.81388013, 0.82666667, 0.41212121,\n",
       "        0.10144928, 0.87179487, 0.82508251, 0.87912088, 0.875     ,\n",
       "        0.78181818, 0.86330935, 0.77514793, 0.3625    , 0.85223368,\n",
       "        0.87452471, 0.79750779, 0.10144928, 0.78899083, 0.85507246,\n",
       "        0.85915493, 0.85314685, 0.87179487, 0.82943144, 0.81528662,\n",
       "        0.848     , 0.73148148, 0.87407407, 0.86131387, 0.64321608,\n",
       "        0.84931507, 0.86764706, 0.86013986, 0.85517241, 0.18055556,\n",
       "        0.87912088, 0.81553398, 0.83056478, 0.55135135, 0.86428571,\n",
       "        0.82943144, 0.85517241, 0.72300469, 0.7255814 , 0.04477612,\n",
       "        0.84931507, 0.22972973, 0.83221477, 0.875     , 0.8       ,\n",
       "        0.19310345, 0.84067797, 0.66336634, 0.86120996, 0.81967213,\n",
       "        0.82943144, 0.4       , 0.79876161, 0.21768707, 0.7804878 ,\n",
       "        0.71389646, 0.81935484, 0.86428571, 0.84320557]),\n",
       " 'split5_test_score': array([0.71698113, 0.1       , 0.83333333, 0.19047619, 0.80851064,\n",
       "        0.74509804, 0.79166667, 0.53846154, 0.80851064, 0.76470588,\n",
       "        0.85714286, 0.71698113, 0.76      , 0.8372093 , 0.75      ,\n",
       "        0.80851064, 0.80851064, 0.48      , 0.9       , 0.71698113,\n",
       "        0.9       , 0.79166667, 0.81818182, 0.71698113, 0.82352941,\n",
       "        0.48      , 0.9       , 0.7826087 , 0.        , 0.86486486,\n",
       "        0.8       , 0.9       , 0.92307692, 0.79166667, 0.19047619,\n",
       "        0.8125    , 0.7826087 , 0.59259259, 0.9       , 0.78787879,\n",
       "        0.89473684, 0.78787879, 0.81818182, 0.7826087 , 0.76      ,\n",
       "        0.8125    , 0.9       , 0.89473684, 0.48      , 0.87804878,\n",
       "        0.7826087 , 0.9       , 0.8372093 , 0.79166667, 0.87804878,\n",
       "        0.9       , 0.7755102 , 0.81818182, 0.        , 0.8       ,\n",
       "        0.81818182, 0.86486486, 0.7755102 , 0.64285714, 0.59259259,\n",
       "        0.76595745, 0.85714286, 0.34782609, 0.9       , 0.76595745,\n",
       "        0.8372093 , 0.8       , 0.7826087 , 0.86486486, 0.9       ,\n",
       "        0.8372093 , 0.87804878, 0.88888889, 0.48      , 0.        ,\n",
       "        0.81818182, 0.82352941, 0.8125    , 0.86486486, 0.27272727,\n",
       "        0.92307692, 0.7755102 , 0.8       , 0.68965517, 0.85714286,\n",
       "        0.9       , 0.81818182, 0.9       , 0.85714286, 0.8       ,\n",
       "        0.7826087 , 0.7826087 , 0.85714286, 0.53846154]),\n",
       " 'split5_train_score': array([0.7100271 , 0.10144928, 0.8203125 , 0.38787879, 0.81410256,\n",
       "        0.77286136, 0.80634921, 0.3803681 , 0.81789137, 0.80165289,\n",
       "        0.82550336, 0.71389646, 0.77744807, 0.84641638, 0.79130435,\n",
       "        0.82084691, 0.81699346, 0.28571429, 0.85915493, 0.71195652,\n",
       "        0.86021505, 0.8089172 , 0.83783784, 0.71389646, 0.82352941,\n",
       "        0.33962264, 0.86642599, 0.82508251, 0.07352941, 0.87084871,\n",
       "        0.83443709, 0.86925795, 0.8705036 , 0.81935484, 0.12857143,\n",
       "        0.83265306, 0.83056478, 0.5483871 , 0.8683274 , 0.78070175,\n",
       "        0.87591241, 0.85020243, 0.83056478, 0.83168317, 0.78395062,\n",
       "        0.72222222, 0.86120996, 0.86446886, 0.40963855, 0.85416667,\n",
       "        0.83056478, 0.85915493, 0.84067797, 0.8115016 , 0.85416667,\n",
       "        0.86219081, 0.79268293, 0.83333333, 0.07352941, 0.87058824,\n",
       "        0.83783784, 0.87878788, 0.79384615, 0.56842105, 0.62944162,\n",
       "        0.82352941, 0.82258065, 0.19310345, 0.86120996, 0.82894737,\n",
       "        0.84067797, 0.82781457, 0.82894737, 0.87878788, 0.84137931,\n",
       "        0.84067797, 0.86315789, 0.87843137, 0.3902439 , 0.        ,\n",
       "        0.83221477, 0.82987552, 0.84647303, 0.85258964, 0.21768707,\n",
       "        0.8705036 , 0.81528662, 0.82392027, 0.60103627, 0.85121107,\n",
       "        0.86428571, 0.82943144, 0.86120996, 0.85714286, 0.83333333,\n",
       "        0.83443709, 0.83443709, 0.85512367, 0.42857143]),\n",
       " 'split6_test_score': array([0.73469388, 0.10526316, 0.8372093 , 0.81818182, 0.70588235,\n",
       "        0.70588235, 0.        , 0.81818182, 0.87804878, 0.85714286,\n",
       "        0.56      , 0.85714286, 0.875     , 0.92307692, 0.8372093 ,\n",
       "        0.92307692, 0.92307692, 0.92307692, 0.90909091, 0.10526316,\n",
       "        0.87804878, 0.92307692, 0.        , 0.97142857, 0.87804878,\n",
       "        0.56      , 0.8372093 , 0.85714286, 0.97142857, 0.94736842,\n",
       "        0.        , 0.        , 0.94444444, 0.87804878, 0.97297297,\n",
       "        1.        , 0.81818182, 0.        , 0.87804878, 0.92307692,\n",
       "        0.5       , 0.8372093 , 0.97142857, 0.85714286, 0.8372093 ,\n",
       "        0.97297297, 0.87804878, 0.36363636, 0.92307692, 0.81818182,\n",
       "        0.97142857, 0.9       , 0.85714286, 0.66666667, 0.9       ,\n",
       "        0.36363636, 0.8       , 0.94117647, 0.81818182, 0.8372093 ,\n",
       "        0.92307692, 0.28571429, 1.        , 0.97142857, 0.8372093 ,\n",
       "        0.97297297, 0.875     , 0.9       , 0.97297297, 0.97142857,\n",
       "        0.8372093 , 0.8372093 , 0.8372093 , 0.8372093 , 0.75862069,\n",
       "        0.83870968, 0.71428571, 0.85714286, 0.8372093 , 0.92307692,\n",
       "        0.8       , 0.56      , 0.8372093 , 0.81818182, 0.66666667,\n",
       "        0.87804878, 0.9       , 1.        , 0.8       , 0.92307692,\n",
       "        0.61538462, 0.8372093 , 0.8372093 , 0.43478261, 0.8372093 ,\n",
       "        0.92307692, 0.9       , 0.8372093 , 0.94117647]),\n",
       " 'split6_train_score': array([0.74157303, 0.11428571, 0.78899083, 0.76162791, 0.71544715,\n",
       "        0.71351351, 0.        , 0.80122324, 0.81699346, 0.82084691,\n",
       "        0.60824742, 0.78915663, 0.83665339, 0.84827586, 0.82467532,\n",
       "        0.82943144, 0.84536082, 0.85314685, 0.76923077, 0.16666667,\n",
       "        0.82943144, 0.85223368, 0.05882353, 0.84251969, 0.81848185,\n",
       "        0.52972973, 0.79510703, 0.82084691, 0.8358209 , 0.85815603,\n",
       "        0.16666667, 0.08695652, 0.86259542, 0.82084691, 0.85090909,\n",
       "        0.82490272, 0.78443114, 0.11428571, 0.83221477, 0.85517241,\n",
       "        0.51111111, 0.79876161, 0.85185185, 0.81967213, 0.8089172 ,\n",
       "        0.86120996, 0.81967213, 0.31847134, 0.85714286, 0.78419453,\n",
       "        0.83076923, 0.82392027, 0.81410256, 0.58947368, 0.83501684,\n",
       "        0.40718563, 0.74157303, 0.79661017, 0.78678679, 0.7962963 ,\n",
       "        0.85517241, 0.28571429, 0.85304659, 0.85608856, 0.79635258,\n",
       "        0.85      , 0.78969957, 0.84429066, 0.85090909, 0.83127572,\n",
       "        0.80124224, 0.7962963 , 0.82315113, 0.81699346, 0.73636364,\n",
       "        0.72222222, 0.66019417, 0.81578947, 0.80379747, 0.85223368,\n",
       "        0.74366197, 0.57446809, 0.82051282, 0.74576271, 0.66666667,\n",
       "        0.82119205, 0.84745763, 0.85818182, 0.7394958 , 0.85223368,\n",
       "        0.51933702, 0.82084691, 0.81672026, 0.47126437, 0.81789137,\n",
       "        0.85614035, 0.84536082, 0.78899083, 0.8       ]),\n",
       " 'split7_test_score': array([0.10526316, 0.7826087 , 0.56      , 0.91891892, 0.72      ,\n",
       "        0.8372093 , 0.7826087 , 0.        , 0.43478261, 0.        ,\n",
       "        0.8372093 , 0.        , 0.        , 0.92307692, 0.81818182,\n",
       "        0.85      , 0.81818182, 0.78787879, 0.8372093 , 0.85714286,\n",
       "        0.72      , 0.87804878, 0.8372093 , 0.8372093 , 0.8372093 ,\n",
       "        0.75      , 0.8372093 , 0.85714286, 0.85714286, 0.89473684,\n",
       "        0.85714286, 0.89473684, 0.81818182, 0.83333333, 0.81818182,\n",
       "        0.83333333, 0.81818182, 0.43478261, 0.85714286, 0.73469388,\n",
       "        0.87804878, 0.43478261, 0.85714286, 0.84210526, 0.81818182,\n",
       "        0.92307692, 0.83333333, 0.83333333, 0.85714286, 0.10526316,\n",
       "        0.84210526, 0.87804878, 0.8372093 , 0.48      , 0.81818182,\n",
       "        0.10526316, 0.41666667, 0.75      , 0.87804878, 0.92307692,\n",
       "        0.8       , 0.81818182, 0.81818182, 0.85714286, 0.8372093 ,\n",
       "        0.70588235, 0.8       , 0.86486486, 0.9       , 0.8372093 ,\n",
       "        0.83333333, 0.75      , 0.        , 0.8372093 , 0.83333333,\n",
       "        0.81818182, 0.85714286, 0.2       , 0.92307692, 0.8       ,\n",
       "        0.84210526, 0.87804878, 0.92307692, 0.85714286, 0.87804878,\n",
       "        0.87179487, 0.81818182, 0.85714286, 0.43478261, 0.28571429,\n",
       "        0.10526316, 0.81818182, 0.81818182, 0.87804878, 0.77777778,\n",
       "        0.75      , 0.9       , 0.87804878, 0.85714286]),\n",
       " 'split7_train_score': array([0.08695652, 0.79012346, 0.55614973, 0.82889734, 0.74787535,\n",
       "        0.81433225, 0.80122324, 0.05882353, 0.34782609, 0.05882353,\n",
       "        0.82666667, 0.        , 0.        , 0.86330935, 0.81935484,\n",
       "        0.86231884, 0.81818182, 0.79310345, 0.82352941, 0.84931507,\n",
       "        0.74576271, 0.85223368, 0.82119205, 0.82236842, 0.82392027,\n",
       "        0.78899083, 0.82666667, 0.8641115 , 0.84353741, 0.85925926,\n",
       "        0.84641638, 0.86764706, 0.81168831, 0.85074627, 0.81168831,\n",
       "        0.85714286, 0.81168831, 0.43529412, 0.82943144, 0.77192982,\n",
       "        0.86111111, 0.4260355 , 0.85813149, 0.88461538, 0.80769231,\n",
       "        0.87364621, 0.86166008, 0.84824903, 0.82666667, 0.11428571,\n",
       "        0.8754717 , 0.84641638, 0.82666667, 0.46242775, 0.81012658,\n",
       "        0.10071942, 0.48      , 0.76744186, 0.86315789, 0.86259542,\n",
       "        0.856     , 0.81433225, 0.81818182, 0.84931507, 0.82781457,\n",
       "        0.71544715, 0.85483871, 0.87356322, 0.86446886, 0.82666667,\n",
       "        0.84824903, 0.80686695, 0.05882353, 0.82943144, 0.83333333,\n",
       "        0.80126183, 0.84641638, 0.16666667, 0.86466165, 0.80634921,\n",
       "        0.87179487, 0.86925795, 0.86861314, 0.8641115 , 0.8641115 ,\n",
       "        0.86988848, 0.82119205, 0.85416667, 0.45614035, 0.30769231,\n",
       "        0.05882353, 0.82236842, 0.80769231, 0.86013986, 0.84462151,\n",
       "        0.7753304 , 0.87364621, 0.86619718, 0.8641115 ]),\n",
       " 'std_fit_time': array([0.02216802, 0.00994881, 0.00663098, 0.01276209, 0.01215167,\n",
       "        0.01018054, 0.01419984, 0.00894061, 0.00420901, 0.00487254,\n",
       "        0.00282677, 0.00937844, 0.00447174, 0.00685392, 0.00915077,\n",
       "        0.00597861, 0.00785507, 0.02197627, 0.01164931, 0.01793071,\n",
       "        0.00692566, 0.00556527, 0.00565505, 0.00733058, 0.06017478,\n",
       "        0.03670156, 0.03913562, 0.04911735, 0.02745014, 0.03697678,\n",
       "        0.04603073, 0.03881994, 0.0318004 , 0.06678957, 0.06944838,\n",
       "        0.11168763, 0.07371189, 0.10504391, 0.05920918, 0.10014851,\n",
       "        0.10877504, 0.08158603, 0.21221084, 0.26593142, 0.13309072,\n",
       "        0.174297  , 0.10705001, 0.06694406, 0.05613284, 0.03950662,\n",
       "        0.0300196 , 0.08302121, 0.09910177, 0.09184496, 0.06429736,\n",
       "        0.10514918, 0.09488151, 0.06170669, 0.05190432, 0.12372396,\n",
       "        0.08369137, 0.09496714, 0.07833555, 0.05050663, 0.08141161,\n",
       "        0.10308475, 0.04043439, 0.08622864, 0.08674319, 0.05002786,\n",
       "        0.0408749 , 0.07427689, 0.04497742, 0.05678138, 0.06281523,\n",
       "        0.05128681, 0.05126814, 0.05921285, 0.14324672, 0.14419472,\n",
       "        0.30799359, 0.19860938, 0.16711106, 0.1747747 , 0.12861899,\n",
       "        0.10593143, 0.13617015, 0.13314197, 0.14156572, 0.13612608,\n",
       "        0.062369  , 0.06937393, 0.02579513, 0.02658397, 0.0262565 ,\n",
       "        0.03183145, 0.02007867, 0.02198408, 0.03840119]),\n",
       " 'std_score_time': array([2.78355201e-03, 1.03873946e-02, 2.82832789e-03, 1.32408790e-03,\n",
       "        1.99833545e-03, 6.00274683e-03, 4.44146932e-03, 1.73098623e-03,\n",
       "        1.73159882e-03, 1.32264885e-03, 4.36158172e-03, 2.82759030e-03,\n",
       "        2.64767762e-03, 1.73043692e-03, 2.39704229e-03, 1.99985634e-03,\n",
       "        1.73261995e-03, 2.39748240e-03, 1.93591520e-03, 4.21274491e-03,\n",
       "        1.73258051e-03, 2.82658057e-03, 1.73220090e-03, 1.72851739e-03,\n",
       "        2.39746245e-03, 3.70685590e-03, 6.45830399e-03, 2.64535804e-03,\n",
       "        1.16443632e-02, 2.39708343e-03, 1.32236141e-03, 8.10708538e-03,\n",
       "        3.12157636e-03, 1.73501241e-03, 4.87301678e-03, 2.78390184e-03,\n",
       "        2.39683736e-03, 1.46838029e-02, 1.93565918e-03, 1.99986317e-03,\n",
       "        6.04833047e-02, 2.39740111e-03, 2.82932145e-03, 1.23284372e-02,\n",
       "        1.93588979e-03, 2.82792721e-03, 8.34719525e-03, 6.23335744e-03,\n",
       "        1.24383562e-02, 0.00000000e+00, 7.28645013e-03, 6.76628805e-03,\n",
       "        1.03549501e-02, 1.73239475e-03, 2.64523329e-03, 3.12026462e-03,\n",
       "        1.99955759e-03, 4.89793169e-03, 5.63055998e-03, 2.00054056e-03,\n",
       "        3.12117121e-03, 1.93644380e-03, 1.99955731e-03, 4.89745645e-03,\n",
       "        3.99893532e-03, 1.16487243e-02, 1.93593593e-03, 1.93649713e-03,\n",
       "        2.00003398e-03, 3.31558502e-03, 1.99976604e-03, 1.73223498e-03,\n",
       "        1.16648152e-02, 6.14389052e-03, 2.78345034e-03, 1.93808517e-03,\n",
       "        1.93631298e-03, 1.73166743e-03, 4.35812505e-03, 1.32223984e-03,\n",
       "        3.70711936e-03, 1.55444545e-02, 2.42484338e-03, 1.85340652e-03,\n",
       "        1.93539613e-03, 1.99926258e-03, 1.32459774e-03, 3.46302809e-03,\n",
       "        9.44084703e-06, 7.41437926e-03, 4.21287937e-03, 3.46309373e-03,\n",
       "        7.41465651e-03, 2.00006370e-03, 1.73195982e-03, 1.32309517e-03,\n",
       "        2.78332178e-03, 1.99980185e-03, 2.82788550e-03]),\n",
       " 'std_test_score': array([0.27291278, 0.34122971, 0.23232901, 0.21342234, 0.05211411,\n",
       "        0.31756517, 0.26389011, 0.31155811, 0.16779257, 0.32912477,\n",
       "        0.09786858, 0.2667771 , 0.32715341, 0.35471242, 0.30215534,\n",
       "        0.22046438, 0.32813241, 0.11675136, 0.25182762, 0.23563545,\n",
       "        0.32115274, 0.26372863, 0.32737158, 0.06989862, 0.20070311,\n",
       "        0.15741688, 0.04468796, 0.16228415, 0.33550038, 0.061944  ,\n",
       "        0.27056304, 0.30263756, 0.07483043, 0.15861837, 0.31008871,\n",
       "        0.07423304, 0.22865704, 0.27495704, 0.28401621, 0.09780851,\n",
       "        0.34235956, 0.13414952, 0.0761336 , 0.1519122 , 0.04462529,\n",
       "        0.26092909, 0.28436303, 0.19803737, 0.28077792, 0.23718982,\n",
       "        0.07596766, 0.26925091, 0.23716229, 0.19441831, 0.10361334,\n",
       "        0.27024034, 0.13617344, 0.06386624, 0.28586131, 0.0567638 ,\n",
       "        0.25395732, 0.18360556, 0.1286743 , 0.09176918, 0.24333017,\n",
       "        0.29474997, 0.0685885 , 0.34237797, 0.17226185, 0.22856813,\n",
       "        0.03719987, 0.22822999, 0.26562234, 0.16618343, 0.06131617,\n",
       "        0.06432247, 0.21772623, 0.21145956, 0.12428784, 0.33714077,\n",
       "        0.11247611, 0.1691668 , 0.16855822, 0.14799984, 0.1916602 ,\n",
       "        0.22877337, 0.12172919, 0.13636603, 0.24636308, 0.25235085,\n",
       "        0.24481081, 0.08157924, 0.18052271, 0.23433282, 0.23400777,\n",
       "        0.21879821, 0.12659748, 0.05917471, 0.15060023]),\n",
       " 'std_train_score': array([0.28592094, 0.32349464, 0.19104408, 0.14200513, 0.1059211 ,\n",
       "        0.33737003, 0.26708682, 0.30676949, 0.1876222 , 0.32664847,\n",
       "        0.0748342 , 0.26865351, 0.34792327, 0.33804559, 0.2624043 ,\n",
       "        0.20963348, 0.28183987, 0.17267561, 0.25672803, 0.22308084,\n",
       "        0.28888084, 0.27033196, 0.26017898, 0.03841243, 0.22049999,\n",
       "        0.17937543, 0.02321417, 0.10602065, 0.30212236, 0.02519205,\n",
       "        0.22218624, 0.31697156, 0.02891073, 0.16044524, 0.30398394,\n",
       "        0.02244354, 0.1530771 , 0.25850801, 0.22437784, 0.13907837,\n",
       "        0.34063938, 0.14292487, 0.04353962, 0.05753802, 0.03383978,\n",
       "        0.24177158, 0.26579772, 0.17453048, 0.27722084, 0.24238552,\n",
       "        0.0435621 , 0.20787765, 0.23482429, 0.1334985 , 0.07341157,\n",
       "        0.26854088, 0.13247353, 0.03775978, 0.27812421, 0.03188979,\n",
       "        0.21231763, 0.18119744, 0.03288136, 0.09749852, 0.21285779,\n",
       "        0.3287507 , 0.02970304, 0.33640584, 0.08095526, 0.21968867,\n",
       "        0.02192692, 0.23116298, 0.25935238, 0.13702702, 0.0582406 ,\n",
       "        0.0486597 , 0.14157796, 0.22372163, 0.14498637, 0.36017605,\n",
       "        0.13491569, 0.21933007, 0.17488419, 0.04752187, 0.20365895,\n",
       "        0.22884297, 0.12775327, 0.11279234, 0.26912247, 0.26777663,\n",
       "        0.27592444, 0.13384456, 0.22407149, 0.27136771, 0.2333551 ,\n",
       "        0.14837234, 0.1146174 , 0.0253544 , 0.17227657])}"
      ]
     },
     "execution_count": 19,
     "metadata": {},
     "output_type": "execute_result"
    }
   ],
   "source": [
    "clf_gs.cv_results_"
   ]
  },
  {
   "cell_type": "code",
   "execution_count": 20,
   "metadata": {},
   "outputs": [
    {
     "data": {
      "text/plain": [
       "LinearSVC(C=1.0, class_weight=None, dual=True, fit_intercept=True,\n",
       "     intercept_scaling=1, loss='squared_hinge', max_iter=3300,\n",
       "     multi_class='ovr', penalty='l2', random_state=None, tol=0.0001,\n",
       "     verbose=0)"
      ]
     },
     "execution_count": 20,
     "metadata": {},
     "output_type": "execute_result"
    },
    {
     "data": {
      "text/plain": [
       "0.8476639415373579"
      ]
     },
     "execution_count": 20,
     "metadata": {},
     "output_type": "execute_result"
    },
    {
     "data": {
      "text/plain": [
       "{'max_iter': 3300}"
      ]
     },
     "execution_count": 20,
     "metadata": {},
     "output_type": "execute_result"
    }
   ],
   "source": [
    "clf_gs.best_estimator_\n",
    "clf_gs.best_score_\n",
    "clf_gs.best_params_"
   ]
  },
  {
   "cell_type": "markdown",
   "metadata": {},
   "source": [
    "### Decision tree model for classification"
   ]
  },
  {
   "cell_type": "code",
   "execution_count": 21,
   "metadata": {
    "collapsed": true
   },
   "outputs": [],
   "source": [
    "clf = DecisionTreeClassifier(random_state=1).fit(UCI_X_train, UCI_y_train)\n",
    "pred_iris_y_test = clf.predict(UCI_X_test)"
   ]
  },
  {
   "cell_type": "code",
   "execution_count": 22,
   "metadata": {},
   "outputs": [
    {
     "data": {
      "text/plain": [
       "array([0, 1, 0, 0, 0, 0, 0, 1, 0, 0, 1, 1, 1, 1, 1, 1, 1, 0, 1, 0, 1, 0,\n",
       "       0, 1, 1, 1, 0, 1, 1, 1, 1], dtype=int64)"
      ]
     },
     "execution_count": 22,
     "metadata": {},
     "output_type": "execute_result"
    },
    {
     "data": {
      "text/plain": [
       "array([0, 1, 0, 0, 0, 0, 0, 1, 0, 1, 1, 0, 0, 0, 0, 0, 1, 0, 1, 0, 1, 0,\n",
       "       1, 1, 1, 1, 0, 1, 1, 1, 1], dtype=int64)"
      ]
     },
     "execution_count": 22,
     "metadata": {},
     "output_type": "execute_result"
    }
   ],
   "source": [
    "pred_iris_y_test\n",
    "UCI_y_test['target'].values"
   ]
  },
  {
   "cell_type": "code",
   "execution_count": 23,
   "metadata": {},
   "outputs": [
    {
     "data": {
      "text/plain": [
       "0.7741935483870968"
      ]
     },
     "execution_count": 23,
     "metadata": {},
     "output_type": "execute_result"
    },
    {
     "data": {
      "text/plain": [
       "(0.7222222222222222, 0.8666666666666667)"
      ]
     },
     "execution_count": 23,
     "metadata": {},
     "output_type": "execute_result"
    },
    {
     "data": {
      "text/plain": [
       "0.7878787878787877"
      ]
     },
     "execution_count": 23,
     "metadata": {},
     "output_type": "execute_result"
    }
   ],
   "source": [
    "accuracy_score(UCI_y_test, pred_iris_y_test)\n",
    "precision_score(UCI_y_test, pred_iris_y_test), recall_score(UCI_y_test, pred_iris_y_test)\n",
    "f1_score(UCI_y_test, pred_iris_y_test)"
   ]
  },
  {
   "cell_type": "code",
   "execution_count": 24,
   "metadata": {},
   "outputs": [
    {
     "data": {
      "text/plain": [
       "0.7953795379537953"
      ]
     },
     "execution_count": 24,
     "metadata": {},
     "output_type": "execute_result"
    }
   ],
   "source": [
    "scores_loo = cross_val_score(DecisionTreeClassifier(random_state=1), \n",
    "                         features, target, \n",
    "                         cv=LeaveOneOut())\n",
    "np.mean(scores_loo)"
   ]
  },
  {
   "cell_type": "markdown",
   "metadata": {},
   "source": [
    "### Result by F1"
   ]
  },
  {
   "cell_type": "markdown",
   "metadata": {},
   "source": [
    "KNN: 0.6842105263157895  \n",
    "Decision tree: 0.7878787878787877  \n",
    "LogReg: 0.8749999999999999  \n",
    "SVM: 0.9090909090909091  \n",
    "    \n",
    "BEST SVM"
   ]
  }
 ],
 "metadata": {
  "kernelspec": {
   "display_name": "Python 3",
   "language": "python",
   "name": "python3"
  },
  "language_info": {
   "codemirror_mode": {
    "name": "ipython",
    "version": 3
   },
   "file_extension": ".py",
   "mimetype": "text/x-python",
   "name": "python",
   "nbconvert_exporter": "python",
   "pygments_lexer": "ipython3",
   "version": "3.7.4"
  }
 },
 "nbformat": 4,
 "nbformat_minor": 2
}
