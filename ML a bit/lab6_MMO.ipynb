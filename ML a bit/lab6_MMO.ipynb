{
 "cells": [
  {
   "cell_type": "code",
   "execution_count": 1,
   "metadata": {},
   "outputs": [
    {
     "data": {
      "text/html": [
       "<style>.container { width:90% !important; }</style>"
      ],
      "text/plain": [
       "<IPython.core.display.HTML object>"
      ]
     },
     "metadata": {},
     "output_type": "display_data"
    }
   ],
   "source": [
    "from IPython.core.display import display, HTML\n",
    "display(HTML(\"<style>.container { width:90% !important; }</style>\"))\n",
    "from IPython.core.interactiveshell import InteractiveShell  #to run all statements in cell, not only the last\n",
    "InteractiveShell.ast_node_interactivity = \"all\"\n",
    "\n",
    "import warnings\n",
    "warnings.filterwarnings('ignore')\n",
    "\n",
    "from sklearn.svm import SVC, NuSVC, LinearSVC, OneClassSVM, SVR, NuSVR, LinearSVR\n",
    "from sklearn.linear_model import Ridge\n",
    "from typing import Dict, Tuple\n",
    "from IPython.display import Image\n",
    "import numpy as np\n",
    "import pandas as pd\n",
    "from sklearn.model_selection import train_test_split\n",
    "from sklearn.datasets import load_iris, load_boston\n",
    "from sklearn.neighbors import KNeighborsRegressor, KNeighborsClassifier\n",
    "from sklearn.model_selection import cross_val_score, cross_validate\n",
    "from sklearn.model_selection import KFold, RepeatedKFold, LeaveOneOut, LeavePOut, ShuffleSplit, StratifiedKFold\n",
    "from sklearn.metrics import accuracy_score, balanced_accuracy_score\n",
    "from sklearn.metrics import precision_score, recall_score, f1_score, classification_report\n",
    "from sklearn.metrics import confusion_matrix\n",
    "from sklearn.metrics import mean_absolute_error, mean_squared_error, mean_squared_log_error, median_absolute_error, r2_score \n",
    "from sklearn.metrics import roc_curve, roc_auc_score\n",
    "from sklearn.model_selection import GridSearchCV, RandomizedSearchCV\n",
    "from sklearn.model_selection import learning_curve, validation_curve\n",
    "import seaborn as sns\n",
    "import matplotlib.pyplot as plt\n",
    "%matplotlib inline \n",
    "sns.set(style=\"ticks\")\n",
    "\n",
    "from sklearn.tree import DecisionTreeClassifier, DecisionTreeRegressor\n",
    "from sklearn.ensemble import RandomForestClassifier, RandomForestRegressor\n",
    "from sklearn.ensemble import ExtraTreesClassifier, ExtraTreesRegressor\n",
    "from sklearn.ensemble import GradientBoostingClassifier, GradientBoostingRegressor\n",
    "from sklearn.ensemble import BaggingClassifier\n",
    "from sklearn.linear_model import LinearRegression\n",
    "from sklearn.tree import DecisionTreeClassifier, DecisionTreeRegressor, export_graphviz\n",
    "from sklearn.linear_model import LogisticRegression\n",
    "from xgboost import XGBClassifier\n",
    "from sklearn.metrics import average_precision_score\n",
    "from sklearn.calibration import CalibratedClassifierCV"
   ]
  },
  {
   "cell_type": "code",
   "execution_count": 2,
   "metadata": {
    "scrolled": true
   },
   "outputs": [
    {
     "data": {
      "text/html": [
       "<div>\n",
       "<style scoped>\n",
       "    .dataframe tbody tr th:only-of-type {\n",
       "        vertical-align: middle;\n",
       "    }\n",
       "\n",
       "    .dataframe tbody tr th {\n",
       "        vertical-align: top;\n",
       "    }\n",
       "\n",
       "    .dataframe thead th {\n",
       "        text-align: right;\n",
       "    }\n",
       "</style>\n",
       "<table border=\"1\" class=\"dataframe\">\n",
       "  <thead>\n",
       "    <tr style=\"text-align: right;\">\n",
       "      <th></th>\n",
       "      <th>age</th>\n",
       "      <th>sex</th>\n",
       "      <th>cp</th>\n",
       "      <th>trestbps</th>\n",
       "      <th>chol</th>\n",
       "      <th>fbs</th>\n",
       "      <th>restecg</th>\n",
       "      <th>thalach</th>\n",
       "      <th>exang</th>\n",
       "      <th>oldpeak</th>\n",
       "      <th>slope</th>\n",
       "      <th>ca</th>\n",
       "      <th>thal</th>\n",
       "      <th>target</th>\n",
       "    </tr>\n",
       "  </thead>\n",
       "  <tbody>\n",
       "    <tr>\n",
       "      <th>0</th>\n",
       "      <td>63</td>\n",
       "      <td>1</td>\n",
       "      <td>3</td>\n",
       "      <td>145</td>\n",
       "      <td>233</td>\n",
       "      <td>1</td>\n",
       "      <td>0</td>\n",
       "      <td>150</td>\n",
       "      <td>0</td>\n",
       "      <td>2.3</td>\n",
       "      <td>0</td>\n",
       "      <td>0</td>\n",
       "      <td>1</td>\n",
       "      <td>1</td>\n",
       "    </tr>\n",
       "    <tr>\n",
       "      <th>1</th>\n",
       "      <td>37</td>\n",
       "      <td>1</td>\n",
       "      <td>2</td>\n",
       "      <td>130</td>\n",
       "      <td>250</td>\n",
       "      <td>0</td>\n",
       "      <td>1</td>\n",
       "      <td>187</td>\n",
       "      <td>0</td>\n",
       "      <td>3.5</td>\n",
       "      <td>0</td>\n",
       "      <td>0</td>\n",
       "      <td>2</td>\n",
       "      <td>1</td>\n",
       "    </tr>\n",
       "    <tr>\n",
       "      <th>2</th>\n",
       "      <td>41</td>\n",
       "      <td>0</td>\n",
       "      <td>1</td>\n",
       "      <td>130</td>\n",
       "      <td>204</td>\n",
       "      <td>0</td>\n",
       "      <td>0</td>\n",
       "      <td>172</td>\n",
       "      <td>0</td>\n",
       "      <td>1.4</td>\n",
       "      <td>2</td>\n",
       "      <td>0</td>\n",
       "      <td>2</td>\n",
       "      <td>1</td>\n",
       "    </tr>\n",
       "    <tr>\n",
       "      <th>3</th>\n",
       "      <td>56</td>\n",
       "      <td>1</td>\n",
       "      <td>1</td>\n",
       "      <td>120</td>\n",
       "      <td>236</td>\n",
       "      <td>0</td>\n",
       "      <td>1</td>\n",
       "      <td>178</td>\n",
       "      <td>0</td>\n",
       "      <td>0.8</td>\n",
       "      <td>2</td>\n",
       "      <td>0</td>\n",
       "      <td>2</td>\n",
       "      <td>1</td>\n",
       "    </tr>\n",
       "    <tr>\n",
       "      <th>4</th>\n",
       "      <td>57</td>\n",
       "      <td>0</td>\n",
       "      <td>0</td>\n",
       "      <td>120</td>\n",
       "      <td>354</td>\n",
       "      <td>0</td>\n",
       "      <td>1</td>\n",
       "      <td>163</td>\n",
       "      <td>1</td>\n",
       "      <td>0.6</td>\n",
       "      <td>2</td>\n",
       "      <td>0</td>\n",
       "      <td>2</td>\n",
       "      <td>1</td>\n",
       "    </tr>\n",
       "  </tbody>\n",
       "</table>\n",
       "</div>"
      ],
      "text/plain": [
       "   age  sex  cp  trestbps  chol  fbs  restecg  thalach  exang  oldpeak  slope  \\\n",
       "0   63    1   3       145   233    1        0      150      0      2.3      0   \n",
       "1   37    1   2       130   250    0        1      187      0      3.5      0   \n",
       "2   41    0   1       130   204    0        0      172      0      1.4      2   \n",
       "3   56    1   1       120   236    0        1      178      0      0.8      2   \n",
       "4   57    0   0       120   354    0        1      163      1      0.6      2   \n",
       "\n",
       "   ca  thal  target  \n",
       "0   0     1       1  \n",
       "1   0     2       1  \n",
       "2   0     2       1  \n",
       "3   0     2       1  \n",
       "4   0     2       1  "
      ]
     },
     "execution_count": 2,
     "metadata": {},
     "output_type": "execute_result"
    },
    {
     "data": {
      "text/plain": [
       "age           int64\n",
       "sex           int64\n",
       "cp            int64\n",
       "trestbps      int64\n",
       "chol          int64\n",
       "fbs           int64\n",
       "restecg       int64\n",
       "thalach       int64\n",
       "exang         int64\n",
       "oldpeak     float64\n",
       "slope         int64\n",
       "ca            int64\n",
       "thal          int64\n",
       "target        int64\n",
       "dtype: object"
      ]
     },
     "execution_count": 2,
     "metadata": {},
     "output_type": "execute_result"
    },
    {
     "data": {
      "text/html": [
       "<div>\n",
       "<style scoped>\n",
       "    .dataframe tbody tr th:only-of-type {\n",
       "        vertical-align: middle;\n",
       "    }\n",
       "\n",
       "    .dataframe tbody tr th {\n",
       "        vertical-align: top;\n",
       "    }\n",
       "\n",
       "    .dataframe thead th {\n",
       "        text-align: right;\n",
       "    }\n",
       "</style>\n",
       "<table border=\"1\" class=\"dataframe\">\n",
       "  <thead>\n",
       "    <tr style=\"text-align: right;\">\n",
       "      <th></th>\n",
       "      <th>age</th>\n",
       "      <th>sex</th>\n",
       "      <th>cp</th>\n",
       "      <th>trestbps</th>\n",
       "      <th>chol</th>\n",
       "      <th>fbs</th>\n",
       "      <th>restecg</th>\n",
       "      <th>thalach</th>\n",
       "      <th>exang</th>\n",
       "      <th>oldpeak</th>\n",
       "      <th>slope</th>\n",
       "      <th>ca</th>\n",
       "      <th>thal</th>\n",
       "    </tr>\n",
       "  </thead>\n",
       "  <tbody>\n",
       "    <tr>\n",
       "      <th>0</th>\n",
       "      <td>63</td>\n",
       "      <td>1</td>\n",
       "      <td>3</td>\n",
       "      <td>145</td>\n",
       "      <td>233</td>\n",
       "      <td>1</td>\n",
       "      <td>0</td>\n",
       "      <td>150</td>\n",
       "      <td>0</td>\n",
       "      <td>2.3</td>\n",
       "      <td>0</td>\n",
       "      <td>0</td>\n",
       "      <td>1</td>\n",
       "    </tr>\n",
       "    <tr>\n",
       "      <th>1</th>\n",
       "      <td>37</td>\n",
       "      <td>1</td>\n",
       "      <td>2</td>\n",
       "      <td>130</td>\n",
       "      <td>250</td>\n",
       "      <td>0</td>\n",
       "      <td>1</td>\n",
       "      <td>187</td>\n",
       "      <td>0</td>\n",
       "      <td>3.5</td>\n",
       "      <td>0</td>\n",
       "      <td>0</td>\n",
       "      <td>2</td>\n",
       "    </tr>\n",
       "    <tr>\n",
       "      <th>2</th>\n",
       "      <td>41</td>\n",
       "      <td>0</td>\n",
       "      <td>1</td>\n",
       "      <td>130</td>\n",
       "      <td>204</td>\n",
       "      <td>0</td>\n",
       "      <td>0</td>\n",
       "      <td>172</td>\n",
       "      <td>0</td>\n",
       "      <td>1.4</td>\n",
       "      <td>2</td>\n",
       "      <td>0</td>\n",
       "      <td>2</td>\n",
       "    </tr>\n",
       "    <tr>\n",
       "      <th>3</th>\n",
       "      <td>56</td>\n",
       "      <td>1</td>\n",
       "      <td>1</td>\n",
       "      <td>120</td>\n",
       "      <td>236</td>\n",
       "      <td>0</td>\n",
       "      <td>1</td>\n",
       "      <td>178</td>\n",
       "      <td>0</td>\n",
       "      <td>0.8</td>\n",
       "      <td>2</td>\n",
       "      <td>0</td>\n",
       "      <td>2</td>\n",
       "    </tr>\n",
       "    <tr>\n",
       "      <th>4</th>\n",
       "      <td>57</td>\n",
       "      <td>0</td>\n",
       "      <td>0</td>\n",
       "      <td>120</td>\n",
       "      <td>354</td>\n",
       "      <td>0</td>\n",
       "      <td>1</td>\n",
       "      <td>163</td>\n",
       "      <td>1</td>\n",
       "      <td>0.6</td>\n",
       "      <td>2</td>\n",
       "      <td>0</td>\n",
       "      <td>2</td>\n",
       "    </tr>\n",
       "  </tbody>\n",
       "</table>\n",
       "</div>"
      ],
      "text/plain": [
       "   age  sex  cp  trestbps  chol  fbs  restecg  thalach  exang  oldpeak  slope  \\\n",
       "0   63    1   3       145   233    1        0      150      0      2.3      0   \n",
       "1   37    1   2       130   250    0        1      187      0      3.5      0   \n",
       "2   41    0   1       130   204    0        0      172      0      1.4      2   \n",
       "3   56    1   1       120   236    0        1      178      0      0.8      2   \n",
       "4   57    0   0       120   354    0        1      163      1      0.6      2   \n",
       "\n",
       "   ca  thal  \n",
       "0   0     1  \n",
       "1   0     2  \n",
       "2   0     2  \n",
       "3   0     2  \n",
       "4   0     2  "
      ]
     },
     "execution_count": 2,
     "metadata": {},
     "output_type": "execute_result"
    },
    {
     "data": {
      "text/plain": [
       "pandas.core.frame.DataFrame"
      ]
     },
     "execution_count": 2,
     "metadata": {},
     "output_type": "execute_result"
    },
    {
     "data": {
      "text/plain": [
       "(303, 13)"
      ]
     },
     "execution_count": 2,
     "metadata": {},
     "output_type": "execute_result"
    },
    {
     "data": {
      "text/html": [
       "<div>\n",
       "<style scoped>\n",
       "    .dataframe tbody tr th:only-of-type {\n",
       "        vertical-align: middle;\n",
       "    }\n",
       "\n",
       "    .dataframe tbody tr th {\n",
       "        vertical-align: top;\n",
       "    }\n",
       "\n",
       "    .dataframe thead th {\n",
       "        text-align: right;\n",
       "    }\n",
       "</style>\n",
       "<table border=\"1\" class=\"dataframe\">\n",
       "  <thead>\n",
       "    <tr style=\"text-align: right;\">\n",
       "      <th></th>\n",
       "      <th>target</th>\n",
       "    </tr>\n",
       "  </thead>\n",
       "  <tbody>\n",
       "    <tr>\n",
       "      <th>0</th>\n",
       "      <td>1</td>\n",
       "    </tr>\n",
       "    <tr>\n",
       "      <th>1</th>\n",
       "      <td>1</td>\n",
       "    </tr>\n",
       "    <tr>\n",
       "      <th>2</th>\n",
       "      <td>1</td>\n",
       "    </tr>\n",
       "    <tr>\n",
       "      <th>3</th>\n",
       "      <td>1</td>\n",
       "    </tr>\n",
       "    <tr>\n",
       "      <th>4</th>\n",
       "      <td>1</td>\n",
       "    </tr>\n",
       "  </tbody>\n",
       "</table>\n",
       "</div>"
      ],
      "text/plain": [
       "   target\n",
       "0       1\n",
       "1       1\n",
       "2       1\n",
       "3       1\n",
       "4       1"
      ]
     },
     "execution_count": 2,
     "metadata": {},
     "output_type": "execute_result"
    },
    {
     "data": {
      "text/plain": [
       "pandas.core.frame.DataFrame"
      ]
     },
     "execution_count": 2,
     "metadata": {},
     "output_type": "execute_result"
    },
    {
     "data": {
      "text/plain": [
       "(303, 1)"
      ]
     },
     "execution_count": 2,
     "metadata": {},
     "output_type": "execute_result"
    },
    {
     "data": {
      "text/plain": [
       "(272, 13)"
      ]
     },
     "execution_count": 2,
     "metadata": {},
     "output_type": "execute_result"
    },
    {
     "data": {
      "text/plain": [
       "(31, 13)"
      ]
     },
     "execution_count": 2,
     "metadata": {},
     "output_type": "execute_result"
    },
    {
     "data": {
      "text/plain": [
       "(272, 1)"
      ]
     },
     "execution_count": 2,
     "metadata": {},
     "output_type": "execute_result"
    },
    {
     "data": {
      "text/plain": [
       "(31, 1)"
      ]
     },
     "execution_count": 2,
     "metadata": {},
     "output_type": "execute_result"
    },
    {
     "data": {
      "text/plain": [
       "pandas.core.frame.DataFrame"
      ]
     },
     "execution_count": 2,
     "metadata": {},
     "output_type": "execute_result"
    }
   ],
   "source": [
    "data = pd.read_csv('heart.csv', sep=\",\")\n",
    "data.head(5)\n",
    "data.dtypes\n",
    "\n",
    "features = data.drop(['target'], axis=1)\n",
    "target_tmp = data['target']\n",
    "\n",
    "target = pd.DataFrame({'target':target_tmp.index, 'target':target_tmp.values})\n",
    "\n",
    "features.head(5)\n",
    "type(features)\n",
    "features.shape\n",
    "target.head(5)\n",
    "type(target)\n",
    "target.shape\n",
    "\n",
    "UCI_X_train, UCI_X_test, UCI_y_train, UCI_y_test = train_test_split(features, target, test_size=0.1, random_state=1)\n",
    "UCI_X_train.shape\n",
    "UCI_X_test.shape\n",
    "UCI_y_train.shape\n",
    "UCI_y_test.shape\n",
    "\n",
    "type(UCI_X_train)"
   ]
  },
  {
   "cell_type": "markdown",
   "metadata": {},
   "source": [
    "### Random forest"
   ]
  },
  {
   "cell_type": "code",
   "execution_count": 3,
   "metadata": {},
   "outputs": [
    {
     "data": {
      "text/plain": [
       "array([0, 1, 0, 0, 0, 0, 0, 1, 0, 1, 1, 0, 1, 0, 0, 1, 1, 0, 1, 1, 1, 0,\n",
       "       0, 0, 1, 1, 0, 1, 1, 1, 1], dtype=int64)"
      ]
     },
     "execution_count": 3,
     "metadata": {},
     "output_type": "execute_result"
    },
    {
     "data": {
      "text/plain": [
       "array([0, 1, 0, 0, 0, 0, 0, 1, 0, 1, 1, 0, 0, 0, 0, 0, 1, 0, 1, 0, 1, 0,\n",
       "       1, 1, 1, 1, 0, 1, 1, 1, 1], dtype=int64)"
      ]
     },
     "execution_count": 3,
     "metadata": {},
     "output_type": "execute_result"
    }
   ],
   "source": [
    "cl1 = RandomForestClassifier(random_state=1).fit(UCI_X_train, UCI_y_train)\n",
    "\n",
    "pred_iris_y_test = cl1.predict(UCI_X_test)\n",
    "pred_iris_y_test\n",
    "UCI_y_test['target'].values"
   ]
  },
  {
   "cell_type": "code",
   "execution_count": 4,
   "metadata": {},
   "outputs": [
    {
     "data": {
      "text/plain": [
       "0.8387096774193549"
      ]
     },
     "execution_count": 4,
     "metadata": {},
     "output_type": "execute_result"
    },
    {
     "data": {
      "text/plain": [
       "(0.8125, 0.8666666666666667)"
      ]
     },
     "execution_count": 4,
     "metadata": {},
     "output_type": "execute_result"
    },
    {
     "data": {
      "text/plain": [
       "0.8387096774193549"
      ]
     },
     "execution_count": 4,
     "metadata": {},
     "output_type": "execute_result"
    }
   ],
   "source": [
    "accuracy_score(UCI_y_test, pred_iris_y_test)\n",
    "precision_score(UCI_y_test, pred_iris_y_test), recall_score(UCI_y_test, pred_iris_y_test)\n",
    "f1_score(UCI_y_test, pred_iris_y_test)"
   ]
  },
  {
   "cell_type": "code",
   "execution_count": 5,
   "metadata": {},
   "outputs": [
    {
     "data": {
      "text/plain": [
       "0.801980198019802"
      ]
     },
     "execution_count": 5,
     "metadata": {},
     "output_type": "execute_result"
    }
   ],
   "source": [
    "scores_loo = cross_val_score(RandomForestClassifier(random_state=1), \n",
    "                         features, target, \n",
    "                         cv=LeaveOneOut())\n",
    "np.mean(scores_loo)"
   ]
  },
  {
   "cell_type": "markdown",
   "metadata": {},
   "source": [
    "### Gradient boosting"
   ]
  },
  {
   "cell_type": "code",
   "execution_count": 6,
   "metadata": {},
   "outputs": [
    {
     "data": {
      "text/plain": [
       "array([0, 1, 0, 0, 0, 0, 0, 1, 0, 1, 0, 1, 1, 0, 0, 1, 1, 0, 1, 0, 1, 0,\n",
       "       1, 1, 1, 1, 0, 1, 1, 1, 1], dtype=int64)"
      ]
     },
     "execution_count": 6,
     "metadata": {},
     "output_type": "execute_result"
    },
    {
     "data": {
      "text/plain": [
       "array([0, 1, 0, 0, 0, 0, 0, 1, 0, 1, 1, 0, 0, 0, 0, 0, 1, 0, 1, 0, 1, 0,\n",
       "       1, 1, 1, 1, 0, 1, 1, 1, 1], dtype=int64)"
      ]
     },
     "execution_count": 6,
     "metadata": {},
     "output_type": "execute_result"
    }
   ],
   "source": [
    "cl1 = GradientBoostingClassifier(random_state=1).fit(UCI_X_train, UCI_y_train)\n",
    "\n",
    "pred_iris_y_test = cl1.predict(UCI_X_test)\n",
    "pred_iris_y_test\n",
    "UCI_y_test['target'].values"
   ]
  },
  {
   "cell_type": "code",
   "execution_count": 7,
   "metadata": {},
   "outputs": [
    {
     "data": {
      "text/plain": [
       "0.8709677419354839"
      ]
     },
     "execution_count": 7,
     "metadata": {},
     "output_type": "execute_result"
    },
    {
     "data": {
      "text/plain": [
       "(0.8235294117647058, 0.9333333333333333)"
      ]
     },
     "execution_count": 7,
     "metadata": {},
     "output_type": "execute_result"
    },
    {
     "data": {
      "text/plain": [
       "0.8749999999999999"
      ]
     },
     "execution_count": 7,
     "metadata": {},
     "output_type": "execute_result"
    }
   ],
   "source": [
    "accuracy_score(UCI_y_test, pred_iris_y_test)\n",
    "precision_score(UCI_y_test, pred_iris_y_test), recall_score(UCI_y_test, pred_iris_y_test)\n",
    "f1_score(UCI_y_test, pred_iris_y_test)"
   ]
  },
  {
   "cell_type": "code",
   "execution_count": 8,
   "metadata": {},
   "outputs": [
    {
     "data": {
      "text/plain": [
       "0.7684946236559139"
      ]
     },
     "execution_count": 8,
     "metadata": {},
     "output_type": "execute_result"
    }
   ],
   "source": [
    "scores_loo = cross_val_score(GradientBoostingClassifier(random_state=1), \n",
    "                         features, target, \n",
    "                         cv=KFold(n_splits=10))\n",
    "np.mean(scores_loo)"
   ]
  },
  {
   "cell_type": "markdown",
   "metadata": {},
   "source": [
    "#### Some grid search for grad boost"
   ]
  },
  {
   "cell_type": "code",
   "execution_count": 9,
   "metadata": {},
   "outputs": [
    {
     "data": {
      "text/plain": [
       "[{'learning_rate': array([0.01, 0.02, 0.03, 0.04, 0.05, 0.06, 0.07, 0.08, 0.09, 0.1 , 0.11,\n",
       "         0.12, 0.13, 0.14, 0.15, 0.16, 0.17, 0.18, 0.19])}]"
      ]
     },
     "execution_count": 9,
     "metadata": {},
     "output_type": "execute_result"
    }
   ],
   "source": [
    "n_range = np.array([x / 100.0 for x in range(1, 20, 1)])\n",
    "tuned_parameters = [{'learning_rate': n_range}]\n",
    "tuned_parameters"
   ]
  },
  {
   "cell_type": "code",
   "execution_count": 10,
   "metadata": {},
   "outputs": [
    {
     "name": "stdout",
     "output_type": "stream",
     "text": [
      "Fitting 8 folds for each of 19 candidates, totalling 152 fits\n"
     ]
    },
    {
     "name": "stderr",
     "output_type": "stream",
     "text": [
      "[Parallel(n_jobs=-1)]: Using backend LokyBackend with 4 concurrent workers.\n",
      "[Parallel(n_jobs=-1)]: Done  42 tasks      | elapsed:   12.3s\n",
      "[Parallel(n_jobs=-1)]: Done 152 out of 152 | elapsed:   16.3s finished\n",
      "C:\\Users\\bulat\\AppData\\Roaming\\Python\\Python36\\site-packages\\sklearn\\model_selection\\_search.py:841: DeprecationWarning: The default of the `iid` parameter will change from True to False in version 0.22 and will be removed in 0.24. This will change numeric results when test-set sizes are unequal.\n",
      "  DeprecationWarning)\n"
     ]
    },
    {
     "data": {
      "text/plain": [
       "GridSearchCV(cv=8, error_score='raise-deprecating',\n",
       "       estimator=GradientBoostingClassifier(criterion='friedman_mse', init=None,\n",
       "              learning_rate=0.1, loss='deviance', max_depth=3,\n",
       "              max_features=None, max_leaf_nodes=None,\n",
       "              min_impurity_decrease=0.0, min_impurity_split=None,\n",
       "              min_samples_leaf=1, min_sampl...      subsample=1.0, tol=0.0001, validation_fraction=0.1,\n",
       "              verbose=0, warm_start=False),\n",
       "       fit_params=None, iid='warn', n_jobs=-1,\n",
       "       param_grid=[{'learning_rate': array([0.01, 0.02, 0.03, 0.04, 0.05, 0.06, 0.07, 0.08, 0.09, 0.1 , 0.11,\n",
       "       0.12, 0.13, 0.14, 0.15, 0.16, 0.17, 0.18, 0.19])}],\n",
       "       pre_dispatch='2*n_jobs', refit=True, return_train_score='warn',\n",
       "       scoring='f1', verbose=1)"
      ]
     },
     "execution_count": 10,
     "metadata": {},
     "output_type": "execute_result"
    }
   ],
   "source": [
    "clf_gs = GridSearchCV(GradientBoostingClassifier(n_estimators=2), tuned_parameters, cv=8, scoring='f1', verbose=1, n_jobs=-1)\n",
    "clf_gs.fit(UCI_X_train, UCI_y_train)"
   ]
  },
  {
   "cell_type": "code",
   "execution_count": 11,
   "metadata": {},
   "outputs": [
    {
     "data": {
      "text/plain": [
       "{'mean_fit_time': array([0.15646115, 0.1834529 , 0.11047724, 0.09497651, 0.15895924,\n",
       "        0.23244259, 0.12047014, 0.16445974, 0.0864791 , 0.14196619,\n",
       "        0.13046733, 0.16845867, 0.09747186, 0.13096517, 0.10297269,\n",
       "        0.13146472, 0.05798542, 0.12646854, 0.13796413]),\n",
       " 'mean_score_time': array([0.0059976 , 0.00299919, 0.00449562, 0.00449941, 0.0039992 ,\n",
       "        0.00449777, 0.00399858, 0.00400004, 0.00400162, 0.00449669,\n",
       "        0.00349981, 0.00449789, 0.00349969, 0.00299889, 0.00350013,\n",
       "        0.00450051, 0.00399962, 0.00249869, 0.003001  ]),\n",
       " 'mean_test_score': array([0.71087106, 0.71087106, 0.71087106, 0.71087106, 0.75143179,\n",
       "        0.80313848, 0.80633264, 0.81722788, 0.8419614 , 0.85216738,\n",
       "        0.85216738, 0.85215687, 0.85215687, 0.84878872, 0.84617548,\n",
       "        0.84617548, 0.84349524, 0.84349524, 0.84610848]),\n",
       " 'mean_train_score': array([0.71090025, 0.71090025, 0.71090025, 0.71090025, 0.77106565,\n",
       "        0.82354159, 0.83648493, 0.8512899 , 0.8660246 , 0.87065012,\n",
       "        0.87376178, 0.87491692, 0.87353862, 0.87333273, 0.87382194,\n",
       "        0.87399492, 0.87638949, 0.87717394, 0.87527248]),\n",
       " 'param_learning_rate': masked_array(data=[0.01, 0.02, 0.03, 0.04, 0.05, 0.06, 0.07, 0.08, 0.09,\n",
       "                    0.1, 0.11, 0.12, 0.13, 0.14, 0.15, 0.16, 0.17, 0.18,\n",
       "                    0.19],\n",
       "              mask=[False, False, False, False, False, False, False, False,\n",
       "                    False, False, False, False, False, False, False, False,\n",
       "                    False, False, False],\n",
       "        fill_value='?',\n",
       "             dtype=object),\n",
       " 'params': [{'learning_rate': 0.01},\n",
       "  {'learning_rate': 0.02},\n",
       "  {'learning_rate': 0.03},\n",
       "  {'learning_rate': 0.04},\n",
       "  {'learning_rate': 0.05},\n",
       "  {'learning_rate': 0.06},\n",
       "  {'learning_rate': 0.07},\n",
       "  {'learning_rate': 0.08},\n",
       "  {'learning_rate': 0.09},\n",
       "  {'learning_rate': 0.1},\n",
       "  {'learning_rate': 0.11},\n",
       "  {'learning_rate': 0.12},\n",
       "  {'learning_rate': 0.13},\n",
       "  {'learning_rate': 0.14},\n",
       "  {'learning_rate': 0.15},\n",
       "  {'learning_rate': 0.16},\n",
       "  {'learning_rate': 0.17},\n",
       "  {'learning_rate': 0.18},\n",
       "  {'learning_rate': 0.19}],\n",
       " 'rank_test_score': array([16, 16, 16, 16, 15, 14, 13, 12, 11,  1,  1,  3,  3,  5,  6,  6,  9,\n",
       "         9,  8]),\n",
       " 'split0_test_score': array([0.7037037 , 0.7037037 , 0.7037037 , 0.7037037 , 0.7037037 ,\n",
       "        0.7826087 , 0.79069767, 0.77272727, 0.79069767, 0.77272727,\n",
       "        0.77272727, 0.79069767, 0.79069767, 0.77272727, 0.77272727,\n",
       "        0.77272727, 0.77272727, 0.77272727, 0.77272727]),\n",
       " 'split0_train_score': array([0.71195652, 0.71195652, 0.71195652, 0.71195652, 0.71389646,\n",
       "        0.83225806, 0.87671233, 0.87671233, 0.88581315, 0.88581315,\n",
       "        0.90459364, 0.9       , 0.9       , 0.9       , 0.9       ,\n",
       "        0.9       , 0.9       , 0.9       , 0.89361702]),\n",
       " 'split1_test_score': array([0.7037037 , 0.7037037 , 0.7037037 , 0.7037037 , 0.8       ,\n",
       "        0.8       , 0.8       , 0.8       , 0.8372093 , 0.87804878,\n",
       "        0.87804878, 0.87804878, 0.87804878, 0.87804878, 0.87804878,\n",
       "        0.87804878, 0.87804878, 0.87804878, 0.87804878]),\n",
       " 'split1_train_score': array([0.71195652, 0.71195652, 0.71195652, 0.71195652, 0.82389937,\n",
       "        0.82389937, 0.82389937, 0.82389937, 0.85148515, 0.87108014,\n",
       "        0.87719298, 0.88194444, 0.88194444, 0.87719298, 0.87719298,\n",
       "        0.87719298, 0.87719298, 0.87719298, 0.87719298]),\n",
       " 'split2_test_score': array([0.71698113, 0.71698113, 0.71698113, 0.71698113, 0.7826087 ,\n",
       "        0.7826087 , 0.7804878 , 0.7804878 , 0.7804878 , 0.7804878 ,\n",
       "        0.7804878 , 0.76190476, 0.76190476, 0.76190476, 0.76190476,\n",
       "        0.76190476, 0.73170732, 0.73170732, 0.73170732]),\n",
       " 'split2_train_score': array([0.7100271 , 0.7100271 , 0.7100271 , 0.7100271 , 0.82958199,\n",
       "        0.82958199, 0.86597938, 0.86597938, 0.86896552, 0.86896552,\n",
       "        0.86896552, 0.87804878, 0.87804878, 0.87804878, 0.87804878,\n",
       "        0.87943262, 0.88888889, 0.88888889, 0.88888889]),\n",
       " 'split3_test_score': array([0.71698113, 0.71698113, 0.71698113, 0.71698113, 0.71698113,\n",
       "        0.86363636, 0.86363636, 0.88372093, 0.88372093, 0.88372093,\n",
       "        0.88372093, 0.88372093, 0.88372093, 0.9047619 , 0.9047619 ,\n",
       "        0.9047619 , 0.9047619 , 0.9047619 , 0.9047619 ]),\n",
       " 'split3_train_score': array([0.7100271 , 0.7100271 , 0.7100271 , 0.7100271 , 0.72375691,\n",
       "        0.83660131, 0.83660131, 0.87234043, 0.87234043, 0.87234043,\n",
       "        0.87234043, 0.87234043, 0.87234043, 0.87544484, 0.87544484,\n",
       "        0.87544484, 0.87544484, 0.88172043, 0.87681159]),\n",
       " 'split4_test_score': array([0.71698113, 0.71698113, 0.71698113, 0.71698113, 0.81818182,\n",
       "        0.81818182, 0.81818182, 0.85      , 0.87804878, 0.87804878,\n",
       "        0.87804878, 0.87804878, 0.87804878, 0.87804878, 0.85714286,\n",
       "        0.85714286, 0.85714286, 0.85714286, 0.87804878]),\n",
       " 'split4_train_score': array([0.7100271 , 0.7100271 , 0.7100271 , 0.7100271 , 0.82802548,\n",
       "        0.82802548, 0.82802548, 0.86006826, 0.87108014, 0.87108014,\n",
       "        0.87108014, 0.87108014, 0.8650519 , 0.8650519 , 0.86896552,\n",
       "        0.86896552, 0.875     , 0.875     , 0.87108014]),\n",
       " 'split5_test_score': array([0.71698113, 0.71698113, 0.71698113, 0.71698113, 0.7755102 ,\n",
       "        0.7755102 , 0.7755102 , 0.82926829, 0.85      , 0.85      ,\n",
       "        0.85      , 0.85      , 0.85      , 0.82051282, 0.82051282,\n",
       "        0.82051282, 0.82926829, 0.82926829, 0.82926829]),\n",
       " 'split5_train_score': array([0.7100271 , 0.7100271 , 0.7100271 , 0.7100271 , 0.8125    ,\n",
       "        0.8125    , 0.8125    , 0.86315789, 0.86619718, 0.86619718,\n",
       "        0.86619718, 0.86619718, 0.86619718, 0.86619718, 0.86619718,\n",
       "        0.86619718, 0.86986301, 0.86986301, 0.86986301]),\n",
       " 'split6_test_score': array([0.70588235, 0.70588235, 0.70588235, 0.70588235, 0.70588235,\n",
       "        0.8372093 , 0.85714286, 0.85714286, 0.9       , 0.9       ,\n",
       "        0.9       , 0.9       , 0.9       , 0.9       , 0.9       ,\n",
       "        0.9       , 0.9       , 0.9       , 0.9       ]),\n",
       " 'split6_train_score': array([0.7115903 , 0.7115903 , 0.7115903 , 0.7115903 , 0.7115903 ,\n",
       "        0.79635258, 0.81904762, 0.81904762, 0.85517241, 0.85517241,\n",
       "        0.85517241, 0.85517241, 0.85017422, 0.85017422, 0.85017422,\n",
       "        0.85017422, 0.85017422, 0.85017422, 0.85017422]),\n",
       " 'split7_test_score': array([0.70588235, 0.70588235, 0.70588235, 0.70588235, 0.70588235,\n",
       "        0.76595745, 0.76595745, 0.76595745, 0.81818182, 0.87804878,\n",
       "        0.87804878, 0.87804878, 0.87804878, 0.87804878, 0.87804878,\n",
       "        0.87804878, 0.87804878, 0.87804878, 0.87804878]),\n",
       " 'split7_train_score': array([0.7115903 , 0.7115903 , 0.7115903 , 0.7115903 , 0.72527473,\n",
       "        0.82911392, 0.82911392, 0.82911392, 0.85714286, 0.87455197,\n",
       "        0.87455197, 0.87455197, 0.87455197, 0.87455197, 0.87455197,\n",
       "        0.87455197, 0.87455197, 0.87455197, 0.87455197]),\n",
       " 'std_fit_time': array([0.13591371, 0.11181988, 0.11082428, 0.04438629, 0.10726154,\n",
       "        0.2375396 , 0.11507777, 0.13081331, 0.04806444, 0.08849783,\n",
       "        0.08768025, 0.21886316, 0.18037637, 0.13411361, 0.11464931,\n",
       "        0.14344074, 0.04550797, 0.06021667, 0.11526137]),\n",
       " 'std_score_time': array([1.99931983e-03, 1.73158288e-03, 1.32363500e-03, 1.32225508e-03,\n",
       "        1.95313244e-06, 1.32395515e-03, 1.99956015e-03, 2.00392365e-03,\n",
       "        1.99963318e-03, 3.12290658e-03, 1.32280388e-03, 2.39662472e-03,\n",
       "        1.32275889e-03, 1.73141054e-03, 2.39787276e-03, 3.12160567e-03,\n",
       "        2.72344965e-06, 1.93547645e-03, 2.64750879e-03]),\n",
       " 'std_test_score': array([0.00615839, 0.00615839, 0.00615839, 0.00615839, 0.04471418,\n",
       "        0.03159024, 0.03432014, 0.04097547, 0.04098251, 0.0459141 ,\n",
       "        0.0459141 , 0.04645903, 0.04645903, 0.0530928 , 0.05209339,\n",
       "        0.05209339, 0.05839626, 0.05839626, 0.05940754]),\n",
       " 'std_train_score': array([0.0008827 , 0.0008827 , 0.0008827 , 0.0008827 , 0.05281732,\n",
       "        0.01222427, 0.0213653 , 0.02180795, 0.01045086, 0.00798901,\n",
       "        0.01321932, 0.01212295, 0.0135346 , 0.0132761 , 0.01303181,\n",
       "        0.01309579, 0.01346464, 0.01356915, 0.01227429])}"
      ]
     },
     "execution_count": 11,
     "metadata": {},
     "output_type": "execute_result"
    }
   ],
   "source": [
    "clf_gs.cv_results_"
   ]
  },
  {
   "cell_type": "code",
   "execution_count": 12,
   "metadata": {},
   "outputs": [
    {
     "data": {
      "text/plain": [
       "GradientBoostingClassifier(criterion='friedman_mse', init=None,\n",
       "              learning_rate=0.1, loss='deviance', max_depth=3,\n",
       "              max_features=None, max_leaf_nodes=None,\n",
       "              min_impurity_decrease=0.0, min_impurity_split=None,\n",
       "              min_samples_leaf=1, min_samples_split=2,\n",
       "              min_weight_fraction_leaf=0.0, n_estimators=2,\n",
       "              n_iter_no_change=None, presort='auto', random_state=None,\n",
       "              subsample=1.0, tol=0.0001, validation_fraction=0.1,\n",
       "              verbose=0, warm_start=False)"
      ]
     },
     "execution_count": 12,
     "metadata": {},
     "output_type": "execute_result"
    },
    {
     "data": {
      "text/plain": [
       "0.8521673792241591"
      ]
     },
     "execution_count": 12,
     "metadata": {},
     "output_type": "execute_result"
    },
    {
     "data": {
      "text/plain": [
       "{'learning_rate': 0.1}"
      ]
     },
     "execution_count": 12,
     "metadata": {},
     "output_type": "execute_result"
    }
   ],
   "source": [
    "clf_gs.best_estimator_\n",
    "clf_gs.best_score_\n",
    "clf_gs.best_params_"
   ]
  },
  {
   "cell_type": "markdown",
   "metadata": {},
   "source": [
    "### Stacking"
   ]
  },
  {
   "cell_type": "code",
   "execution_count": 13,
   "metadata": {
    "collapsed": true
   },
   "outputs": [],
   "source": [
    "from heamy.estimator import Regressor, Classifier\n",
    "from heamy.pipeline import ModelsPipeline\n",
    "from heamy.dataset import Dataset"
   ]
  },
  {
   "cell_type": "code",
   "execution_count": 14,
   "metadata": {
    "collapsed": true
   },
   "outputs": [],
   "source": [
    "def val_mae(model):\n",
    "    model.fit(UCI_X_train, UCI_y_train)\n",
    "    pred_iris_y_test = model.predict(UCI_X_test)\n",
    "    result = average_precision_score(UCI_y_test, pred_iris_y_test)\n",
    "    print(model)\n",
    "    print('average_precision_score={}'.format(result))"
   ]
  },
  {
   "cell_type": "code",
   "execution_count": 15,
   "metadata": {},
   "outputs": [
    {
     "name": "stdout",
     "output_type": "stream",
     "text": [
      "LogisticRegression(C=1.0, class_weight=None, dual=False, fit_intercept=True,\n",
      "          intercept_scaling=1, max_iter=100, multi_class='warn',\n",
      "          n_jobs=None, penalty='l2', random_state=None, solver='warn',\n",
      "          tol=0.0001, verbose=0, warm_start=False)\n",
      "average_precision_score=0.8008855154965211\n",
      "SVC(C=1.0, cache_size=200, class_weight=None, coef0=0.0,\n",
      "  decision_function_shape='ovr', degree=3, gamma='auto_deprecated',\n",
      "  kernel='rbf', max_iter=-1, probability=False, random_state=None,\n",
      "  shrinking=True, tol=0.001, verbose=False)\n",
      "average_precision_score=0.4838709677419355\n",
      "XGBClassifier(base_score=0.5, booster='gbtree', colsample_bylevel=1,\n",
      "       colsample_bytree=1, gamma=0, learning_rate=0.1, max_delta_step=0,\n",
      "       max_depth=3, min_child_weight=1, missing=None, n_estimators=100,\n",
      "       n_jobs=1, nthread=None, objective='binary:logistic', random_state=0,\n",
      "       reg_alpha=0, reg_lambda=1, scale_pos_weight=1, seed=None,\n",
      "       silent=True, subsample=1)\n",
      "average_precision_score=0.8489247311827957\n",
      "RandomForestClassifier(bootstrap=True, class_weight=None, criterion='gini',\n",
      "            max_depth=None, max_features='auto', max_leaf_nodes=None,\n",
      "            min_impurity_decrease=0.0, min_impurity_split=None,\n",
      "            min_samples_leaf=1, min_samples_split=2,\n",
      "            min_weight_fraction_leaf=0.0, n_estimators=10, n_jobs=None,\n",
      "            oob_score=False, random_state=None, verbose=0,\n",
      "            warm_start=False)\n",
      "average_precision_score=0.8333333333333334\n"
     ]
    }
   ],
   "source": [
    "val_mae(LogisticRegression())\n",
    "val_mae(SVC())\n",
    "val_mae(XGBClassifier())\n",
    "val_mae(RandomForestClassifier())"
   ]
  },
  {
   "cell_type": "code",
   "execution_count": 16,
   "metadata": {
    "collapsed": true,
    "scrolled": true
   },
   "outputs": [],
   "source": [
    "# набор данных\n",
    "dataset = Dataset(UCI_X_train, UCI_y_train, UCI_X_test)\n",
    "\n",
    "# модели первого уровня\n",
    "model_1 = Classifier(dataset=dataset, estimator=LogisticRegression, name='log_reg')\n",
    "model_2 = Classifier(dataset=dataset, estimator=SVC, parameters={'probability': True}, name='svm')\n",
    "model_3 = Classifier(dataset=dataset, estimator=XGBClassifier,name='xgb')\n",
    "model_4 = Classifier(dataset=dataset, estimator=RandomForestClassifier,name='rf')"
   ]
  },
  {
   "cell_type": "code",
   "execution_count": 17,
   "metadata": {},
   "outputs": [
    {
     "name": "stdout",
     "output_type": "stream",
     "text": [
      "Metric: average_precision_score\n",
      "Folds accuracy: [0.9846415489272631, 0.8739283978835064, 0.9595394801277154, 0.8949456101697317, 0.9626696832579186, 0.9742002063983488, 0.8532975058710354, 0.88369559561815, 0.9723622782446312, 0.8359925788497217]\n",
      "Mean accuracy: 0.9195272885348021\n",
      "Standard Deviation: 0.05367926273835042\n",
      "Variance: 0.002881463248132856\n"
     ]
    }
   ],
   "source": [
    "# Stacking трех моделей\n",
    "pipeline = ModelsPipeline(model_1, model_2, model_3, model_4)\n",
    "stack_ds = pipeline.stack(k=10, seed=1)\n",
    "\n",
    "# модель второго уровня\n",
    "stacker = Classifier(dataset=stack_ds, estimator=LogisticRegression)\n",
    "results = stacker.validate(k=10,scorer=average_precision_score)"
   ]
  },
  {
   "cell_type": "code",
   "execution_count": 18,
   "metadata": {},
   "outputs": [
    {
     "name": "stdout",
     "output_type": "stream",
     "text": [
      "Metric: average_precision_score\n",
      "Folds accuracy: [0.9846415489272631, 0.8679760169311255, 0.952132072720308, 0.8984158241662614, 0.9626696832579186, 0.9859649122807017, 0.8592190016103062, 0.8960885468697969, 0.9757936507936508, 0.8343259121830551]\n",
      "Mean accuracy: 0.9217227169740386\n",
      "Standard Deviation: 0.054078492525025\n",
      "Variance: 0.002924483353779185\n"
     ]
    }
   ],
   "source": [
    "# Stacking трех моделей\n",
    "pipeline = ModelsPipeline(model_1, model_4)\n",
    "stack_ds = pipeline.stack(k=10, seed=1)\n",
    "\n",
    "# модель второго уровня\n",
    "stacker = Classifier(dataset=stack_ds, estimator=LogisticRegression)\n",
    "results = stacker.validate(k=10,scorer=average_precision_score)"
   ]
  },
  {
   "cell_type": "markdown",
   "metadata": {},
   "source": [
    "### Result by Precision"
   ]
  },
  {
   "cell_type": "markdown",
   "metadata": {},
   "source": [
    "Random forest: 0.8125\n",
    "Gradient boosting: 0.8235  \n",
    "Stacking: 0.9217  \n",
    "    \n",
    "BEST Stacking"
   ]
  }
 ],
 "metadata": {
  "kernelspec": {
   "display_name": "Python 3",
   "language": "python",
   "name": "python3"
  },
  "language_info": {
   "codemirror_mode": {
    "name": "ipython",
    "version": 3
   },
   "file_extension": ".py",
   "mimetype": "text/x-python",
   "name": "python",
   "nbconvert_exporter": "python",
   "pygments_lexer": "ipython3",
   "version": "3.7.3"
  }
 },
 "nbformat": 4,
 "nbformat_minor": 2
}
