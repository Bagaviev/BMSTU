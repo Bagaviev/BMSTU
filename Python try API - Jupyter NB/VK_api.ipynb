{
 "cells": [
  {
   "cell_type": "code",
   "execution_count": 1,
   "metadata": {},
   "outputs": [
    {
     "data": {
      "text/html": [
       "<style>.container { width:90% !important; }</style>"
      ],
      "text/plain": [
       "<IPython.core.display.HTML object>"
      ]
     },
     "metadata": {},
     "output_type": "display_data"
    }
   ],
   "source": [
    "from IPython.core.display import display, HTML\n",
    "display(HTML(\"<style>.container { width:90% !important; }</style>\"))\n",
    "from IPython.core.interactiveshell import InteractiveShell  #to run all statements in cell, not only the last\n",
    "InteractiveShell.ast_node_interactivity = \"all\"\n",
    "\n",
    "import warnings\n",
    "warnings.filterwarnings('ignore')"
   ]
  },
  {
   "cell_type": "markdown",
   "metadata": {},
   "source": [
    "### Пример 1 библиотека vk"
   ]
  },
  {
   "cell_type": "code",
   "execution_count": 4,
   "metadata": {},
   "outputs": [],
   "source": [
    "access_token = ''\n",
    "v = '5.95'\n",
    "keyword_city = \"Балашиха\"\n",
    "keywords_groups = ['ремонт', 'потолки', 'мебель', 'двери']"
   ]
  },
  {
   "cell_type": "code",
   "execution_count": 5,
   "metadata": {},
   "outputs": [],
   "source": [
    "import vk\n",
    "session = vk.Session(access_token=access_token)\n",
    "api = vk.API(session, v=v)"
   ]
  },
  {
   "cell_type": "code",
   "execution_count": 6,
   "metadata": {},
   "outputs": [
    {
     "data": {
      "text/plain": [
       "[{'id': 24,\n",
       "  'title': 'Балашиха',\n",
       "  'area': 'Городской округ Балашиха район',\n",
       "  'region': 'Московская область'},\n",
       " {'id': 21613,\n",
       "  'title': 'Железнодорожный (Балашиха)',\n",
       "  'area': 'Городской округ Балашиха район',\n",
       "  'region': 'Московская область'}]"
      ]
     },
     "execution_count": 6,
     "metadata": {},
     "output_type": "execute_result"
    }
   ],
   "source": [
    "Cities = api.database.getCities(country_id=1, q=keyword_city)['items']\n",
    "Cities"
   ]
  },
  {
   "cell_type": "code",
   "execution_count": 7,
   "metadata": {},
   "outputs": [
    {
     "name": "stdout",
     "output_type": "stream",
     "text": [
      "24 \t Московская область Балашиха Городской округ Балашиха район\n",
      "21613 \t Московская область Железнодорожный (Балашиха) Городской округ Балашиха район\n"
     ]
    }
   ],
   "source": [
    "for city in Cities:\n",
    "    print(city['id'], \"\\t\", city['region'], city['title'], city['area'])"
   ]
  },
  {
   "cell_type": "code",
   "execution_count": 8,
   "metadata": {},
   "outputs": [],
   "source": [
    "# Поиск групп будет осуществляться только по первому городу из списка\n",
    "city_id = Cities[0]['id']\n",
    "city_name = Cities[0]['title']\n",
    "\n",
    "# Начинаем поиск по каждому ключевому слову по очереди\n",
    "for keyword in keywords_groups:\n",
    "\n",
    "    # Получаем список IDs групп города удовлетворяющих ключевому слову\n",
    "    group_ids = [g['id'] for g in api.groups.search(city_id=city_id, q=keyword, sort=2, count=500)['items']]\n",
    "\n",
    "    # Получаем список групп города удовлетворяющих ключевому слову\n",
    "    Groups = api.groups.getById(fields='members_count,contacts', group_ids=group_ids)"
   ]
  },
  {
   "cell_type": "code",
   "execution_count": 9,
   "metadata": {
    "collapsed": true
   },
   "outputs": [
    {
     "data": {
      "text/plain": [
       "[{'id': 96779849,\n",
       "  'name': 'Стальные двери Бастион-C',\n",
       "  'screen_name': 'bastionsdoors',\n",
       "  'is_closed': 0,\n",
       "  'type': 'group',\n",
       "  'members_count': 2571,\n",
       "  'contacts': [{'user_id': 397896396,\n",
       "    'desc': 'Менеджер-консультант ',\n",
       "    'phone': '+74955057080',\n",
       "    'email': 'dveri@bastion-s.ru'},\n",
       "   {'user_id': 237109628, 'desc': 'Дизайнер '}],\n",
       "  'photo_50': 'https://sun9-62.userapi.com/c638223/v638223996/262a0/WSXmxx4-8ao.jpg?ava=1',\n",
       "  'photo_100': 'https://sun9-67.userapi.com/c638223/v638223996/2629f/AZtv-tT_T2I.jpg?ava=1',\n",
       "  'photo_200': 'https://sun9-28.userapi.com/c638223/v638223996/2629e/Hop610F60yQ.jpg?ava=1'},\n",
       " {'id': 77485430,\n",
       "  'name': 'Двери Армада. Выбираем правильно!',\n",
       "  'screen_name': 'dveriarmada',\n",
       "  'is_closed': 0,\n",
       "  'type': 'page',\n",
       "  'members_count': 112,\n",
       "  'contacts': [{'user_id': 16257595,\n",
       "    'desc': 'Эксперт/Заявка на выезд мастера',\n",
       "    'phone': '74951254205',\n",
       "    'email': 'promo@dveri-armada.ru'}],\n",
       "  'photo_50': 'https://sun9-45.userapi.com/c844617/v844617414/151f0e/LNrJZxEno0E.jpg?ava=1',\n",
       "  'photo_100': 'https://sun9-22.userapi.com/c844617/v844617414/151f0d/eD3BROHEkrQ.jpg?ava=1',\n",
       "  'photo_200': 'https://sun9-47.userapi.com/c844617/v844617414/151f0c/tDgExVyXkl4.jpg?ava=1'},\n",
       " {'id': 84074989,\n",
       "  'name': 'Двери |TimArt Doors| Москва | Подмосковье|',\n",
       "  'screen_name': 'timartdvery',\n",
       "  'is_closed': 0,\n",
       "  'type': 'group',\n",
       "  'members_count': 1255,\n",
       "  'contacts': [{'phone': '8 925 555 40 30  ', 'email': 'mail@timartdoors.ru'},\n",
       "   {'phone': '8 916 562 99 25', 'email': 'mail@timartdoors.ru'}],\n",
       "  'photo_50': 'https://sun1-20.userapi.com/c857220/v857220500/6f6f2/6ReVC2b-XfA.jpg?ava=1',\n",
       "  'photo_100': 'https://sun1-90.userapi.com/c857220/v857220500/6f6f1/MeA-L6yQpFY.jpg?ava=1',\n",
       "  'photo_200': 'https://sun1-92.userapi.com/c857220/v857220500/6f6f0/aTeYRfusPBw.jpg?ava=1'},\n",
       " {'id': 178498648,\n",
       "  'name': 'Мои Двери',\n",
       "  'screen_name': 'club178498648',\n",
       "  'is_closed': 0,\n",
       "  'type': 'group',\n",
       "  'members_count': 148,\n",
       "  'contacts': [{'user_id': 375920059}],\n",
       "  'photo_50': 'https://sun9-50.userapi.com/c848736/v848736328/1c7f23/ovuWhi4HqN4.jpg?ava=1',\n",
       "  'photo_100': 'https://sun9-31.userapi.com/c848736/v848736328/1c7f22/qya2mCCJPa8.jpg?ava=1',\n",
       "  'photo_200': 'https://sun9-12.userapi.com/c848736/v848736328/1c7f21/EDYfJYKYjOQ.jpg?ava=1'},\n",
       " {'id': 147347745,\n",
       "  'name': 'Установка дверей, ремонт балконов. Балашиха',\n",
       "  'screen_name': 'club147347745',\n",
       "  'is_closed': 0,\n",
       "  'type': 'group',\n",
       "  'members_count': 288,\n",
       "  'contacts': [{'user_id': 308576095}],\n",
       "  'photo_50': 'https://sun9-2.userapi.com/c837325/v837325464/47b4c/GkASpGhOtM4.jpg?ava=1',\n",
       "  'photo_100': 'https://sun9-26.userapi.com/c837325/v837325464/47b4b/SrZFgLWXXBU.jpg?ava=1',\n",
       "  'photo_200': 'https://sun9-20.userapi.com/c837325/v837325464/47b4a/BrMPXrYAViI.jpg?ava=1'},\n",
       " {'id': 95963951,\n",
       "  'name': 'Межкомнатные и металлические двери.СТРОЙВЕСТ.',\n",
       "  'screen_name': 'club95963951',\n",
       "  'is_closed': 0,\n",
       "  'type': 'group',\n",
       "  'members_count': 2568,\n",
       "  'contacts': [{'user_id': 26986762}],\n",
       "  'photo_50': 'https://sun9-64.userapi.com/c837437/v837437762/2ebf0/L0i291BSqvg.jpg?ava=1',\n",
       "  'photo_100': 'https://sun9-68.userapi.com/c837437/v837437762/2ebef/lSlXt3-_e_c.jpg?ava=1',\n",
       "  'photo_200': 'https://sun9-72.userapi.com/c837437/v837437762/2ebed/6Ha-3zIad9Q.jpg?ava=1'},\n",
       " {'id': 130165257,\n",
       "  'name': 'Мир дверей',\n",
       "  'screen_name': 'dverin1',\n",
       "  'is_closed': 0,\n",
       "  'type': 'group',\n",
       "  'members_count': 25,\n",
       "  'contacts': [{'user_id': 205312602}],\n",
       "  'photo_50': 'https://sun9-25.userapi.com/c836236/v836236602/a544/9u3U0TAEA-g.jpg?ava=1',\n",
       "  'photo_100': 'https://sun9-5.userapi.com/c836236/v836236602/a543/89saDCBInzU.jpg?ava=1',\n",
       "  'photo_200': 'https://sun9-70.userapi.com/c836236/v836236602/a542/k-qkEp1-bx4.jpg?ava=1'},\n",
       " {'id': 139751651,\n",
       "  'name': 'Межкомнатные двери в Балашихе',\n",
       "  'screen_name': 'dveri_v_balashihe',\n",
       "  'is_closed': 0,\n",
       "  'type': 'group',\n",
       "  'members_count': 72,\n",
       "  'contacts': [{'user_id': 307843491}, {'user_id': 247429000}],\n",
       "  'photo_50': 'https://sun9-19.userapi.com/c837424/v837424491/224b3/z5SdBBvwg18.jpg?ava=1',\n",
       "  'photo_100': 'https://sun9-28.userapi.com/c837424/v837424491/224b2/FyoArGVcM28.jpg?ava=1',\n",
       "  'photo_200': 'https://sun9-27.userapi.com/c837424/v837424491/224b1/MhgWrVHxpiU.jpg?ava=1'},\n",
       " {'id': 114855219,\n",
       "  'name': 'Новое Измайлово \"Мебель Двери Окна ПВХ\"',\n",
       "  'screen_name': 'club114855219',\n",
       "  'is_closed': 0,\n",
       "  'type': 'page',\n",
       "  'members_count': 12,\n",
       "  'contacts': [{'user_id': 142888600},\n",
       "   {'user_id': 152179372, 'desc': 'редактор'},\n",
       "   {'user_id': 83038649}],\n",
       "  'photo_50': 'https://sun9-4.userapi.com/c629318/v629318600/3eb8d/eJVBZ2m2Mzo.jpg?ava=1',\n",
       "  'photo_100': 'https://sun9-55.userapi.com/c629318/v629318600/3eb8c/RAeKjWbjm8I.jpg?ava=1',\n",
       "  'photo_200': 'https://sun9-64.userapi.com/c629318/v629318600/3eb8a/wm_pLgrGygI.jpg?ava=1'},\n",
       " {'id': 88654849,\n",
       "  'name': 'BARIER-HOUSE стальные двери в Москве',\n",
       "  'screen_name': 'club88654849',\n",
       "  'is_closed': 0,\n",
       "  'type': 'group',\n",
       "  'members_count': 15,\n",
       "  'contacts': [{'user_id': 278636008}],\n",
       "  'photo_50': 'https://sun9-43.userapi.com/c622230/v622230008/216e0/sdzzE-gZrno.jpg?ava=1',\n",
       "  'photo_100': 'https://sun9-18.userapi.com/c622230/v622230008/216df/Z6ctfAlrass.jpg?ava=1',\n",
       "  'photo_200': 'https://sun9-7.userapi.com/c622230/v622230008/216de/mfMCALAvdV0.jpg?ava=1'}]"
      ]
     },
     "execution_count": 9,
     "metadata": {},
     "output_type": "execute_result"
    }
   ],
   "source": [
    "Groups"
   ]
  },
  {
   "cell_type": "markdown",
   "metadata": {},
   "source": [
    "### Пример 2"
   ]
  },
  {
   "cell_type": "code",
   "execution_count": 3,
   "metadata": {},
   "outputs": [
    {
     "name": "stdout",
     "output_type": "stream",
     "text": [
      "done\n"
     ]
    }
   ],
   "source": [
    "import vk\n",
    "access_token = ''\n",
    "v = '5.95'\n",
    "\n",
    "session = vk.Session(access_token=access_token)\n",
    "api = vk.API(session, v=v)\n",
    "\n",
    "api.wall.post(message=\"<This post was made by VK API gang>\")\n",
    "print('done')"
   ]
  },
  {
   "cell_type": "markdown",
   "metadata": {},
   "source": [
    "### Пример 3"
   ]
  },
  {
   "cell_type": "code",
   "execution_count": 15,
   "metadata": {},
   "outputs": [
    {
     "data": {
      "text/plain": [
       "[{'id': 176095929,\n",
       "  'first_name': 'Булат',\n",
       "  'last_name': 'Багавиев',\n",
       "  'is_closed': False,\n",
       "  'can_access_closed': True}]"
      ]
     },
     "execution_count": 15,
     "metadata": {},
     "output_type": "execute_result"
    }
   ],
   "source": [
    "profiles = api.users.get(user_id=176095929)\n",
    "profiles"
   ]
  },
  {
   "cell_type": "code",
   "execution_count": 17,
   "metadata": {},
   "outputs": [
    {
     "data": {
      "text/plain": [
       "{'count': 192123, 'items': [908, 1752]}"
      ]
     },
     "execution_count": 17,
     "metadata": {},
     "output_type": "execute_result"
    }
   ],
   "source": [
    "result = api.groups.getMembers(group_id='eternalclassic', count=2)\n",
    "result"
   ]
  },
  {
   "cell_type": "code",
   "execution_count": null,
   "metadata": {},
   "outputs": [],
   "source": []
  },
  {
   "cell_type": "code",
   "execution_count": null,
   "metadata": {},
   "outputs": [],
   "source": []
  },
  {
   "cell_type": "code",
   "execution_count": null,
   "metadata": {},
   "outputs": [],
   "source": []
  },
  {
   "cell_type": "code",
   "execution_count": null,
   "metadata": {},
   "outputs": [],
   "source": []
  }
 ],
 "metadata": {
  "kernelspec": {
   "display_name": "Python 3",
   "language": "python",
   "name": "python3"
  },
  "language_info": {
   "codemirror_mode": {
    "name": "ipython",
    "version": 3
   },
   "file_extension": ".py",
   "mimetype": "text/x-python",
   "name": "python",
   "nbconvert_exporter": "python",
   "pygments_lexer": "ipython3",
   "version": "3.7.4"
  }
 },
 "nbformat": 4,
 "nbformat_minor": 2
}
